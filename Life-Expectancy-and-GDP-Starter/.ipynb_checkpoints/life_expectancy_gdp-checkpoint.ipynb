{
 "cells": [
  {
   "cell_type": "markdown",
   "metadata": {},
   "source": [
    "# <center>PIB e Expectativa de Vida pela OMS</center>\n",
    "\n",
    "<img src=\"https://www.moneycrashers.com/wp-content/uploads/2019/04/gross-domestic-product-definition.jpg\" alt=\"GDP\" style=\"zoom:15%;\" />\n",
    "\n",
    "Este trabalho foi realizado por Vinicius Ferreira Amim, sendo o primeiro projeto voltado a Data Visualization de uma série de projetos em Ciência de Dados.\n",
    "\n",
    "Iremos analisar os dados do PIB e expectativa de vida extraídas da Organização Mundial de Saúde e o Banco Mundial, o objetivo é tentar identificar a relação entre o PIB e a expectativa de vida entre 6 países.\n",
    "\n",
    "Os dados foram obtidos pela [codeacademy](https://www.codecademy.com/) e através dos gráficos gerados faremos algumas conclusões.\n",
    "\n",
    "### 1. Introdução\n",
    "\n",
    "O produto interno bruto (PIB) é um indicador econômico, que, em linhas gerais, representa a soma (em valores monetários) de todos os bens e serviços finais produzidos numa determinada região. O PIB é um dos indicadores mais utilizados na macroeconomia para quantificar a atividade econômica de uma região.\n",
    "\n",
    "Um dos critérios de IDH (Índice de Desenvolvimento Humano) é a qualidade de vida segundo o Produto Interno Bruto per capita, que se refere ao total de bens e serviços produzidos durante um ano pelo país dividido pelo número de habitantes, indicando assim o que cada pessoa produziu. Esse critério reflete o padrão de vida de cada habitante.\n",
    "\n",
    "O conjunto de dados (dataset) nos fornece informações sobra 6 países, abaixo uma breve explicação sobre as colunas existentes e o que elas representam:\n",
    "\n",
    "- **Country / País** – *Nação*\n",
    "- **Year / Ano** – *O ano da observação*\n",
    "- **Life expectancy at birth (years) / Expectativa de vida ao nascer (anos)** – *Valor da expectativa de vida em anos.*\n",
    "- **GDP / PIB** – *Produto interno bruto em dólares americanos.*"
   ]
  },
  {
   "cell_type": "markdown",
   "metadata": {},
   "source": [
    "### 2. Hipóteses"
   ]
  },
  {
   "cell_type": "code",
   "execution_count": null,
   "metadata": {},
   "outputs": [],
   "source": []
  },
  {
   "cell_type": "markdown",
   "metadata": {},
   "source": [
    "### 3. Importação dos Pacotes\n",
    "\n",
    "Vamos importar as bibliotecas da linguagem de programação Python"
   ]
  },
  {
   "cell_type": "code",
   "execution_count": 1,
   "metadata": {},
   "outputs": [],
   "source": [
    "# Importando bibliotecas\n",
    "import numpy as np\n",
    "import pandas as pd\n",
    "import matplotlib.pyplot as plt\n",
    "import seaborn as sns\n",
    "%matplotlib inline\n",
    "\n",
    "# Importando Dataset\n",
    "df = pd.read_csv('all_data.csv')"
   ]
  },
  {
   "cell_type": "markdown",
   "metadata": {},
   "source": [
    "### 4. Exploração e Preparação do Dataset"
   ]
  },
  {
   "cell_type": "code",
   "execution_count": 5,
   "metadata": {},
   "outputs": [
    {
     "name": "stdout",
     "output_type": "stream",
     "text": [
      "  Country  Year  Life expectancy at birth (years)           GDP\n",
      "0   Chile  2000                              77.3  7.786093e+10\n",
      "1   Chile  2001                              77.3  7.097992e+10\n",
      "2   Chile  2002                              77.8  6.973681e+10\n",
      "3   Chile  2003                              77.9  7.564346e+10\n",
      "4   Chile  2004                              78.0  9.921039e+10\n",
      "Index(['Country', 'Year', 'Life expectancy at birth (years)', 'GDP'], dtype='object')\n"
     ]
    }
   ],
   "source": [
    "# Verificando o data set\n",
    "print(df.head())\n",
    "print(df.columns)"
   ]
  },
  {
   "cell_type": "code",
   "execution_count": 3,
   "metadata": {},
   "outputs": [
    {
     "data": {
      "text/plain": [
       "Country                             0\n",
       "Year                                0\n",
       "Life expectancy at birth (years)    0\n",
       "GDP                                 0\n",
       "dtype: int64"
      ]
     },
     "execution_count": 3,
     "metadata": {},
     "output_type": "execute_result"
    }
   ],
   "source": [
    "# Verificando valores NaN ou missing values\n",
    "df.isnull().sum()"
   ]
  },
  {
   "cell_type": "code",
   "execution_count": 25,
   "metadata": {},
   "outputs": [
    {
     "data": {
      "text/html": [
       "<div>\n",
       "<style scoped>\n",
       "    .dataframe tbody tr th:only-of-type {\n",
       "        vertical-align: middle;\n",
       "    }\n",
       "\n",
       "    .dataframe tbody tr th {\n",
       "        vertical-align: top;\n",
       "    }\n",
       "\n",
       "    .dataframe thead th {\n",
       "        text-align: right;\n",
       "    }\n",
       "</style>\n",
       "<table border=\"1\" class=\"dataframe\">\n",
       "  <thead>\n",
       "    <tr style=\"text-align: right;\">\n",
       "      <th></th>\n",
       "      <th>Country</th>\n",
       "      <th>Year</th>\n",
       "      <th>LEB</th>\n",
       "      <th>GDP</th>\n",
       "    </tr>\n",
       "  </thead>\n",
       "  <tbody>\n",
       "    <tr>\n",
       "      <th>0</th>\n",
       "      <td>Chile</td>\n",
       "      <td>2000</td>\n",
       "      <td>77.3</td>\n",
       "      <td>7.786093e+10</td>\n",
       "    </tr>\n",
       "    <tr>\n",
       "      <th>1</th>\n",
       "      <td>Chile</td>\n",
       "      <td>2001</td>\n",
       "      <td>77.3</td>\n",
       "      <td>7.097992e+10</td>\n",
       "    </tr>\n",
       "    <tr>\n",
       "      <th>2</th>\n",
       "      <td>Chile</td>\n",
       "      <td>2002</td>\n",
       "      <td>77.8</td>\n",
       "      <td>6.973681e+10</td>\n",
       "    </tr>\n",
       "    <tr>\n",
       "      <th>3</th>\n",
       "      <td>Chile</td>\n",
       "      <td>2003</td>\n",
       "      <td>77.9</td>\n",
       "      <td>7.564346e+10</td>\n",
       "    </tr>\n",
       "    <tr>\n",
       "      <th>4</th>\n",
       "      <td>Chile</td>\n",
       "      <td>2004</td>\n",
       "      <td>78.0</td>\n",
       "      <td>9.921039e+10</td>\n",
       "    </tr>\n",
       "  </tbody>\n",
       "</table>\n",
       "</div>"
      ],
      "text/plain": [
       "  Country  Year   LEB           GDP\n",
       "0   Chile  2000  77.3  7.786093e+10\n",
       "1   Chile  2001  77.3  7.097992e+10\n",
       "2   Chile  2002  77.8  6.973681e+10\n",
       "3   Chile  2003  77.9  7.564346e+10\n",
       "4   Chile  2004  78.0  9.921039e+10"
      ]
     },
     "execution_count": 25,
     "metadata": {},
     "output_type": "execute_result"
    }
   ],
   "source": [
    "# Vamos mudar o nome da coluna Life\n",
    "df.rename(columns = {\n",
    "    'Life expectancy at birth (years)' : 'LEB'\n",
    "}, inplace = True)\n",
    "\n",
    "df.head()"
   ]
  },
  {
   "cell_type": "markdown",
   "metadata": {},
   "source": [
    "Mudamos a coluna *'Life expectancy at birth (years)'* para uma abreviação *'LEB'* apenas para facilitar "
   ]
  },
  {
   "cell_type": "markdown",
   "metadata": {},
   "source": [
    "Ótimo, o dataset não tem valores nulos."
   ]
  },
  {
   "cell_type": "code",
   "execution_count": 24,
   "metadata": {},
   "outputs": [
    {
     "data": {
      "text/html": [
       "<div>\n",
       "<style scoped>\n",
       "    .dataframe tbody tr th:only-of-type {\n",
       "        vertical-align: middle;\n",
       "    }\n",
       "\n",
       "    .dataframe tbody tr th {\n",
       "        vertical-align: top;\n",
       "    }\n",
       "\n",
       "    .dataframe thead th {\n",
       "        text-align: right;\n",
       "    }\n",
       "</style>\n",
       "<table border=\"1\" class=\"dataframe\">\n",
       "  <thead>\n",
       "    <tr style=\"text-align: right;\">\n",
       "      <th></th>\n",
       "      <th>GDP</th>\n",
       "      <th>LEB</th>\n",
       "    </tr>\n",
       "    <tr>\n",
       "      <th>Country</th>\n",
       "      <th></th>\n",
       "      <th></th>\n",
       "    </tr>\n",
       "  </thead>\n",
       "  <tbody>\n",
       "    <tr>\n",
       "      <th>Germany</th>\n",
       "      <td>3.094776e+12</td>\n",
       "      <td>79.65625</td>\n",
       "    </tr>\n",
       "    <tr>\n",
       "      <th>Chile</th>\n",
       "      <td>1.697888e+11</td>\n",
       "      <td>78.94375</td>\n",
       "    </tr>\n",
       "    <tr>\n",
       "      <th>United States of America</th>\n",
       "      <td>1.407500e+13</td>\n",
       "      <td>78.06250</td>\n",
       "    </tr>\n",
       "    <tr>\n",
       "      <th>Mexico</th>\n",
       "      <td>9.766506e+11</td>\n",
       "      <td>75.71875</td>\n",
       "    </tr>\n",
       "    <tr>\n",
       "      <th>China</th>\n",
       "      <td>4.957714e+12</td>\n",
       "      <td>74.26250</td>\n",
       "    </tr>\n",
       "    <tr>\n",
       "      <th>Zimbabwe</th>\n",
       "      <td>9.062580e+09</td>\n",
       "      <td>50.09375</td>\n",
       "    </tr>\n",
       "  </tbody>\n",
       "</table>\n",
       "</div>"
      ],
      "text/plain": [
       "                                   GDP       LEB\n",
       "Country                                         \n",
       "Germany                   3.094776e+12  79.65625\n",
       "Chile                     1.697888e+11  78.94375\n",
       "United States of America  1.407500e+13  78.06250\n",
       "Mexico                    9.766506e+11  75.71875\n",
       "China                     4.957714e+12  74.26250\n",
       "Zimbabwe                  9.062580e+09  50.09375"
      ]
     },
     "execution_count": 24,
     "metadata": {},
     "output_type": "execute_result"
    }
   ],
   "source": [
    "# Agrupar os paises\n",
    "agrupar_paises = df.groupby('Country')[['GDP', 'LEB']].mean().sort_values(['LEB'], ascending=False)\n",
    "agrupar_paises"
   ]
  },
  {
   "cell_type": "markdown",
   "metadata": {},
   "source": [
    "### 5. Visualizando os dados"
   ]
  },
  {
   "cell_type": "code",
   "execution_count": null,
   "metadata": {},
   "outputs": [],
   "source": []
  }
 ],
 "metadata": {
  "hide_input": false,
  "kernelspec": {
   "display_name": "Python 3",
   "language": "python",
   "name": "python3"
  },
  "language_info": {
   "codemirror_mode": {
    "name": "ipython",
    "version": 3
   },
   "file_extension": ".py",
   "mimetype": "text/x-python",
   "name": "python",
   "nbconvert_exporter": "python",
   "pygments_lexer": "ipython3",
   "version": "3.8.5"
  }
 },
 "nbformat": 4,
 "nbformat_minor": 4
}
