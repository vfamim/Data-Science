{
 "cells": [
  {
   "cell_type": "markdown",
   "metadata": {},
   "source": [
    "# U.S. Medical Insurance Costs"
   ]
  },
  {
   "cell_type": "markdown",
   "metadata": {},
   "source": [
    "Para este projeto estaremos investigando um **Dataset de custo de seguro médico**. O arquivo se encontra em .csv e utilizaremos os conceitos de Python para analisá-lo."
   ]
  },
  {
   "cell_type": "markdown",
   "metadata": {},
   "source": [
    "### Objetivos do Projeto\n"
   ]
  },
  {
   "cell_type": "markdown",
   "metadata": {},
   "source": [
    "1. Importar um dataset no Jupyter Notebook\n",
    "2. Analisar o dataset utilizando métodos de 'class' e 'functions'\n",
    "3. Utilizar de livrarias para auxiliar na análise"
   ]
  },
  {
   "cell_type": "markdown",
   "metadata": {},
   "source": [
    "### 1. Importando livrarias"
   ]
  },
  {
   "cell_type": "code",
   "execution_count": 1,
   "metadata": {},
   "outputs": [],
   "source": [
    "import csv"
   ]
  },
  {
   "cell_type": "markdown",
   "metadata": {},
   "source": [
    "### 2. Escopo do projeto"
   ]
  },
  {
   "cell_type": "markdown",
   "metadata": {},
   "source": [
    "**O que iremos avaliar**\n",
    "\n",
    "1. Idade média dos pacientes\n",
    "2. Média dos gastos com seguro médico\n",
    "3. A região majoritária dos pacientes\n",
    "4. Diferença de custo entre paciente fumante e não fumante"
   ]
  },
  {
   "cell_type": "markdown",
   "metadata": {},
   "source": [
    "### 3. Carregando a base de dados"
   ]
  },
  {
   "cell_type": "markdown",
   "metadata": {},
   "source": [
    "Agora vamos abrir o documento **insurance.csv** e fazer uma leitura deste Dataset."
   ]
  },
  {
   "cell_type": "code",
   "execution_count": 2,
   "metadata": {},
   "outputs": [
    {
     "name": "stdout",
     "output_type": "stream",
     "text": [
      "age,sex,bmi,children,smoker,region,charges\n",
      "19,female,27.9,0,yes,southwest,16884.924\n",
      "18,male,33.77,1,no,southeast,1725.5523\n",
      "28,male,33,3,no,southeast,4449.462\n",
      "33,male,22.705,0,no,northwest,21984.47061\n",
      "32,male,28.88,0,no,northwest,3866.8552\n",
      "31,female,25.74,0,no,southeast,3756.6216\n",
      "46,female,33.44,1,no,southeast,8240.5896\n",
      "\n"
     ]
    }
   ],
   "source": [
    "with open('insurance.csv') as insurance:\n",
    "    print(insurance.read()[0:321])"
   ]
  },
  {
   "cell_type": "markdown",
   "metadata": {},
   "source": [
    "Possuimos então os seguintes dados:\n",
    "* **age** - A idade do paciente (int)\n",
    "* **sex** - O sexo do paciente (boolean)\n",
    "* **bmi** - O índice de massa corporal (BMI), provém um entendimento sobre o corpo dado pela fórmula $ BMI = PESO/ALTURA $, a faixa ideal é de 18.5 para 24.9(float)\n",
    "* **children** - Número de crianças cobertas pelo seguro (int)\n",
    "* **smoker** - O paciente fuma ou não (boolean)\n",
    "* **region** - A região do paciente de acordo com o mapa americano (US Geographical Region) (int)\n",
    "* **charges** - Custo do paciente com seguro médico (float)"
   ]
  },
  {
   "cell_type": "markdown",
   "metadata": {},
   "source": [
    "### 4. Preparando os dados"
   ]
  },
  {
   "cell_type": "code",
   "execution_count": 3,
   "metadata": {},
   "outputs": [],
   "source": [
    "#vamos fazer listas para cada termo:\n",
    "age = []\n",
    "sex = []\n",
    "bmi = []\n",
    "children = []\n",
    "smoker = []\n",
    "region = []\n",
    "charges = []"
   ]
  },
  {
   "cell_type": "markdown",
   "metadata": {},
   "source": [
    "A criação de listas vazias irá nos ajudar na análise de cada componente individualmente, agora vamos preencher essas listas criando uma função:"
   ]
  },
  {
   "cell_type": "code",
   "execution_count": 4,
   "metadata": {},
   "outputs": [],
   "source": [
    "# Função para abrir os arquivos e adicionar as listas\n",
    "def insurance_data(csv_file, list_insurance, column_insurance):\n",
    "    # Abrir o arquivo csv\n",
    "    with open(csv_file) as csv_name:\n",
    "        csv_dict = csv.DictReader(csv_name)\n",
    "        for row in csv_dict:\n",
    "            list_insurance.append(row[column_insurance])\n",
    "        return list_insurance\n",
    "        "
   ]
  },
  {
   "cell_type": "markdown",
   "metadata": {},
   "source": [
    "Com a criação da função podemos verificar cada componente, como o dataset é grande, foi colocado # nos prints. "
   ]
  },
  {
   "cell_type": "code",
   "execution_count": 5,
   "metadata": {},
   "outputs": [],
   "source": [
    "age_load = insurance_data('insurance.csv', age, 'age')\n",
    "sex_load = insurance_data('insurance.csv', sex, 'sex')\n",
    "bmi_load = insurance_data('insurance.csv', bmi, 'bmi')\n",
    "smoker_load = insurance_data('insurance.csv', smoker, 'smoker')\n",
    "region_load = insurance_data('insurance.csv', region, 'region')\n",
    "charges_load = insurance_data('insurance.csv', charges, 'charges')\n",
    "#print(age_load)\n",
    "#print(sex_load)\n",
    "#print(bmi_load)\n",
    "#print(smoker_load)\n",
    "#print(region_load)\n",
    "#print(charges_load)"
   ]
  },
  {
   "cell_type": "markdown",
   "metadata": {},
   "source": [
    "Agora que já podemos vizualizar os dados separadamente, vamos criar uma classe chamada **Paciente_Info**, que possui os seguintes métodos:\n",
    "* media_age\n",
    "* media_insurance\n",
    "* region_patient\n",
    "* smoker_patient\n",
    "* patient_sex"
   ]
  },
  {
   "cell_type": "code",
   "execution_count": 6,
   "metadata": {},
   "outputs": [],
   "source": [
    "#Criando uma classe\n",
    "class Paciente_Info:\n",
    "    # Vamos utilizar o construtor inicial:\n",
    "    def __init__(self, ages, sexes, bmis, smokers, regions, insurance):\n",
    "        self.ages = ages\n",
    "        self.sexes = sexes\n",
    "        self.bmis = bmis\n",
    "        self.smokers = smokers\n",
    "        self.regions = regions\n",
    "        self.insurance = insurance\n",
    "    \n",
    "    # Definir a função para calcular a média da idade dos pacientes\n",
    "    def media_age(self):\n",
    "        age_total = 0\n",
    "        for age in self.ages:\n",
    "            age_total += int(age)\n",
    "        return f'A média da idade dos pacientes é de {round(age_total/len(self.ages), 2)}'\n",
    "    \n",
    "    # Média dos gastos com seguro médico\n",
    "    def media_insurance(self):\n",
    "        insurance_total = 0\n",
    "        for charges in self.insurance:\n",
    "            insurance_total += float(charges)\n",
    "        print(f'A média total de gastos com seguro médico é de {round(insurance_total/len(self.insurance), 2)}')\n",
    "        print(f'O total de gastos com seguro médico é de {round(insurance_total, 2)}')\n",
    "    \n",
    "\n",
    "    # Definir a quantidade de pacientes por região\n",
    "    def region_patient(self):\n",
    "        northwest = 0\n",
    "        southwest = 0\n",
    "        northeast = 0\n",
    "        southeast = 0\n",
    "        for reg in self.regions:    \n",
    "            if reg == 'northwest':\n",
    "                northwest += 1\n",
    "            elif reg == 'southwest':\n",
    "                southwest += 1\n",
    "            elif reg == 'northeast':\n",
    "                northeast += 1\n",
    "            elif reg == 'southeast':\n",
    "                southeast += 1\n",
    "        print('A quantidade de pessoas por região é:')\n",
    "        print(f'Northwest: {northwest}')\n",
    "        print(f\"Southwest: {southwest}\")\n",
    "        print(f'Northeast: {northeast}')\n",
    "        print(f'Southeast: {southeast}')\n",
    "    \n",
    "    # Diferença entre pacientes fumantes e não fumantes\n",
    "    def smoker_patient(self):\n",
    "        smoking_total_yes = 0\n",
    "        smoking_total_no = 0\n",
    "        for smok in self.smokers:\n",
    "            if smok == 'yes':\n",
    "                smoking_total_yes += 1\n",
    "            elif smok =='no':\n",
    "                smoking_total_no += 1\n",
    "        print(f'A quantidade de pacientes fumantes é de: {smoking_total_yes}')\n",
    "        print(f'A quantidade de pacientes não fumantes é de: {smoking_total_no}')\n",
    "        \n",
    "    # Quantidade de pacientes do sexo masculino e feminino\n",
    "    def patient_sex(self):\n",
    "        male = 0\n",
    "        female = 0\n",
    "        for sex in self.sexes:\n",
    "            if sex == 'male':\n",
    "                male += 1\n",
    "            elif sex == 'female':\n",
    "                female += 1\n",
    "        print(f'A quantidade de pacientes do sexo masculino é de: {male}')\n",
    "        print(f'A quantidade de pacientes do sexo feminino é de: {female}')\n",
    "        \n",
    "    # Criar um dicionário\n",
    "    def patient_dic(self):\n",
    "        self.dict = {}\n",
    "        self.dict['Age'] = self.ages\n",
    "        self.dict['Sex'] = self.sexes\n",
    "        self.dict['BMI'] = self.bmis\n",
    "        self.dict['Smoke'] = self.smokers\n",
    "        self.dict['Region'] = self.regions\n",
    "        self.dict['Charge'] = self.insurance\n",
    "        return self.dict\n"
   ]
  },
  {
   "cell_type": "markdown",
   "metadata": {},
   "source": [
    "### 5. Visualizando os resultados"
   ]
  },
  {
   "cell_type": "markdown",
   "metadata": {},
   "source": [
    "Agora que já definimos todos os parâmetros, vamos começar a levantar hipóteses.\n",
    "\n",
    "Vamos agora criar uma variável **info_pacientes** para instanciar a classe."
   ]
  },
  {
   "cell_type": "code",
   "execution_count": 7,
   "metadata": {},
   "outputs": [],
   "source": [
    "info_pacientes = Paciente_Info(age, sex, bmi, smoker, region, charges)"
   ]
  },
  {
   "cell_type": "code",
   "execution_count": 8,
   "metadata": {},
   "outputs": [
    {
     "data": {
      "text/plain": [
       "'A média da idade dos pacientes é de 39.21'"
      ]
     },
     "execution_count": 8,
     "metadata": {},
     "output_type": "execute_result"
    }
   ],
   "source": [
    "info_pacientes.media_age()"
   ]
  },
  {
   "cell_type": "markdown",
   "metadata": {},
   "source": [
    "Essa é uma resposta de grande valor, podemos observar que pacientes próximo dos 40 costumam ter seguros médicos, futuramente poderemos tratar melhor com essa informação."
   ]
  },
  {
   "cell_type": "code",
   "execution_count": 9,
   "metadata": {},
   "outputs": [
    {
     "name": "stdout",
     "output_type": "stream",
     "text": [
      "A média total de gastos com seguro médico é de 13270.42\n",
      "O total de gastos com seguro médico é de 17755824.99\n"
     ]
    }
   ],
   "source": [
    "info_pacientes.media_insurance()"
   ]
  },
  {
   "cell_type": "markdown",
   "metadata": {},
   "source": [
    "Esses valores podem ser úteis em futuras análises, poderemos analisar o impacto do seguro médico com relação a idade dos pacientes, se fumantes costumam ter mais gastos, o quão impactante uma criança pode ser etc."
   ]
  },
  {
   "cell_type": "code",
   "execution_count": 10,
   "metadata": {},
   "outputs": [
    {
     "name": "stdout",
     "output_type": "stream",
     "text": [
      "A quantidade de pessoas por região é:\n",
      "Northwest: 325\n",
      "Southwest: 325\n",
      "Northeast: 324\n",
      "Southeast: 364\n"
     ]
    }
   ],
   "source": [
    "info_pacientes.region_patient()"
   ]
  },
  {
   "cell_type": "markdown",
   "metadata": {},
   "source": [
    "A região Southeast é a região majoritária dos pacientes, as outras possuem valores similares. Futuramente essa informação poderá ser útil."
   ]
  },
  {
   "cell_type": "code",
   "execution_count": 11,
   "metadata": {},
   "outputs": [
    {
     "name": "stdout",
     "output_type": "stream",
     "text": [
      "A quantidade de pacientes fumantes é de: 274\n",
      "A quantidade de pacientes não fumantes é de: 1064\n"
     ]
    }
   ],
   "source": [
    "info_pacientes.smoker_patient()"
   ]
  },
  {
   "cell_type": "code",
   "execution_count": 12,
   "metadata": {},
   "outputs": [
    {
     "name": "stdout",
     "output_type": "stream",
     "text": [
      " A parcela de pacientes fumantes é de: 20.48%\n",
      " A parcela de pacientes não fumantes é de: 79.52%\n"
     ]
    }
   ],
   "source": [
    "print(f' A parcela de pacientes fumantes é de: {round((274/(1064+274)) * 100, 2)}%')\n",
    "print(f' A parcela de pacientes não fumantes é de: {round((1064/(1064+274)) * 100, 2)}%')"
   ]
  },
  {
   "cell_type": "markdown",
   "metadata": {},
   "source": [
    "Cerca de 20.48% dos pacientes são fumantes."
   ]
  },
  {
   "cell_type": "code",
   "execution_count": 13,
   "metadata": {},
   "outputs": [
    {
     "name": "stdout",
     "output_type": "stream",
     "text": [
      "A quantidade de pacientes do sexo masculino é de: 676\n",
      "A quantidade de pacientes do sexo feminino é de: 662\n"
     ]
    }
   ],
   "source": [
    "info_pacientes.patient_sex()"
   ]
  },
  {
   "cell_type": "markdown",
   "metadata": {},
   "source": [
    "O dataset apresenta um modelo equilibrado quanto ao sexo dos pacientes. Geralmente é preciso cautela com relação a esses números uma vez que no mundo real os dados nem sempre possuem equilíbrio."
   ]
  },
  {
   "cell_type": "markdown",
   "metadata": {},
   "source": [
    "Agora vamos criar um dicionário python para esse DataSet:"
   ]
  },
  {
   "cell_type": "code",
   "execution_count": 16,
   "metadata": {},
   "outputs": [
    {
     "name": "stdout",
     "output_type": "stream",
     "text": [
      "['19', '18', '28', '33', '32', '31', '46', '37', '37', '60', '25', '62', '23', '56', '27', '19', '52', '23', '56', '30', '60', '30', '18', '34', '37', '59', '63', '55', '23', '31', '22', '18', '19', '63', '28', '19', '62', '26', '35', '60', '24', '31', '41', '37', '38', '55', '18', '28', '60', '36', '18', '21', '48', '36', '40', '58', '58', '18', '53', '34', '43', '25', '64', '28', '20', '19', '61', '40', '40', '28', '27', '31', '53', '58', '44', '57', '29', '21', '22', '41', '31', '45', '22', '48', '37', '45', '57', '56', '46', '55', '21', '53', '59', '35', '64', '28', '54', '55', '56', '38', '41', '30', '18', '61', '34', '20', '19', '26', '29', '63', '54', '55', '37', '21', '52', '60', '58', '29', '49', '37', '44', '18', '20', '44', '47', '26', '19', '52', '32', '38', '59', '61', '53', '19', '20', '22', '19', '22', '54', '22', '34', '26', '34', '29', '30', '29', '46', '51', '53', '19', '35', '48', '32', '42', '40', '44', '48', '18', '30', '50', '42', '18', '54', '32', '37', '47', '20', '32', '19', '27', '63', '49', '18', '35', '24', '63', '38', '54', '46', '41', '58', '18', '22', '44', '44', '36', '26', '30', '41', '29', '61', '36', '25', '56', '18', '19', '39', '45', '51', '64', '19', '48', '60', '27', '46', '28', '59', '35', '63', '40', '20', '40', '24', '34', '45', '41', '53', '27', '26', '24', '34', '53', '32', '19', '42', '55', '28', '58', '41', '47', '42', '59', '19', '59', '39', '40', '18', '31', '19', '44', '23', '33', '55', '40', '63', '54', '60', '24', '19', '29', '18', '63', '54', '27', '50', '55', '56', '38', '51', '19', '58', '20', '52', '19', '53', '46', '40', '59', '45', '49', '18', '50', '41', '50', '25', '47', '19', '22', '59', '51', '40', '54', '30', '55', '52', '46', '46', '63', '59', '52', '28', '29', '25', '22', '25', '18', '19', '47', '31', '48', '36', '53', '56', '28', '57', '29', '28', '30', '58', '41', '50', '19', '43', '49', '27', '52', '50', '54', '44', '32', '34', '26', '34', '57', '29', '40', '27', '45', '64', '52', '61', '52', '61', '56', '43', '64', '60', '62', '50', '46', '24', '62', '60', '63', '49', '34', '33', '46', '36', '19', '57', '50', '30', '33', '18', '46', '46', '47', '23', '18', '48', '35', '19', '21', '21', '49', '56', '42', '44', '18', '61', '57', '42', '26', '20', '23', '39', '24', '64', '62', '27', '55', '55', '35', '44', '19', '58', '50', '26', '24', '48', '19', '48', '49', '46', '46', '43', '21', '64', '18', '51', '47', '64', '49', '31', '52', '33', '47', '38', '32', '19', '44', '26', '25', '19', '43', '52', '36', '64', '63', '64', '61', '40', '25', '48', '45', '38', '18', '21', '27', '19', '29', '42', '60', '31', '60', '22', '35', '52', '26', '31', '33', '18', '59', '56', '45', '60', '56', '40', '35', '39', '30', '24', '20', '32', '59', '55', '57', '56', '40', '49', '42', '62', '56', '19', '30', '60', '56', '28', '18', '27', '18', '19', '47', '54', '61', '24', '25', '21', '23', '63', '49', '18', '51', '48', '31', '54', '19', '44', '53', '19', '61', '18', '61', '21', '20', '31', '45', '44', '62', '29', '43', '51', '19', '38', '37', '22', '21', '24', '57', '56', '27', '51', '19', '39', '58', '20', '45', '35', '31', '50', '32', '51', '38', '42', '18', '19', '51', '46', '18', '57', '62', '59', '37', '64', '38', '33', '46', '46', '53', '34', '20', '63', '54', '54', '49', '28', '54', '25', '43', '63', '32', '62', '52', '25', '28', '46', '34', '35', '19', '46', '54', '27', '50', '18', '19', '38', '41', '49', '48', '31', '18', '30', '62', '57', '58', '22', '31', '52', '25', '59', '19', '39', '32', '19', '33', '21', '34', '61', '38', '58', '47', '20', '21', '41', '46', '42', '34', '43', '52', '18', '51', '56', '64', '19', '51', '27', '59', '28', '30', '47', '38', '18', '34', '20', '47', '56', '49', '19', '55', '30', '37', '49', '18', '59', '29', '36', '33', '58', '44', '53', '24', '29', '40', '51', '64', '19', '35', '39', '56', '33', '42', '61', '23', '43', '48', '39', '40', '18', '58', '49', '53', '48', '45', '59', '52', '26', '27', '48', '57', '37', '57', '32', '18', '64', '43', '49', '40', '62', '40', '30', '29', '36', '41', '44', '45', '55', '60', '56', '49', '21', '19', '39', '53', '33', '53', '42', '40', '47', '27', '21', '47', '20', '24', '27', '26', '53', '41', '56', '23', '21', '50', '53', '34', '47', '33', '51', '49', '31', '36', '18', '50', '43', '20', '24', '60', '49', '60', '51', '58', '51', '53', '62', '19', '50', '30', '41', '29', '18', '41', '35', '53', '24', '48', '59', '49', '37', '26', '23', '29', '45', '27', '53', '31', '50', '50', '34', '19', '47', '28', '37', '21', '64', '58', '24', '31', '39', '47', '30', '18', '22', '23', '33', '27', '45', '57', '47', '42', '64', '38', '61', '53', '44', '19', '41', '51', '40', '45', '35', '53', '30', '18', '51', '50', '31', '35', '60', '21', '29', '62', '39', '19', '22', '53', '39', '27', '30', '30', '58', '33', '42', '64', '21', '18', '23', '45', '40', '19', '18', '25', '46', '33', '54', '28', '36', '20', '24', '23', '47', '33', '45', '26', '18', '44', '60', '64', '56', '36', '41', '39', '63', '36', '28', '58', '36', '42', '36', '56', '35', '59', '21', '59', '23', '57', '53', '60', '51', '23', '27', '55', '37', '61', '46', '53', '49', '20', '48', '25', '25', '57', '37', '38', '55', '36', '51', '40', '18', '57', '61', '25', '50', '26', '42', '43', '44', '23', '49', '33', '41', '37', '22', '23', '21', '51', '25', '32', '57', '36', '22', '57', '64', '36', '54', '47', '62', '61', '43', '19', '18', '19', '49', '60', '26', '49', '60', '26', '27', '44', '63', '32', '22', '18', '59', '44', '33', '24', '43', '45', '61', '35', '62', '62', '38', '34', '43', '50', '19', '57', '62', '41', '26', '39', '46', '45', '32', '59', '44', '39', '18', '53', '18', '50', '18', '19', '62', '56', '42', '37', '42', '25', '57', '51', '30', '44', '34', '31', '54', '24', '43', '48', '19', '29', '63', '46', '52', '35', '51', '44', '21', '39', '50', '34', '22', '19', '26', '29', '48', '26', '45', '36', '54', '34', '31', '27', '20', '44', '43', '45', '34', '24', '26', '38', '50', '38', '27', '39', '39', '63', '33', '36', '30', '24', '24', '48', '47', '29', '28', '47', '25', '51', '48', '43', '61', '48', '38', '59', '19', '26', '54', '21', '51', '22', '47', '18', '47', '21', '19', '23', '54', '37', '46', '55', '30', '18', '61', '54', '22', '45', '22', '19', '35', '18', '20', '28', '55', '43', '43', '22', '25', '49', '44', '64', '49', '47', '27', '55', '48', '45', '24', '32', '24', '57', '59', '36', '29', '42', '48', '39', '63', '54', '37', '63', '21', '54', '60', '32', '47', '21', '28', '63', '18', '32', '38', '32', '62', '39', '55', '57', '52', '56', '47', '55', '23', '22', '50', '18', '51', '22', '52', '25', '33', '53', '29', '58', '37', '54', '49', '50', '26', '45', '54', '38', '48', '28', '23', '55', '41', '25', '33', '30', '23', '46', '53', '27', '23', '63', '55', '35', '34', '19', '39', '27', '57', '52', '28', '50', '44', '26', '33', '19', '50', '41', '52', '39', '50', '52', '60', '20', '55', '42', '18', '58', '43', '35', '48', '36', '19', '23', '20', '32', '43', '34', '30', '18', '41', '35', '57', '29', '32', '37', '18', '43', '56', '38', '29', '22', '52', '40', '23', '31', '42', '24', '25', '48', '23', '45', '20', '62', '43', '23', '31', '41', '58', '48', '31', '19', '19', '41', '40', '31', '37', '46', '22', '51', '18', '35', '59', '36', '37', '59', '36', '39', '18', '52', '27', '18', '40', '29', '46', '38', '30', '40', '50', '20', '41', '33', '38', '42', '56', '58', '52', '20', '54', '58', '45', '26', '63', '58', '37', '25', '52', '64', '22', '28', '18', '28', '45', '33', '18', '32', '24', '19', '20', '40', '34', '42', '51', '54', '55', '52', '32', '28', '41', '43', '49', '64', '55', '24', '20', '45', '26', '25', '43', '35', '26', '57', '22', '32', '39', '25', '48', '47', '18', '18', '61', '47', '28', '36', '20', '44', '38', '19', '21', '46', '58', '20', '18', '28', '33', '19', '45', '62', '25', '43', '42', '24', '29', '32', '25', '41', '42', '33', '34', '19', '30', '18', '19', '18', '35', '39', '31', '62', '62', '42', '31', '61', '42', '51', '23', '52', '57', '23', '52', '50', '18', '18', '21', '61']\n"
     ]
    }
   ],
   "source": [
    "dict_pacientes = info_pacientes.patient_dic()\n",
    "print(dict_pacientes['Age'])"
   ]
  },
  {
   "cell_type": "markdown",
   "metadata": {},
   "source": [
    "Para analisar todo o dataset basta utilizar o print(dict_pacientes). \n",
    "Com a criação deste dicionário teremos uma maior facilidade em análises futuras."
   ]
  }
 ],
 "metadata": {
  "hide_input": false,
  "kernelspec": {
   "display_name": "Python 3",
   "language": "python",
   "name": "python3"
  },
  "language_info": {
   "codemirror_mode": {
    "name": "ipython",
    "version": 3
   },
   "file_extension": ".py",
   "mimetype": "text/x-python",
   "name": "python",
   "nbconvert_exporter": "python",
   "pygments_lexer": "ipython3",
   "version": "3.8.5"
  }
 },
 "nbformat": 4,
 "nbformat_minor": 4
}
