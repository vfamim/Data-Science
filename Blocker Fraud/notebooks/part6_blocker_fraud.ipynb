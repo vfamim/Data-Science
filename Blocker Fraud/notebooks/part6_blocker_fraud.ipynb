{
 "cells": [
  {
   "source": [
    "# Part 06 RESULTS"
   ],
   "cell_type": "markdown",
   "metadata": {}
  },
  {
   "source": [
    "# 0.0. Imports"
   ],
   "cell_type": "markdown",
   "metadata": {}
  },
  {
   "cell_type": "code",
   "execution_count": 1,
   "metadata": {},
   "outputs": [],
   "source": [
    "# Data manipulation\n",
    "import pandas as pd\n",
    "import numpy as np\n",
    "\n",
    "# Graphs\n",
    "import matplotlib.pyplot as plt\n",
    "import seaborn as sns\n",
    "\n",
    "# Save files\n",
    "import pickle\n",
    "\n",
    "# Warning\n",
    "import warnings\n",
    "warnings.filterwarnings( 'ignore' )"
   ]
  },
  {
   "source": [
    "## 0.1. Helper Functions"
   ],
   "cell_type": "markdown",
   "metadata": {}
  },
  {
   "cell_type": "code",
   "execution_count": 8,
   "metadata": {},
   "outputs": [],
   "source": [
    "# Checking model performance\n",
    "def Check(df):\n",
    "   if df['Predictions']== df['is_fraud']:\n",
    "      return \"True\"\n",
    "   else:\n",
    "      return \"False\" "
   ]
  },
  {
   "source": [
    "# 11.0. Business Performance"
   ],
   "cell_type": "markdown",
   "metadata": {}
  },
  {
   "cell_type": "code",
   "execution_count": 2,
   "metadata": {},
   "outputs": [],
   "source": [
    "# Load dataset\n",
    "feature_dtypes = {'step': 'float32',\n",
    "                  'type': 'uint8',\n",
    "                  'amount': 'float32',\n",
    "                  'oldbalance_orig': 'float32',\n",
    "                  'newbalance_orig': 'float32',\n",
    "                  'oldbalance_dest': 'float32',\n",
    "                  'newbalance_dest': 'float32',\n",
    "                  'is_fraud': 'uint8',\n",
    "                  'is_flagged_fraud': 'uint8',\n",
    "                  'error_orig' : 'float32',\n",
    "                  'error_dest' : 'float32',\n",
    "                  'dest_type' : 'uint8',\n",
    "                  'days' : 'float32'}\n",
    "\n",
    "\n",
    "df4 = pd.read_csv('dataset\\df3.csv', dtype=feature_dtypes)"
   ]
  },
  {
   "source": [
    "# Load dataset 2\n",
    "# Load dataset\n",
    "feature_dtypes = {'step': 'int16',\n",
    "                  'type': 'category',\n",
    "                  'amount': 'float32',\n",
    "                  'name_orig': 'object',\n",
    "                  'oldbalance_orig': 'float32',\n",
    "                  'newbalance_orig': 'float32',\n",
    "                  'name_dest': 'object',\n",
    "                  'oldbalance_dest': 'float32',\n",
    "                  'newbalance_dest': 'float32',\n",
    "                  'is_fraud': 'uint8',\n",
    "                  'is_flagged_fraud': 'uint8',\n",
    "                  'error_orig' : 'float32',\n",
    "                  'error_dest' : 'float32',\n",
    "                  'dest_type' : 'category',\n",
    "                  'days' : 'int8'}\n",
    "\n",
    "df5 = pd.read_csv('dataset\\df2.csv', dtype=feature_dtypes)"
   ],
   "cell_type": "code",
   "metadata": {},
   "execution_count": 28,
   "outputs": []
  },
  {
   "cell_type": "code",
   "execution_count": 4,
   "metadata": {},
   "outputs": [],
   "source": [
    "# Machine Learning featuers\n",
    "boruta_select = ['step',\n",
    " 'type',\n",
    " 'amount',\n",
    " 'oldbalance_orig',\n",
    " 'newbalance_orig',\n",
    " 'oldbalance_dest',\n",
    " 'newbalance_dest',\n",
    " 'is_flagged_fraud',\n",
    " 'error_orig',\n",
    " 'error_dest',\n",
    " 'dest_type',\n",
    " 'days']"
   ]
  },
  {
   "cell_type": "code",
   "execution_count": 3,
   "metadata": {},
   "outputs": [],
   "source": [
    "# Load Machine Learning Models\n",
    "rfc_tunned = pickle.load(open('models/rfc_tunned.pkl', 'rb'))"
   ]
  },
  {
   "source": [
    "## 11.1. What is the model's *precision* and *accuracy*?"
   ],
   "cell_type": "markdown",
   "metadata": {}
  },
  {
   "source": [
    "### 11.1.1. Performance"
   ],
   "cell_type": "markdown",
   "metadata": {}
  },
  {
   "cell_type": "code",
   "execution_count": 6,
   "metadata": {},
   "outputs": [
    {
     "output_type": "execute_result",
     "data": {
      "text/plain": [
       "                  NAME  ACCURACY   PRECISION   RECALL        F1        ROC\n",
       "0             Baseline   0.499483   0.001250  0.495950  0.002493  0.497719\n",
       "1  Logistic Regression   0.960864   0.027490  0.873520  0.053303  0.917247\n",
       "2        Random Forest   0.999994   0.998751  0.996262  0.997505  0.998130\n",
       "3   XGBoost Classifier   0.999939   0.957460  0.995639  0.976176  0.997790\n",
       "4       Random Forest+   0.999991   0.996883  0.996262  0.996572  0.998129"
      ],
      "text/html": "<div>\n<style scoped>\n    .dataframe tbody tr th:only-of-type {\n        vertical-align: middle;\n    }\n\n    .dataframe tbody tr th {\n        vertical-align: top;\n    }\n\n    .dataframe thead th {\n        text-align: right;\n    }\n</style>\n<table border=\"1\" class=\"dataframe\">\n  <thead>\n    <tr style=\"text-align: right;\">\n      <th></th>\n      <th>NAME</th>\n      <th>ACCURACY</th>\n      <th>PRECISION</th>\n      <th>RECALL</th>\n      <th>F1</th>\n      <th>ROC</th>\n    </tr>\n  </thead>\n  <tbody>\n    <tr>\n      <th>0</th>\n      <td>Baseline</td>\n      <td>0.499483</td>\n      <td>0.001250</td>\n      <td>0.495950</td>\n      <td>0.002493</td>\n      <td>0.497719</td>\n    </tr>\n    <tr>\n      <th>1</th>\n      <td>Logistic Regression</td>\n      <td>0.960864</td>\n      <td>0.027490</td>\n      <td>0.873520</td>\n      <td>0.053303</td>\n      <td>0.917247</td>\n    </tr>\n    <tr>\n      <th>2</th>\n      <td>Random Forest</td>\n      <td>0.999994</td>\n      <td>0.998751</td>\n      <td>0.996262</td>\n      <td>0.997505</td>\n      <td>0.998130</td>\n    </tr>\n    <tr>\n      <th>3</th>\n      <td>XGBoost Classifier</td>\n      <td>0.999939</td>\n      <td>0.957460</td>\n      <td>0.995639</td>\n      <td>0.976176</td>\n      <td>0.997790</td>\n    </tr>\n    <tr>\n      <th>4</th>\n      <td>Random Forest+</td>\n      <td>0.999991</td>\n      <td>0.996883</td>\n      <td>0.996262</td>\n      <td>0.996572</td>\n      <td>0.998129</td>\n    </tr>\n  </tbody>\n</table>\n</div>"
     },
     "metadata": {},
     "execution_count": 6
    }
   ],
   "source": [
    "df_results = pd.read_csv('dataset/results.csv')\n",
    "df_results"
   ]
  },
  {
   "source": [
    "## 11.2. How reliable is the model in classifying transactions as *legitimate* or *fraudulent*?"
   ],
   "cell_type": "markdown",
   "metadata": {}
  },
  {
   "source": [
    "### 11.2.1. Real Performance"
   ],
   "cell_type": "markdown",
   "metadata": {}
  },
  {
   "cell_type": "code",
   "execution_count": 7,
   "metadata": {},
   "outputs": [
    {
     "output_type": "execute_result",
     "data": {
      "text/plain": [
       "                           real_accuracy  std_accuracy  real_precision  \\\n",
       "Logistic Regression               0.9164        0.0045          0.9447   \n",
       "Random Forest Classifier          1.0000        0.0000          1.0000   \n",
       "XGBoost Classifier                0.9985        0.0002          0.9999   \n",
       "Random Forest Classifier+         0.9987        0.0003          1.0000   \n",
       "\n",
       "                            std_precision  real_recall   std_recall  real_f1  \\\n",
       "Logistic Regression                0.0277       0.8851       0.0380   0.9136   \n",
       "Random Forest Classifier           0.0000       1.0000       0.0000   1.0000   \n",
       "XGBoost Classifier                 0.0000       0.9971       0.0003   0.9985   \n",
       "Random Forest Classifier+          0.0000       0.9974       0.0007   0.9987   \n",
       "\n",
       "                            std_f1  real_roc   std_roc  \n",
       "Logistic Regression         0.0076    0.9164    0.0045  \n",
       "Random Forest Classifier    0.0000    1.0000    0.0000  \n",
       "XGBoost Classifier          0.0002    0.9985    0.0002  \n",
       "Random Forest Classifier+   0.0004    0.9987    0.0003  "
      ],
      "text/html": "<div>\n<style scoped>\n    .dataframe tbody tr th:only-of-type {\n        vertical-align: middle;\n    }\n\n    .dataframe tbody tr th {\n        vertical-align: top;\n    }\n\n    .dataframe thead th {\n        text-align: right;\n    }\n</style>\n<table border=\"1\" class=\"dataframe\">\n  <thead>\n    <tr style=\"text-align: right;\">\n      <th></th>\n      <th>real_accuracy</th>\n      <th>std_accuracy</th>\n      <th>real_precision</th>\n      <th>std_precision</th>\n      <th>real_recall</th>\n      <th>std_recall</th>\n      <th>real_f1</th>\n      <th>std_f1</th>\n      <th>real_roc</th>\n      <th>std_roc</th>\n    </tr>\n  </thead>\n  <tbody>\n    <tr>\n      <th>Logistic Regression</th>\n      <td>0.9164</td>\n      <td>0.0045</td>\n      <td>0.9447</td>\n      <td>0.0277</td>\n      <td>0.8851</td>\n      <td>0.0380</td>\n      <td>0.9136</td>\n      <td>0.0076</td>\n      <td>0.9164</td>\n      <td>0.0045</td>\n    </tr>\n    <tr>\n      <th>Random Forest Classifier</th>\n      <td>1.0000</td>\n      <td>0.0000</td>\n      <td>1.0000</td>\n      <td>0.0000</td>\n      <td>1.0000</td>\n      <td>0.0000</td>\n      <td>1.0000</td>\n      <td>0.0000</td>\n      <td>1.0000</td>\n      <td>0.0000</td>\n    </tr>\n    <tr>\n      <th>XGBoost Classifier</th>\n      <td>0.9985</td>\n      <td>0.0002</td>\n      <td>0.9999</td>\n      <td>0.0000</td>\n      <td>0.9971</td>\n      <td>0.0003</td>\n      <td>0.9985</td>\n      <td>0.0002</td>\n      <td>0.9985</td>\n      <td>0.0002</td>\n    </tr>\n    <tr>\n      <th>Random Forest Classifier+</th>\n      <td>0.9987</td>\n      <td>0.0003</td>\n      <td>1.0000</td>\n      <td>0.0000</td>\n      <td>0.9974</td>\n      <td>0.0007</td>\n      <td>0.9987</td>\n      <td>0.0004</td>\n      <td>0.9987</td>\n      <td>0.0003</td>\n    </tr>\n  </tbody>\n</table>\n</div>"
     },
     "metadata": {},
     "execution_count": 7
    }
   ],
   "source": [
    "df_r_results = pd.read_csv('dataset/real_results.csv')\n",
    "df_r_results"
   ]
  },
  {
   "source": [
    "## 11.3.  What is the expected billing by the company if we classify 100% of data transactions with the model?"
   ],
   "cell_type": "markdown",
   "metadata": {}
  },
  {
   "cell_type": "code",
   "execution_count": 37,
   "metadata": {},
   "outputs": [
    {
     "output_type": "stream",
     "name": "stdout",
     "text": [
      "The company will receive $3,011,586,048.00 dua to transaction truly detected as fraud\n------------------------------------------------------------------------------------------\nThe company will receive $421,231.81 due to transaction detected as fraud, but actually legitimate\n"
     ]
    }
   ],
   "source": [
    "# Predict column\n",
    "df4['predict'] = rfc_tunned.predict(df4[boruta_select])\n",
    "df5['predict'] = df4.predict\n",
    "\n",
    "# The company receive 25% of each transaction value truly detected as fraud\n",
    "correct_predict = df5[(df5.is_fraud == 1) & (df5.predict == 1)]\n",
    "correct_predict_amount = correct_predict[['amount', 'is_fraud', 'predict']].groupby(['is_fraud', 'predict']).sum().reset_index()\n",
    "correct_predict_amount['to_receive'] = correct_predict_amount.amount * 0.25\n",
    "amount_TP = correct_predict_amount.to_receive.sum()\n",
    "print(f'The company will receive ${amount_TP:,.2f} dua to transaction truly detected as fraud')\n",
    "print('---' * 30)\n",
    "\n",
    "# The company will receive 5% of the value of each transaction detected as fraud, but the transaction is legitimate\n",
    "not_fraud = df5[(df5.is_fraud == 0) & (df5.predict == 1)]\n",
    "not_fraud_amount = not_fraud[['amount', 'is_fraud', 'predict']].groupby(['is_fraud', 'predict']).sum().reset_index()\n",
    "not_fraud_amount['to_receive'] = not_fraud_amount.amount * 0.05\n",
    "amount_FP = not_fraud_amount.to_receive.sum()\n",
    "print(f'The company will receive ${amount_FP:,.2f} due to transaction detected as fraud, but actually legitimate')"
   ]
  },
  {
   "cell_type": "code",
   "execution_count": 39,
   "metadata": {},
   "outputs": [
    {
     "output_type": "stream",
     "name": "stdout",
     "text": [
      "The expected billing by the company if we classify 100% of data transactions is: $3,012,007,168.00\n"
     ]
    }
   ],
   "source": [
    "expected_bill = amount_TP + amount_FP\n",
    "print(f'The expected billing by the company if we classify 100% of data transactions is: ${expected_bill:,.2f}')"
   ]
  },
  {
   "source": [
    "## 11.4. What is the loss expected by company in case of model failure?"
   ],
   "cell_type": "markdown",
   "metadata": {}
  },
  {
   "cell_type": "code",
   "execution_count": 40,
   "metadata": {},
   "outputs": [
    {
     "output_type": "stream",
     "name": "stdout",
     "text": [
      "The company will give back $10,071,736.00 due to transactions detected as legitimate, but actually fraud\n"
     ]
    }
   ],
   "source": [
    "# The company will return 100% of the value to the customer, for each transaction detected as legitimate, however a transaction is a fraud\n",
    "wrong_predict = df5[(df5.is_fraud == 1) & (df5.predict == 0)]\n",
    "wrong_predict_amount = wrong_predict[['amount', 'is_fraud', 'predict']].groupby(['is_fraud', 'predict']).sum().reset_index()\n",
    "wrong_predict_amount['to_receive'] = wrong_predict_amount.amount * 1\n",
    "amount_TF = wrong_predict_amount.to_receive.sum()\n",
    "print(f'The company will give back ${amount_TF:,.2f} due to transactions detected as legitimate, but actually fraud')"
   ]
  },
  {
   "source": [
    "## 11.5. What is the profit expected by the Blocker Fraud Company when using model?"
   ],
   "cell_type": "markdown",
   "metadata": {}
  },
  {
   "source": [
    "profit = expected_bill - amount_TF\n",
    "print(f'The profit of Blocker Fraud Company is: ${profit:,.2f}')"
   ],
   "cell_type": "code",
   "metadata": {},
   "execution_count": 41,
   "outputs": [
    {
     "output_type": "stream",
     "name": "stdout",
     "text": [
      "The profit of Blocker Fraud Company is: $3,001,935,360.00\n"
     ]
    }
   ]
  },
  {
   "source": [
    "# 12.0. Merging Notebooks"
   ],
   "cell_type": "markdown",
   "metadata": {}
  },
  {
   "source": [
    "## 12.1.  View .ipynb file contents"
   ],
   "cell_type": "markdown",
   "metadata": {}
  },
  {
   "cell_type": "code",
   "execution_count": 1,
   "metadata": {
    "tags": [
     "outputPrepend"
    ]
   },
   "outputs": [
    {
     "output_type": "stream",
     "name": "stdout",
     "text": [
      "AAACQsgi+AQBARou3xJNqZ/fZGTwAAAAASFEE3wAAIKPFms2k2jmyOY0CAAAAgFTFFRsAAMhoycz4tmfZZDgodQIAAAAAqYrgGwAAZLRkZnw7/JQ5AQAAAIBURvANAAAyWqw5iRnflDkBAAAAgJTGVRsAAMhosSRKnThymPENAAAAAKmM4BsAAGS0WCPBNwAAAACkG4JvAACQsayopXggiRrfBN8AAAAAkNIIvgEAQMaKNsWTaufI4RQKAAAAAFIZV20AACBjJVPmRGLGNwAAAACkOoJvAACQsaJJBN82t02G02DwAAAAACCFEXwDAICMFWuIdbgNZU4AAAAAIPVx5QYAADJWtK7jM76deQ4GDgAAAABSHME3AADIWJH6js/4dhZQ3xsAAAAAUh3BNwAAyEix5risqNXhds4CZnwDAAAAQKoj+AYAABkpWh9Pqp2L4BsAAAAAUh7BNwAAyEjRuo6XOTHshhx+Sp0AAAAAQKoj+AYAABkpcjjJ+t4GYwcAAAAAqY7gGwAAZKTIoWiH21DfGwAAAAC6B4JvAACQccyopWhDx2t8u/IJvgEAAACgOyD4BgAAGSeaRJkTSXIWEnwDAAAAQHdA8A0AADJOJNngu4AbWwIAAABAd0DwDQAAMk74YMfre9uchhzZBN8AAAAA0B0QfAMAgIwTPsCNLQEAAAAgnRF8AwCAjBIPmIo1d/zGlu4yJ4MHAAAAAN0EwTcAAMgoyZQ5kQi+AQAAAKA7IfgGAAAZJZkyJxLBNwAAAAB0JwTfAAAgo4SrOx58O/x22b2cNgEAAABAd8EVHAAAyBhmxFL4UMeDb2Z7AwAAAED3QvANAAAyRnh/RLI63o7gGwAAAAC6F4JvAACQMUJV1PcGAAAAgExA8A0AADJGqDLS8ZMllyFXgYPBAwAAAIBuhOAbAABkhHjAVKQ21uF27lKnZDB+AAAAANCdEHwDAICMENwbSaodZU4AAAAAoPsh+AYAABkhuCecVDuCbwAAAADofgi+AQBA2rNMS6F9HZ/xbTgNuXsQfAMAAABAd0PwDQAA0l64OiozanW4XVZvlww7Bb4BAAAAoLsh+AYAAGkvsCu5MidZ/dwMHgAAAAB0QwTfAAAgvVlSYEeSwXcfF+MHAAAAAN0QwTcAAEhrof1RxYNmh9u5SpyyezlVAgAAAIDuiKs5AACQ1gI7Qkm18/ZltjcAAAAAdFcE3wAAIH2ZnShz0pf63gAAAADQXRF8AwCAtBWsjCRV5sTus8lV7GAAAQAAAKCbIvgGAABpq2VzMKl2zPYGAAAAgO6N4BsAAKQlM2QquCuSVFvqewMAAABA90bwDQAA0lLr9rAs0+r4yZHLkKc3wTcAAAAAdGcE3wAAIC21bEyuzIlvoEeGw2AAAQAAAKAbI/gGAABpJ1QdVaQ2llRb31APAwgAAAAA3RzBNwAASDvN6wNJtXPmO+QucTKAAAAAANDNEXwDAIC0EmuJK7AznFTbbGZ7AwAAAEBaIPgGAABppWVDULKSaGhIvsEE3wAAAACQDgi+AQBA2jAjlprXJ3dTS28/t+xZnBoBAAAAQDrg6g4AAKSN5vVBmRErqbbZ5zDbGwAAAADSBcE3AABIC1bMUvPa5G5qac+yydPHzSACAAAAQJog+AYAAGmhZVNI8aCZVFvfEI8MzooAAAAAIG1wiQcAALo9K2qp8dPW5BobUs7wLAYRAAAAANIIwTcAAOj2mtYGkp/tPcgjh9/OIAIAAABAGiH4BgAA3Vo8aKpxVSDp9rljvQwiAAAAAKQZgm8AANCtNX7aKitqJdXWO8AtZ76DQQQAAACANEPwDQAAuq1oXUzNG4JJt88d52MQAQAAACANEXwDAIBuq25hs5RcaW9l9XHJVcRsbwAAAABIRwTfAACgW2rdFlKoOpp0e2Z7AwAAAED6IvgGAADdjhmxVL+4Jen2np4uucucDCQAAAAApCmCbwAA0O3UL25WPGgm3T53nJdBBAAAAIA0RvANAAC6leCesFo2h5Ju7+nplKe3i4EEAAAAgDRG8A0AALoNM2SqdkFz8h0YUsGUHAYSAAAAANIcwTcAAOg2aj9qVjyQfIkT/0ivnAUOBhIAAAAA0hzBNwAA6BaaNwQV2BFOur3dZ1PuBB8DCQAAAAAZgOAbAACkvMihmOoXtXSqj4LJObI5DQYTAAAAADIAwTcAAEhpZtjSoXcaZZlW0n1klbvkrXAzmAAAAACQIQi+AQBAyrJM6fC8RsWa40n3YdgMbmgJAAAAABmG4BsAAKSsuoXNCu6LdKoP/xivHLl2BhMAAAAAMgjBNwAASElNqwJq2RjsVB+OHLtyx3oZTAAAAADIMATfAAAg5bRuD6l+aeduZimbVHS5X4aDG1oCAAAAQKYh+AYAACklsCusw/ObOt1P/gXZcpc6GVAAAAAAyEAE3wAAIGUE90Z0+N1GyexcP94BbvlHRnEwnwAAIABJREFUUeIEAAAAADIVwTcAAEgJocqIDr3dKKuTobfDb1fhxX4GFAAAAAAymIMhAAAAZ1tgR1iH32uSZVqd6sewGyq+Ilc2F3W9AQAAACCTEXwDAICzqnlDUHUfNXdJXwVTsuUq4vQGAAAAADIdV4YAAOCsaVzRqoblrV3Sl2+IR9lDsxhUAAAAAADBNwAAOPOsqKXaBc1q3R7qkv6chQ4VTslhYAEAAAAAkgi+AQDAGRZrjuvQW42K1Ma65mTGb1fp1XkynNT1BgAAAAAcuVZkCAAAwJkSqozo0LwmmSGza05kcuwqvT5Pdp+NwQUAAAAAfHa9yBAAAIDTzYpbavikVU1rAl3Wp91nU+l1eXJk2xlgAAAAAEA7BN8AAOC0itTGdPi9JkXrYl3Wpz3LptLr8uXwE3oDAAAAAI5H8A0AAE4LK26paXVAjSsCskyry/q1uW0qvTZPzjxCbwAAAADAiRF8AwCALheqiqjuo2ZFG+Jd2q/NZSRC70JOYQAAAAAAJ8dVIwAA6DLxVlP1S1rUui3U5X0bTkMl1+TJVczpCwAAAADg1LhyBAAAnWaGTTWuCqh5bVBW3Ory/h1+u0quzJWzgFMXAAAAAMCXuI5kCAAAQLKsqKWm9UE1rWqVGbZOyzY8vV0qnu6XzW1jwAEAAAAAXwrBNwAA6LB40FTzuqCa1wdlhs3Tth3/SK/yJ2ZLZN4AAAAAgA4g+AYAAF9atCGu5jUBtWwJnZaSJkcZNkMFU3OUfY6HQQcAAAAAdBjBNwAAOCUrZimwM6yWTUGFqqOnfXt2r03FM3LlLnUy+AAAAACApBB8AwCA41lS+GBUrVtCat0ekhmxzshmXSVOlczIld1HbRMAAAAAQPIIvgEAgCTJMqVwdUSBnWEFdoUVD5hnbuM2KXe0T7njvTLsBk8GAAAAAKBTCL4BAMhgsaa4QpURhaqiCu4LywxbZ3wf3GVOFU7NkbOA0xIAAAAAQNfgChMAgExhSdGGmCI1MYX2RxWqjCjWHD9ru2NzGcqbmK2coVkSk7wBAAAAAF2I4BtAh0QCUdmdNtmd9jPSDkByrJilaGNc0fqYIodiitREFT4UkxW1UmL/fAM9yp+cLbuXWt4AAAAAgK5H8A0cY/+mGh3cUqOSQUXqObzshOusmbtBxQOL1HNYabc7vqp1+1W5plqt9UG5fS7l987VwAsHyOV1fqn2kUBUv5j6v5p493hd8p0Lv/R2k20H4OQsU4oH4oq3momflriiTXHFGuKKNsTP6kzuU5545NhVcFGOsvq4eBIBAAAAAKfv+pMhAD6zZcF2LZ61TL4Crx548W55/O7j1nnjp+/pgq+N61bB9+FddXr1n97Wgc01cme7lVuWo0ggoobqJjk9Dl30rYm64M5xX1hqwOGy6+IHJ6v3yB4d+6BJsh2QCaINcUUORmWZlixTkqm2v1tRS2bElBm2ZEYsmWEz8WfQPLM3nuwChtOQf0SWcsf6ZDipawIAAAAAOL0IvoHPcWY5FQlE9N5vPtI1P7682x9PQ1Wjnr73zzIMQzf//BoNmVYhw5YInZoONGvef36o+f+9UMGmkC5+cPIp+7I5bJr09Qkd3odk23VWvNVU/SetitbFeGHjM5ZkWVbiTzPxb1mJByzrmH9bRxdbbe3a/XnMQ23LLUknqdxh89hUMsMvV+FnX70tG4Nq3hxU5GD6vkZtHpv8I7KUMyJLNjdlTQAAAAAAZwbBN/D5N4XTrkn3TND8/16okVcPVZ+xvb+wTdX6A9o8f5uaalqU5Xer98ieGn7FkLaA2Yyb+uiJpRo4qZ+8BV59+sIatdQFVDa4WBNuHy2b3aaVL69T5dr9yspxa+S1w9VjaEm7bdTva9Ca1zeqfl+DnB6n+oztpXNnnCOb49RB0ru/WqBwS0Rfn/UXx5Vv8Zfl6OafX6PnHnpFS55ZoeHTh6hkUJHMmKmPZib2NxaJa81rG3Tuleeo3/hyLXzyE/UZ00sDLujb1s+WBdu1c8keWaalAZP66ZyLB2rxrGUqGVSsQVP6Kx6Nt2t37Hj4y3L06ey1aqhqVE5JtsbccK4K+xV0+nls2RJSw9JW2X02RevjvLBx5pxgIra71KHiGX7ZXIn3a6wlrtoPmhWqjMhZkJ517+3ZNuWO8ip7aBYzvAEAAAAAZxxTr4DPiUViOu/2MSodVKw3fzZf8cipQ9NPZ6/VU/c8r/2bDiqnJFvBxpDmPvyOXvr719vWMQxDi2ct0+pXN+jPf/2qouGYosGo3n90kd75jw8095/f0baPdsqT7daWBdv19Df/rKYDzW3tty/apcdve1ZbP9whf1mOLMvSm4/M17MPzD7l/gXqg9q2aJcGX1Rx0prlMqSpD0ySZVpa+8ZGSYkyC4tnLdP6t7foxb97TTXbD6u1NqB41NTiWcu0e8W+tubz/3uhZn//dR3cdlhOj1MLZy7V+/+zSB89sVR7jqz3+XZHx2PN6xv17LdeVNPBZnnzsrT+rc168s4/qflQS9LPXzxg6tDbTar7qEVmxOIFjbPKsEuFl+So9Lq8ttC7ZWNQ+/9cp1BlJC2P2ZlnV+HFfvX6aqFyRnoJvQEAAAAAZwUzvoHPMU1LNrtNV/3wMj11z/Na/Ptluuj+iSde2ZKWP79KvUf11J2P3dK2uPCJpVo4c6kObjuk0kHFbTO/N7y7Rfe/cJfyevolSc//1RyteW2jxt40Qjf85EpJ0oirztFT3/izNi/YrvNuG6NYJKbX/uVdlQ0p0dcev0V2Z2J26PDpQ/TcX72iFbPX6Pw7xp5w96o3HpAsqd+E8lMec8+hpXL7XKrecECS2rax/q1NuvVX16rv+ET7SCDarl3zoVZ98seVGjKtQrf8x7WSIZkxU3/89ksy46ZkO3HgdXQ81r6+Ud94+naVDi6WJA2bPkTP3PeCNr6zReffOa7Dz13r1rDqlxB4IzW4yxwqvjJPtiPftLGWuOoWNCu4Lz0Db1exQ7ljffL2d3/h/QIAAAAAADjdCL6Bk+g5rFTjbx2lj59eoWHTh6io/wnKbxjSA7PvblfzV5J6j0jcxLFuT71KBxW3Le9/Xnlb6C1JJYOKtGPJbo25acQxyxLrN9ckZj3vXrZPgYagrvj+tLZAWpIGTOyrgj752vLB9pMG38GGkCTJV+A99cEakq/Qp5baQNu/JaloQGFb6H0ie1dWyjItjbpueFubo/W8966q+sIx7jehvC30PjrmktR4sLlDz1U8YKpuYYuCeyO8cHHWGXapcFqOvAM+uzluy6ag6j9Ov1/K2H02+So88g50y13q5MkHAAAAAKQMgm/gFKb95SRteX+73vzZe7rriVtPOIsxEohq9dz1qlyzX611AcWjcYWaw5ISJT6OlVOS0/4N6E68Bf3HLHd6EsvMI21r99ZLkta8vlHbFu5q1z4ajKh2T+ik++/yOY/sxxfXuI5FYsrK8bRbVtg3/5Rtmo4E1Hm9ctstLzun5EuNb17P9u3srkSw/0XlZY7Vuj2cCBTDzPJGauh9V5GMI9+u8RZTtR82pdUvZexem7wD3PIN9Mhd5mR2NwAAAAAgJRF8A6fg8ro0/fsXa/b3X9OqOes05sYRMozPUp54JK5n739RdXsbNObGc1Uxqa9cWU7V7q7Xh48vOa4/2xeU/jiRowG42+eWJ8fd7rEh0wa2mwX+ebllidnlh3bWnvI4o8Gommta1ONzgbUr69QzOI8G+/bP3WDzaKD/RWy2ziVmsca4Gpa1EnojpRjHvPwbV7WmRehtz0qE3d6Bbnl6uAi7AQAAAAApj+Ab+AJDplVoyLQKvf8/izR4aoVsx4S82xbt0oHNNbrpkas09LLBbcu3frijy7bvK0yUKRl93XANmNi3Q23LhpQopzhbG97Zoqn3T2y378faNH+bLNPS4KkVHerfne2SJAWbwu2WN3WwVEnSH2C5dvW4JV8NS1vVsiXEixUpofKPdSq92i9nnkMFU3Lk6e1S3UfNigfM7nWC4LfL09slX4Vbnp4ubocNAAAAAOhWuIwFvoTp379YZtzSO79Y0G4WdOOBJklSYb/29b/XvblJkmRZnZ+J3HtUT0nSzqV7jntsy4LtatzfdPLGhnTB18apcX+T3vvNRydcpaG6SR88ulgF5Xntwvsvo6SiUJJUvf5Au+Wb5m09cx9iLkMFF2WreIZfdh8faTj7zICp/S82qP7jRJ1+b3+3et5WIN8gT8rus2E35O7hlH+MV8UzctX760Xq9dVCFU5NBPecLQAAAAAAuhtmfANfgr8kW9O+PUnv/nJBu7IkZUduzLjypbWa9u3JCjWHtfTZT9vWObSzNnHjy06UBSgoz9PQSwdpxew1Kuibr3MuGSgzbmrlS+u0cOZSXfvP0zXymmEnbX/ebWNUtf6Alj+/WjXbazXmhnOV3ztX0WBUe1dVafnzq2Vz2HTjz65qqy/+ZZWP7qXcHn4tfHKpckqzVTa4WDuX7tGuZXvP+HOUVe5Sj1vyVb+kVa1bmf2Ns695Q0iBnWEVX5UrV4FDRZf55a1wp8Tsb0e2Xe4yZ+Kn1CFnkeOUJZcAAAAAAOhuCL6BL2n8V0Zp/ZubVL3xYNuyvuPLdd7tY7T8z6v16ey1srvsGnvTCF3/rzMUqA9qydMrVL3+gO587JZObfvah6/QvF8t0Lxffai3HpkvScou9Gn63007ZegtSTKkG396pfpPKNeKF9dozo/eanvIne3W8CuG6MJvnq+cYl+H98vmsOkrv7pWr//rPL30g9dl2AwNvmiAbvjJlXr0ulkyznCOZnMZKpyaLW9/l+oWtnS70hJIP/GgpQMvNcg31KPCC7Pl7e+Wp6dTdQtb1Lrt9P6CxnAYcuTY5cixyeG3J/7ut8td6uR/RwAAAAAA0p5hdUUtBiDDRYNRtRxuVXZxdrtZ0+GWsNw+d5fdCC4WianpYIucHoeyC31JzdCMhmJqOdwql9cpX763y/YtGorJ7rTJZrepcX+THr1uli7/3lSdd9uYs/KcmBFL9UtaFD0cU6Q+zou0q/HN0WG2LEMlV+bKVZj4jAjsCqvuo2bZPIaidR1/jRpOQ47sI8F2zmfBtv3Iv+1ZhNsAAAAAgMzFjG+gCziznMovzztuuTvb3bVvWJdDBSfYTof21eNQfu/cLtkfy7T0yg/fkq8gS1d8/+K25Zve2yZJ6jm09Kw9J4nZ3zm8OLuIZUotm4Jq+LRVsZbu94sEm9OQzWOT3WOTzWPI5rbJ5jZkc9lkcxmJH6chw2nI5rTJcCbqXht2Q4bDkGGXDJshwybp2D8NJf3Lo6Ozv5s3hGQYiSDbcBgyHJLNcfTvn/3YHEZivxyJ/QIAAAAAACdH8A0gaYbNUFH/Ai2cuVQNVY3qMaxMdXvrtXHeVg2bPqTtxpzo3lq3hVT3SYtiTakZeB8769nus8uRbZPDZ5fdZ5M9yya71ybDkZpBsc1tU+5YLy8yAAAAAAC6GKVOAHTa9kW7tPmD7WqtCyinyKd+E8o1bPoQBqabCx+MqnZhs8I10bO+Lza3Ta4Cu5wFDjnzHHLm2eXMc8iRbWP2MwAAAAAAOA7BNwCgHTNkqm5Ji5o3Bc/K9u0+m9wlTrmLnXIVO+Qu4maMAAAAAACgYyh1AgBo07I1pLpFzYqHzDO2TVeBQ56eLnl6OuUuc8qRbeeJAAAAAAAAnULwDQBQPGDq8IImBXaHT/u2bG6bvH1dyurjVlZvl+xeZnMDAAAAAICuRfANABkusCusQx80yTyNs7ztPpt8FR75BrjlLnPJIOsGAAAAAACnEcE3AGQoK26pbnGLmtYHTkv/Nqch30CPsgd75OnpkrgHJQAAAAAAOEMIvgEgA0Ub46p5p0GRw7Eu79tV5JD/XK98gzyyOUm7AQAAAADAmUfwDQAZJrAnrEPvNcoMW13ar7efW7mjvYnZ3QAAAAAAAGcRwTcAZJCGT1tV/0lLl/bpq/Aob7xPrkK+UjrLMi3tWVmpPSv3qflQi2RJOcXZKjunRIMuHCCbneLoAAAAAAB8GaQUAJABrJilQ+83qXV7qMv6zCp3qWBijlxFfJV0har1+/Xav72jQztrJUmGzZDNblM8Gpck+Qq8uuZH0zV4SsUZ2Z8N725WqDmscTeP4skBAAAAAHQ7hmVZFsMAAOkr1hLXwbcaFTkU7ZL+nLl2FVyYI29fN4PbRfasrNSfvvuSYpGYxt44UhNuHaOSiiJJUsP+Rq1+bb0WP7VMlmnpxn+7SsOnn3Pa9+n333xOWX6Pbvv1jTxBAAAAAIBuh2l6AJDGwgejOvhWg+IBs9N9GXZDeeN8yh3jlWHnppVdJRaO6ZUfvaFYJKYZ379EE24d0+7xvJ65mnb/ZPUe0VPPPfSy3v7l+xp04QC5vC6FW8KKhmPy5mbJ5mhfBuVUj7XUtqrpYLMs05K/NEc5xdltj0VDUYWawzqwuUblo3uppbZVdqddWX5Puz7q9tWrcX+TbA67ivoVyFfgPe7YAg1ByZK8+VmyTEsHttQo3BJWYb+CdttsPNCk+n0Nyi7KVmHffBm2E7++Ag1BHd5Vq3jMVH7vPOX18J9ym8HGoA5uPaTiiqJ2+3eq4wcAAAAApAdmfANAmmrZGtLhD5pkxTv/Me8udar4Er+c+fy+tKutfGWt3vjZPPUdV667Hrv1lOuuf3uTyoaUqqh/gSRpzo/f1Lq3N+kbs+5QrxE92q0791/e1prXN7R77MDWGr3zyw+0d1Vlu3V7ndtD1/3TDBX1L9Anz32qd/9zQbvH+47trbse/wtJ0r41VXrjZ/PaSrIcNXBSf1374yuUXeRrW/b47U+r+VCrvvH7O/T837yi2j11iZMPm6GL7p2oyV8/T2/8bJ7WvLFBOvIy7T2ip/7iVzfIm5/V1k+oKaQ3HnlPm97fKsv87PXca8SR/e5X0Lbs/26epVBLWLf/5iY9c/8LigQiuuaH0zXmhhFf6vgBAAAAAOmBBAMA0o0l1X/SooaVrZ3uyrBJeROylTfWJzHJ+7TYvniXJGnMDSO+cN1zZwxNejtm3NTzf/2Kwq1hXfPD6W1h+N6VlZr/6EL98Tuz9d2592ropYOV5c/Sqw+/pV4jeujSB6fInZMoa3N4d53+8OBsOdwO3fCvV6n/hD6KRWJa+8ZGffjEx/rjd2fr3mfulN1plyTZHXZFg1G9+s9vacwNI1RxQT/V7q3XGz99Vx89uUR1++oVag7r6zNvk8Pl0IdPfKxti3bq42eW6bKHprbt958eellV6/frvNvGaswNI+T0OLVt4Q69/7+L9OwDL+iBF77eNiPd7rQrGorp/f9dpIoL+qrf+D7qObzsSx8/NxAFAAAAgPRA8A0AacSMWDr0XqMCu8Od/4Lw21UyPVfuEicDexodnTndc2jpad9O86EWjb723HYhe0lFkbKLfNq3pkqB+qD8JTnqObxMkuTNzVLfceVt6y783VLFwjFd909XtKszftF9E1W3t17r3t6kzR9s++wxQ4pFYup/fh9NvHN8YnsDi1S5rlpL/7BCe1ZW6rtz7m0rxTL9by/WtkU7tW9NdVvfG+ZtUdX6/Rp51TBd8b2L25afd9tYmTFT837zoZa/sEoX3TtRkmR32RUJRuTN9ejGn1zdtv7BbYe+1PEfO2MdAAAAANB9Ma0JANJEpC6m6tm1XRJ6+wa41evWQkLvMyDUEpIkZeVmndbtHJ0RvXd1peqrGts9ds7Fg3T5X0/7wtB3x8e7ZHfadc60Qcc9ds4liWW7lu097rFhlw1p9++CXnmSpCFTB7arP57fK1cypGBjsG3Zto92SJJGX3fucf2ee2ViBvzRWfNtLGnMDSO7/PgBAAAAAN0HM74BIA20bAvp8IImWdFO1vM2pIKJOcod7WVQzxC316VAfVCxcOy0bsdfmqMJt47R8hdW6f9umaW+Y8s14Lw+GjCxn8oGl3xh+2BTSMGmkArK82R32Y97PL93Isyur248ftslOe1PPjyJ04/P31TSsBmyO+0yj6njXbu3XpK0+rX12jh/63F92xy2ttrhxyooz+vS4wcAAAAAdC8E3wDQjVkxS7WLm9W8Idjpvmxum0quyFVWbxcDewZlF2ervqpRtXvq5C/NOa3bmvH9S9R/Qh+tnrteu5bv1a5lezT/0YUqqSjSjB9cqr5je5+0bTQUTZw4uE986uA4EoYfXa/da+skdbOPne198u0mfiFQubZahu349fN75clmO74AvSfH06XHDwAAAADoXgi+AaCbihyOqWZeo6L1nZ8p7Mx3qOzqPDn8dgb2DOs7trf2ra7Slg93qP95fU+5bn1Vo9xel7z5X1wWJRaJn3D5kGkDNWTaQMUjce1bW60N8zZr9avr9dxfv6y/fOHryi3zn7Cd25v4hUgkED3x6/HI8qPrdRW3L9Hfbb++UYV9CzrdX7LHDwAAAADoXqjxDQDdjBW3VL+sRdWza7sk9Pb2davnzQWE3mfJuVcMlQxp9dz1qttXf9L1zJip2T+Yq/++fqYajpQTOTpjOhY9PuSur2w45XbtLrv6jS/X1f9wuaY9MFnRYFQ7Pt590vXd2W5lF/nUeKBJkUDkuMcP706UGynsV9Cl41M8oFCSVLunvkv77ejxAwAAAAC6F4JvAOhGQtURVb1Qp4YVrbLMzveXO8an0qvyZHMZDO5ZUjygUOffNk7RUFTPPfRyW4B8rHBrRH/+3hwd2FqjoRcPUl7PXEmSNz9Ri71m+6F26+/fdFDVmw60W7bm9Q167C+eUs32w8f1n5WbKAtimokXlXGkdEj8c4H6OdMGyTItrX1z43F9rH1jgyRpyEUVXTo+R2+aufyFVcc9dnhXnZ65/8/asmD7F/bTkeMHAAAAAHR/lDoBgG4g1hxX3dIWtW4LdUl/hk0qnOZXzjlZDG4KuPQ7U9Ra16r172zW47c/rcFTKtRreJlsDrtq99Rpw7wtCreENWTqQF31/y5ra1cxsZ+WPLtcC3+3VG6fW7llOTq47ZA+fma5Bk7qr+2Ld8lS4kaRZUNKVLevQc899LIm33OeSiqKZFmJ0PyjmUvk8ro0ZOpASVJOkU+GzVDlumqteX2DHC67hk8/Rxd+43xtfG+L5v3Xh4pH4uo3oY/CLWGtmrNOOz/Zo8FTKr6wXEtHDb6wQhUT+2nHkt165UdvaOyNI+XMcmr/poP66MklCjWFldcr9wv76cjxAwAAAAC6P4JvAEhh8YCphlWtal4XlGVaXdKn3WNTyZV58vRwMsApwu6y68afXK3BF1Voxew12rxgmzZ/sK3t8R5DSzX+K6M16urhbbOxJan/hD669DtT9OHMJXr14bckSTnF2br6Hy/Xgc012r54l+LRxCzm0kHFuv03N2n+/3ykt34+/7ONG1LFBf108bcvVE5xtiTJ5XVp0l0TtPipZZr7L28rKzdLw6efo5zibH39ydv01n+8r3m/+bDtNenyunT+HeN06YNTun5wDOnWX1yv+Y8u1Oq567T+nc1tD5WP6qXLfzFVpYOKv7Cbjhw/AAAAAKD7MyzLshgGAEgtsea4GlcH1LwpKCvWdR/TriKHSq/MkyOHet6pLB6Jq6mmWWbcVG6ZXw73qX9PbcZMNexvlGQov1duu3D8RELNYbXUtsqwGcotzTlp/4GGoELNYeWW5sjuav+aCTWF1FTTIrvLrvxeubLZT3/1NDNmqr66UWbMVE5xtjw57qT6+bLHDwAAAADovgi+ASBVWFKwKqKm9QEFdoWlLv509g30qPhivwwn9bwBAAAAAEB6Y4oTAJxl0fqYWraF1LIlpFhzvOs3YEgFk3KUO8rLYAMAAAAAgIxA8A0AZ5olhWuiCuwOK7ArrEhd7LRtyu6zqWQ69bwBAAAAAEBmIfgG0kgkEJHdaZfdaU/rbXY7lhSpiylUHVGoOqpgZURm2Dztm/X2d6voYr/sHhvPAQAAAAAAyCgE3zgj9m86qP1bDqp0ULF6De9xwnVWzV2n0oHF6jmsrFsc09aFO9RS29r2b7vDJo/fo9KBxcrrmXvG9ycSiOiRqb/R5LvP12XfuShtt5nqLNNStCGuSG1MkcMxRWqiCtdEZUbP3O0UbE5DBRfmKGdoFk8IAAAAAADISATfOCM2LdiqhbOWylfg1Xde/KY8fs9x67z203c06WvndZvge9HTn2jf2io5PYkSEmbcVDySqM9cMrBYl357igZPqTht29+5bI8Obq3RxDsnJN7MLocuffAilY/smVbbTEVm2FSsxVSsOa7/3969B0d13mccf/aqXe1KCN24SAKEEHdQQBAusVuK3BgM9gCxPbJLGjueJLXTyTSJPelMponTpqFtkrZOM6mxHQiNHTseoKRggWXAImCCAWNhBAJzBwshIYRYrVba6+kfC2t2wKAVQnJOvp8ZzWrPOXt+73nn7Pnj0av3jfijilyOKuyLKtwWVeRyREas/9rmHuZU7pxM2b2MwAcAAAAAAH+6CL7RZxxuh0KBsKqfq9ED/zDPFNfkGejR028+lXjf1R7UyT2nte2lnXr1W2s179sVmlE59Y7UPrT5iHwX2hMhtNVu1V2Pzbij19sfNW9XLGTIiFwZbW1IhmHIiEqKxV+NmCEjbCgWiR8XCxsyQoZiIUOxYEzRrphiXYaiXTFFA/EfI2p86q7Tlm5Vzucy5Cl18bABAAAAAAB/8gi+0Xc3m8Omux6fqbd+VqOyBRM0fGrRLT/TUNeoQ1uOyNfcLlemS0WTCzTp3nGyWC2S4qOsa154R6WzR8qTna7dr7+vjtYODR6drxmPlMtqs+q9tft19oMGuTJcmnL/JA0ZNyipRuvZS6rdUKfWs21yuBwaPrVQk+eNl9We+rzIrow0jZs7WqV3jdT/PPm63vyPrSqZOUK5I7JTqhcJRVT3Zr0ajzQr1BFSRr5XE+4Zq0GleZKkmuXv6OjOE7I77dr639s1amaxCiYO0baXdmruYchjAAALh0lEQVT4lCKVzByR1DcDBmdqz+paXWpoU2a+V1MXlSW1qTt93Z2aVzUfu6APNtWrraFNdpdDhROGqGzhhKTR8am0racCp4Jqe69Dwaawab9XFptFmZPTlVXukdVp4UEDAAAAAAAgiRXP0GcioahmPlKuwaX5Wv+j6sS0IJ9k7+pavfT4yzpXf14Z+RnqvNyldc9W6fXv/C5xjMVi0fYVu7Tvdwf0m79bo0gwolBnWJt//ntV/dtm/e/3q3Tk98fk8rp0uOaofvnEK7p83pf4/NEdJ/SLypU6su2YBgzOlAxDG5ZV61d/89ot23czdqdd856eKyNmaO+a2pTqRUIRrXjiN6p+bpvCnWG5MtJ0au9ZLV+6SnXVhyVJbY2X1enrUrgrrLZzPnX5g4qGo9q+YpdO7j2T1De1G+q08quvytfkU3qWWx9srNfypavUfsGfUl93p6YkHdhUr+f/apWO7TyhzMGZslgsqn6uRi/+9a8V9AdTbltPxIKGLmy5rKaqtj6dW7tPWSTvWLcKH81R9iwvoTcAAAAAAMA1GPGNPhOLxWS1WXX/d+/VS4+/rO0rd2nO1z53w2MNQ9r12nsqKivQl56vTGyveSFb217cqaajzRpUmp8YjVxXXa+vv/7lxKKSr3xjtWrX16l8SZm+8MOFkqTJ943XL7/8ig7XHNWMynJFQhGt+0GVhowZpMeWV8rmiM+JPPHzY/XyN1Zrz+r3NfPRaT2+3qHjBit9YLo+OnBOkrpd7/S+j9R4uElLf/agSmYVJ85X9a+bdXrfWU38/FgtevY+ndp3VvkluVryTwskxReavNbVvqndUKevrPqiBo/OT9Rb+ZVXVfdmvWYtnd7tvu5OzVAgpA3LqjXsM4X64s8fSlzjlPsnauVXX9WOVbtV8fW7u922ngicDqqlxqdoR8ycXySL5B3tVlZ5uhxZPMIBAAAAAABuhBHf6HNDxw/WZx+eoh2r3lXLyYs3PMZikf529RN6/MVHk7YXTYovothy+lLS9pGfHZ4IvSVpUGmejJihaUvKkrZJkq85Ppr45O4zCrR1akZleSKglaSSWcXKGTZQ9W8fve1r9eZ4FGjrTKleLBoPbD862Jh0rvu+c48W/P1fptyG4unDE8GyJBWMHyJJutzk61Ff38yJ3acVCoRUvrgs6RqHTSlU3shcfbj9WEptS0UsZKhlq09Nb7SZMvS2Oi0aUJauoqW5yqvIJPQGAAAAAAC4CZIT9Iu5T96t+q1Htf5H1XrshUdkucEsDaFASO//3wGd3d8gf2tA0XBUXe1dkqRoOHkaksz8jOQbO81+3far80tf/ezFM62S4qOOP9x+PLl2Z1idp1tv+zqD/qDSs9wp1SuZOUKjZhWrZvk7ql1fl3hfOnukbE5bym0YeM0fBCQlzhG5ZiqXVPr6ZlrPxkPynOEDr9uXXZilE7tPp9y27ug8E1JLjU8Rf9R035W0PIcyJrjlKXXJ6mA6EwAAAAAAgO4g+Ea/cKY7Nf+ZCv32mXXat26/yheXyXJN+h0NRfWrr72mi2cuqXzxZI2aXSyH26mLp1r19vId153v6tQZ12//5H9quBroujxOuTLSkvaNnVOaNGK5JzpaA/I1t6tg4pCU6lltVj363IM6/oeTOrTliI7uOKH31u6XJ9ujB/95oUZMG5ZSOz6pb3ra1zc9Vzg+0tqi62vaHDZFI9GU2nYrsZCh1p3taj/Uaa4Hs9cmT6lL3jEuObN5TAMAAAAAAKSKRAX9ZuycUo2dU6rN/7VNY/98lKz2j0PqD3ccV+PhJj247AFNuGdMYvuRbcd6rb4nxyNJmvLApKS5tHvL3rW1MmJGov2p1LNYpFGzizVqdvy4jw6c09rvvaG133tD36p6slfb2Zt97clOlyT5Wzuu2xdoCyRGv/cWI2IoGjDHtCbObLvcw9PkKUlTWr6DBwQAAAAAAMBtYI5v9Kv5z1QoFjW08cdb5HR/HPZdPh+f4zlvRHbS8furDsZ/MYzbrj2srECSdGzXqev2Ha45qsuNvh6f+8Ptx7V9xS4VTBiisXNKU6rXUNeog28dTtpfOGmoPrNgotov+BX0Bz/ecfvdkHpf36Rm0ZVrPPFu8jWGAiE1HDqvoskFvXr/2NKtGnRflvIqBsia9sc1DYjNbZVnlEu5czJVtDRXBZU5yp7lJfQGAAAAAADoBYz4Rr/KzM9QxVN3a+NPtiRNe3F1wcM9a2pV8dSfqau9Szt/vSdxTPOJizIM3XBu8O7KLhqo8RVjtGf1+8odnq1xc0crFo1p75pabXtxpxZ9f77KFk686TkioYjqqq+E1IYhf2tAx3ed1LE/nFR+SZ4eWvaArDZrSvUaDjZq079vVcelgMbPHSOH26GWUxd1oLpeeSNzleaNT5PiznCp+XiLLpy8qDSPUy5vWo/6IZW+vlXNvOIcjb67RHvX7tfQ8YM1+q4S+VsDqv7PtxUJRjR76fQ7ch95x7jkLnSqpcanwOngp+9Gt0jOHLvS8h1Ky3fINdTB4pQAAAAAAAB3EMkL+t30h6Zof9VBnTt0PrFtxLRhmvlIud797T7tXV0rm9OmaUvKtOQfFyhwKaB3Vr2rhrpz+tLzlbdVe9Gz87Xpp1u16adbtWFZtSTJm+PR/Kcrbhl6S/HFK9d8d33ivTvTpeyigbr3m3NVvnhyYkHNVOpNf3iq/Bc79PbzO7Txx1viH7RIo2YVa963K5L6bcOyav3i4RWaumiy7v3mX/SoD1Lp6+7U/MIPF+qNf3lL636wUbFIfBqSgYVZqvzJYhVOGnrH7iObx6pBC7LUfrhTrTvaFQsZ/XI/2702OQba5Miyy5lrlzPHLme2XRY7C1MCAAAAAAD0FYthGAbdgE+rcGdY7S1+ZeR5k0LkoD8opyfttkZ8XysSisjX1C6HyyFvjue2F13sjXpGzJD/YociwYgy8ryyp13/d6qgP6hYNCb3AHef9XV3a4a7wvI1++V0O5SR5+3T+ybij6qlxqfOMyE5su0Kt0Z65bxWh0VWt1V2j1U2r012j1X2DFv8J9MmR6aNgBsAAAAAAOBTgOAbgGm1H+pU55mgYkFDsiixqoHFapHFZpHFpiuvFlkcFlkdV16dFlmdVlnT4r/b3FbZ3FZCbQAAAAAAgD8SBN8AAAAAAAAAAFOx0gUAAAAAAAAAADMh+AYAAAAAAAAAmArBNwAAAAAAAADAVAi+AQAAAAAAAACmQvANAAAAAAAAADAVgm8AAAAAAAAAgKkQfAMAAAAAAAAATIXgGwAAAAAAAABgKgTfAAAAAAAAAABTIfgGAAAAAAAAAJgKwTcAAAAAAAAAwFQIvgEAAAAAAAAApkLwDQAAAAAAAAAwFYJvAAAAAAAAAICpEHwDAAAAAAAAAEyF4BsAAAAAAAAAYCoE3wAAAAAAAAAAUyH4BgAAAAAAAACYCsE3AAAAAAAAAMBUCL4BAAAAAAAAAKZC8A0AAAAAAAAAMBWCbwAAAAAAAACAqRB8AwAAAAAAAABMheAbAAAAAAAAAGAqBN8AAAAAAAAAAFMh+AYAAAAAAAAAmArBNwAAAAAAAADAVAi+AQAAAAAAAACmQvANAAAAAAAAADAVgm8AAAAAAAAAgKkQfAMAAAAAAAAATIXgGwAAAAAAAABgKgTfAAAAAAAAAABTIfgGAAAAAAAAAJgKwTcAAAAAAAAAwFQIvgEAAAAAAAAApkLwDQAAAAAAAAAwFYJvAAAAAAAAAICpEHwDAAAAAAAAAEyF4BsAAAAAAAAAYCoE3wAAAAAAAAAAUyH4BgAAAAAAAACYCsE3AAAAAAAAAMBUCL4BAAAAAAAAAKZC8A0AAAAAAAAAMBWCbwAAAAAAAACAqRB8AwAAAAAAAABMheAbAAAAAAAAAGAqBN8AAAAAAAAAAFMh+AYAAAAAAAAAmArBNwAAAAAAAADAVP4f7Eh+aImHhHMAAAAASUVORK5CYII=\\n', 'text/plain': ['<IPython.core.display.Image object>']}, 'metadata': {}, 'execution_count': 12}], 'source': [\"Image('image\\\\mindmap.png')\"]}, {'source': ['## 2.2. Hypotheses Creation\\n', '\\n', '### 2.2.1. Type\\n', '\\n', 'h1. Frauds occur with 3 types of transactions.\\n', '\\n', '### 2.2.2. Amount\\n', '\\n', 'h1. Fraud occur with low values amounts.\\n', '\\n', '### 2.2.3. Transactions\\n', '\\n', 'h1. Fraud occur with high values of old balance origin.\\n', '\\n', 'h2. Fraud occur with new balance origin is equal zero.\\n', '\\n', 'h3. Fraud occur with low values old balance destination.\\n', '\\n', 'h4. All fraudulent transaction occur with new receiver balance  equal zero.\\n', '\\n', '### 2.2.4. Customers\\n', '\\n', 'h1. Customer to customer transactions represent 50% of the total fraudulent transactions.\\n', '\\n', 'h2. Merchant receiver represents 40% of the total fraudulent transactions.\\n', '\\n', '### 2.2.5. Time\\n', '\\n', 'h1. Most Fraud occurs between days 10 and 20.\\n', '\\n', '### 2.2.6. Is Flagged\\n', '\\n', 'h1. All flagged frauds represent 90% of frauds transactions.'], 'cell_type': 'markdown', 'metadata': {}}, {'source': ['## 2.3. Hyphoteses List'], 'cell_type': 'markdown', 'metadata': {}}, {'source': ['| #    | HYPOTHESES                                                   |\\n', '| ---- | ------------------------------------------------------------ |\\n', '| h1   | Frauds occur with 3 types of transfers.                      |\\n', '| h2   | Fraud occur with low values amounts.                         |\\n', '| h3   | Fraud occur with high values of old origin balance.          |\\n', '| h4   | Fraud occur with new balance origin is equal zero.           |\\n', '| h5   | Fraud occur with low values old balance destination.         |\\n', '| h6   | All fraudulent transaction occur with new receiver balance equal zero. |\\n', '| h7   | Customer to customer transactions represent 50% of the total fraudulent transactions. |\\n', '| h8   | Merchant receiver represents 40% of the total fraudulent transactions. |\\n', '| h9   | Most Fraud occurs between days 10 and 20.                                 |\\n', '|h10  | All flagged frauds represent 90% of frauds transactions. |'], 'cell_type': 'markdown', 'metadata': {}}], 'metadata': {'hide_input': False, 'kernelspec': {'display_name': 'Python 3', 'language': 'python', 'name': 'python3'}, 'language_info': {'codemirror_mode': {'name': 'ipython', 'version': 3}, 'file_extension': '.py', 'mimetype': 'text/x-python', 'name': 'python', 'nbconvert_exporter': 'python', 'pygments_lexer': 'ipython3', 'version': '3.7.9-final'}}, 'nbformat': 4, 'nbformat_minor': 4}\n"
     ]
    }
   ],
   "source": [
    "import json\n",
    "import os\n",
    "\n",
    "# note -- we can look at a .ipynb file as a plain text file right here in Jupyter notebook\n",
    "with open ('part1_blocker_fraud.ipynb', mode = 'r', encoding = 'utf-8') as f:\n",
    "    a = json.load (f)\n",
    "\n",
    "print(type(a))\n",
    "\n",
    "print(a.keys())\n",
    "\n",
    "print(a)"
   ]
  },
  {
   "source": [
    "## 12.2. Generating List of Notebooks to Merge"
   ],
   "cell_type": "markdown",
   "metadata": {}
  },
  {
   "cell_type": "code",
   "execution_count": 2,
   "metadata": {},
   "outputs": [
    {
     "output_type": "stream",
     "name": "stdout",
     "text": [
      "['part1_blocker_fraud.ipynb', 'part2_blocker_fraud.ipynb', 'part3_blocker_fraud.ipynb', 'part4_blocker_fraud.ipynb', 'part5_blocker_fraud.ipynb', 'part6_blocker_fraud.ipynb', 'v003_blocker_fraud_co.ipynb']\n"
     ]
    }
   ],
   "source": [
    "# generate list of files to be merged\n",
    "notebooks_to_merge = [file for file in os.listdir(os.getcwd()) if file.endswith('.ipynb')]\n",
    "\n",
    "# list should be in the order in which you want the notebooks to be merged\n",
    "# my notebooks are labeled 1.ipynb, 2.ipynb... in the order I want\n",
    "notebooks_to_merge.sort()\n",
    "\n",
    "print(notebooks_to_merge)"
   ]
  },
  {
   "source": [
    "## 12.3. Generate Combined .ipynb File"
   ],
   "cell_type": "markdown",
   "metadata": {}
  },
  {
   "cell_type": "code",
   "execution_count": 3,
   "metadata": {},
   "outputs": [
    {
     "output_type": "stream",
     "name": "stdout",
     "text": [
      "Generated file: \"ver001_blocker_fraud.ipynb\".\n"
     ]
    },
    {
     "output_type": "execute_result",
     "data": {
      "text/plain": [
       "'d:\\\\MEUS_PROJETOS_DS\\\\Blocker Fraud Company\\\\notebooks\\\\ver001_blocker_fraud.ipynb'"
      ]
     },
     "metadata": {},
     "execution_count": 3
    }
   ],
   "source": [
    "def combine_ipynb_files(list_of_notebooks, combined_file_name):\n",
    "    \n",
    "    '''\n",
    "    parameters:\n",
    "    `list_of_notebooks` is an ordered list of your .ipynb files to be merged\n",
    "    `combined_file_name` is the name of your combined .ipynb file which will be generated by this function\n",
    "    \n",
    "    returns: the filepath of the new file\n",
    "    '''\n",
    "    \n",
    "    with open (notebooks_to_merge[0], mode = 'r', encoding = 'utf-8') as f:\n",
    "        a = json.load (f)\n",
    "    \n",
    "    for notebook in notebooks_to_merge[1:]:\n",
    "        with open (notebook, mode = 'r', encoding = 'utf-8') as f:\n",
    "            b = json.load(f)\n",
    "            a['cells'].extend (b['cells']) \n",
    "                # extend here, not append, so that each dictionary in b['cells']\n",
    "                # is added to new dictionary in a['cells']\n",
    "\n",
    "    with open(combined_file_name, mode='w', encoding='utf-8') as f:\n",
    "        json.dump(a, f)\n",
    "    \n",
    "    print('Generated file: \"{}\".'.format(combined_file_name))\n",
    "    \n",
    "    return (os.path.realpath(combined_file_name))\n",
    "\n",
    "combine_ipynb_files(notebooks_to_merge, \"ver001_blocker_fraud.ipynb\")"
   ]
  },
  {
   "cell_type": "code",
   "execution_count": null,
   "metadata": {},
   "outputs": [],
   "source": []
  }
 ],
 "metadata": {
  "hide_input": false,
  "kernelspec": {
   "display_name": "Python 3",
   "language": "python",
   "name": "python3"
  },
  "language_info": {
   "codemirror_mode": {
    "name": "ipython",
    "version": 3
   },
   "file_extension": ".py",
   "mimetype": "text/x-python",
   "name": "python",
   "nbconvert_exporter": "python",
   "pygments_lexer": "ipython3",
   "version": "3.7.9-final"
  }
 },
 "nbformat": 4,
 "nbformat_minor": 4
}