{
 "cells": [
  {
   "source": [
    "# Part 02 Feature Engineering"
   ],
   "cell_type": "markdown",
   "metadata": {}
  },
  {
   "source": [
    "# 0.0. Imports"
   ],
   "cell_type": "markdown",
   "metadata": {}
  },
  {
   "cell_type": "code",
   "execution_count": 1,
   "metadata": {},
   "outputs": [],
   "source": [
    "# Data manipulation\n",
    "import pandas as pd\n",
    "import numpy as np\n",
    "\n",
    "# Statistics\n",
    "from scipy import stats\n",
    "from pandas_profiling import ProfileReport\n",
    "\n",
    "# Graphs\n",
    "import matplotlib.pyplot as plt\n",
    "import seaborn as sns\n",
    "\n",
    "# Load images\n",
    "from IPython.display import Image\n",
    "\n",
    "# Warning\n",
    "import warnings\n",
    "warnings.filterwarnings( 'ignore' )"
   ]
  },
  {
   "source": [
    "# 3.0. Feature Engineering\n",
    "Theoretically, the difference between a previous transaction and a subsequent one would be equal to the total transferred:\n",
    "\n",
    ">amount = oldbalanceOrg - newbalanceOrig\n",
    "\n",
    "The same could be said for Destinations:\n",
    "\n",
    ">newbalanceDest = amount + oldbalanceDest"
   ],
   "cell_type": "markdown",
   "metadata": {}
  },
  {
   "cell_type": "code",
   "execution_count": 2,
   "metadata": {},
   "outputs": [
    {
     "output_type": "execute_result",
     "data": {
      "text/plain": [
       "   step      type        amount    name_orig  oldbalance_orig  \\\n",
       "0     1   PAYMENT   9839.639648  C1231006815         170136.0   \n",
       "1     1   PAYMENT   1864.280029  C1666544295          21249.0   \n",
       "2     1  TRANSFER    181.000000  C1305486145            181.0   \n",
       "3     1  CASH_OUT    181.000000   C840083671            181.0   \n",
       "4     1   PAYMENT  11668.139648  C2048537720          41554.0   \n",
       "\n",
       "   newbalance_orig    name_dest  oldbalance_dest  newbalance_dest  is_fraud  \\\n",
       "0        160296.36  M1979787155              0.0              0.0         0   \n",
       "1         19384.72  M2044282225              0.0              0.0         0   \n",
       "2             0.00   C553264065              0.0              0.0         1   \n",
       "3             0.00    C38997010          21182.0              0.0         1   \n",
       "4         29885.86  M1230701703              0.0              0.0         0   \n",
       "\n",
       "   is_flagged_fraud  \n",
       "0                 0  \n",
       "1                 0  \n",
       "2                 0  \n",
       "3                 0  \n",
       "4                 0  "
      ],
      "text/html": "<div>\n<style scoped>\n    .dataframe tbody tr th:only-of-type {\n        vertical-align: middle;\n    }\n\n    .dataframe tbody tr th {\n        vertical-align: top;\n    }\n\n    .dataframe thead th {\n        text-align: right;\n    }\n</style>\n<table border=\"1\" class=\"dataframe\">\n  <thead>\n    <tr style=\"text-align: right;\">\n      <th></th>\n      <th>step</th>\n      <th>type</th>\n      <th>amount</th>\n      <th>name_orig</th>\n      <th>oldbalance_orig</th>\n      <th>newbalance_orig</th>\n      <th>name_dest</th>\n      <th>oldbalance_dest</th>\n      <th>newbalance_dest</th>\n      <th>is_fraud</th>\n      <th>is_flagged_fraud</th>\n    </tr>\n  </thead>\n  <tbody>\n    <tr>\n      <th>0</th>\n      <td>1</td>\n      <td>PAYMENT</td>\n      <td>9839.639648</td>\n      <td>C1231006815</td>\n      <td>170136.0</td>\n      <td>160296.36</td>\n      <td>M1979787155</td>\n      <td>0.0</td>\n      <td>0.0</td>\n      <td>0</td>\n      <td>0</td>\n    </tr>\n    <tr>\n      <th>1</th>\n      <td>1</td>\n      <td>PAYMENT</td>\n      <td>1864.280029</td>\n      <td>C1666544295</td>\n      <td>21249.0</td>\n      <td>19384.72</td>\n      <td>M2044282225</td>\n      <td>0.0</td>\n      <td>0.0</td>\n      <td>0</td>\n      <td>0</td>\n    </tr>\n    <tr>\n      <th>2</th>\n      <td>1</td>\n      <td>TRANSFER</td>\n      <td>181.000000</td>\n      <td>C1305486145</td>\n      <td>181.0</td>\n      <td>0.00</td>\n      <td>C553264065</td>\n      <td>0.0</td>\n      <td>0.0</td>\n      <td>1</td>\n      <td>0</td>\n    </tr>\n    <tr>\n      <th>3</th>\n      <td>1</td>\n      <td>CASH_OUT</td>\n      <td>181.000000</td>\n      <td>C840083671</td>\n      <td>181.0</td>\n      <td>0.00</td>\n      <td>C38997010</td>\n      <td>21182.0</td>\n      <td>0.0</td>\n      <td>1</td>\n      <td>0</td>\n    </tr>\n    <tr>\n      <th>4</th>\n      <td>1</td>\n      <td>PAYMENT</td>\n      <td>11668.139648</td>\n      <td>C2048537720</td>\n      <td>41554.0</td>\n      <td>29885.86</td>\n      <td>M1230701703</td>\n      <td>0.0</td>\n      <td>0.0</td>\n      <td>0</td>\n      <td>0</td>\n    </tr>\n  </tbody>\n</table>\n</div>"
     },
     "metadata": {},
     "execution_count": 2
    }
   ],
   "source": [
    "# Load dataset\n",
    "feature_dtypes = {'step': 'int16',\n",
    "                  'type': 'category',\n",
    "                  'amount': 'float32',\n",
    "                  'nameOrig': 'object',\n",
    "                  'oldbalanceOrg': 'float32',\n",
    "                  'newbalanceOrig': 'float32',\n",
    "                  'nameDest': 'object',\n",
    "                  'oldbalanceDest': 'float32',\n",
    "                  'newbalanceDest': 'float32',\n",
    "                  'isFraud': 'uint8',\n",
    "                  'isFlaggedFraud': 'uint8'}\n",
    "\n",
    "df1 = pd.read_csv('dataset\\df1.csv', dtype=feature_dtypes)"
   ]
  },
  {
   "cell_type": "code",
   "execution_count": 3,
   "metadata": {},
   "outputs": [],
   "source": [
    "# Origin balance\n",
    "df1['error_orig'] = df1.oldbalance_orig - df1.newbalance_orig - df1.amount\n",
    "\n",
    "# Destination balance\n",
    "df1['error_dest'] = df1.oldbalance_dest + df1.amount - df1.newbalance_dest"
   ]
  },
  {
   "source": [
    "A new feature classifying the type of customers."
   ],
   "cell_type": "markdown",
   "metadata": {}
  },
  {
   "source": [
    "# Customer type for name origin\n",
    "# df1['orig_type'] = df1['name_orig'].str.replace(r'[0-9]', regex=True, repl='')\n",
    "\n",
    "# Customer type for name destination\n",
    "df1['dest_type'] = df1['name_dest'].str.replace(r'[0-9]', regex=True, repl='')"
   ],
   "cell_type": "code",
   "metadata": {},
   "execution_count": 4,
   "outputs": []
  },
  {
   "source": [
    "The `orig_type` feature has only one customer type, that column will be removed."
   ],
   "cell_type": "markdown",
   "metadata": {}
  },
  {
   "cell_type": "code",
   "execution_count": 5,
   "metadata": {},
   "outputs": [
    {
     "output_type": "execute_result",
     "data": {
      "text/plain": [
       "C    4211125\n",
       "M    2151495\n",
       "Name: dest_type, dtype: int64"
      ]
     },
     "metadata": {},
     "execution_count": 5
    }
   ],
   "source": [
    "df1.dest_type.value_counts()"
   ]
  },
  {
   "source": [
    "Feature day will be created in order to ease the analysis."
   ],
   "cell_type": "markdown",
   "metadata": {}
  },
  {
   "cell_type": "code",
   "execution_count": 6,
   "metadata": {},
   "outputs": [],
   "source": [
    "# Day column\n",
    "df1['days'] = df1.step.apply(lambda x: np.ceil(x/24).astype('int'))"
   ]
  },
  {
   "cell_type": "code",
   "execution_count": 11,
   "metadata": {},
   "outputs": [],
   "source": [
    "# Saving dataset\n",
    "df1.to_csv('dataset\\df2.csv', index=False)"
   ]
  },
  {
   "cell_type": "code",
   "execution_count": 8,
   "metadata": {},
   "outputs": [
    {
     "output_type": "stream",
     "name": "stdout",
     "text": [
      "<class 'pandas.core.frame.DataFrame'>\nRangeIndex: 6362620 entries, 0 to 6362619\nData columns (total 15 columns):\n #   Column            Dtype   \n---  ------            -----   \n 0   step              int16   \n 1   type              category\n 2   amount            float32 \n 3   name_orig         object  \n 4   oldbalance_orig   float64 \n 5   newbalance_orig   float64 \n 6   name_dest         object  \n 7   oldbalance_dest   float64 \n 8   newbalance_dest   float64 \n 9   is_fraud          int64   \n 10  is_flagged_fraud  int64   \n 11  error_orig        float64 \n 12  error_dest        float64 \n 13  dest_type         object  \n 14  days              int64   \ndtypes: category(1), float32(1), float64(6), int16(1), int64(3), object(3)\nmemory usage: 625.0+ MB\n"
     ]
    }
   ],
   "source": [
    "df1.info()"
   ]
  },
  {
   "cell_type": "code",
   "execution_count": 10,
   "metadata": {},
   "outputs": [
    {
     "output_type": "execute_result",
     "data": {
      "text/plain": [
       "               step        amount  oldbalance_orig  newbalance_orig  \\\n",
       "count  6.362620e+06  6.362620e+06     6.362620e+06     6.362620e+06   \n",
       "mean   2.433972e+02  1.779883e+05     8.338831e+05     8.551137e+05   \n",
       "std    1.423320e+02  5.991358e+05     2.888243e+06     2.924049e+06   \n",
       "min    1.000000e+00  0.000000e+00     0.000000e+00     0.000000e+00   \n",
       "25%    1.560000e+02  1.338957e+04     0.000000e+00     0.000000e+00   \n",
       "50%    2.390000e+02  7.487194e+04     1.420800e+04     0.000000e+00   \n",
       "75%    3.350000e+02  2.087215e+05     1.073152e+05     1.442584e+05   \n",
       "max    7.430000e+02  9.244552e+07     5.958504e+07     4.958504e+07   \n",
       "\n",
       "       oldbalance_dest  newbalance_dest      is_fraud  is_flagged_fraud  \\\n",
       "count     6.362620e+06     6.362620e+06  6.362620e+06      6.362620e+06   \n",
       "mean      1.100702e+06     1.224996e+06  1.290820e-03      2.514687e-06   \n",
       "std       3.399180e+06     3.674129e+06  3.590480e-02      1.585775e-03   \n",
       "min       0.000000e+00     0.000000e+00  0.000000e+00      0.000000e+00   \n",
       "25%       0.000000e+00     0.000000e+00  0.000000e+00      0.000000e+00   \n",
       "50%       1.327057e+05     2.146614e+05  0.000000e+00      0.000000e+00   \n",
       "75%       9.430367e+05     1.111909e+06  0.000000e+00      0.000000e+00   \n",
       "max       3.560159e+08     3.561793e+08  1.000000e+00      1.000000e+00   \n",
       "\n",
       "         error_orig    error_dest          days  \n",
       "count  6.362620e+06  6.362620e+06  6.362620e+06  \n",
       "mean  -2.010925e+05  5.556717e+04  1.049191e+01  \n",
       "std    6.066505e+05  4.415288e+05  5.921812e+00  \n",
       "min   -9.244552e+07 -7.588572e+07  1.000000e+00  \n",
       "25%   -2.496411e+05  6.250000e-04  7.000000e+00  \n",
       "50%   -6.867725e+04  3.500490e+03  1.000000e+01  \n",
       "75%   -2.954197e+03  2.935302e+04  1.400000e+01  \n",
       "max    4.240234e+00  1.319123e+07  3.100000e+01  "
      ],
      "text/html": "<div>\n<style scoped>\n    .dataframe tbody tr th:only-of-type {\n        vertical-align: middle;\n    }\n\n    .dataframe tbody tr th {\n        vertical-align: top;\n    }\n\n    .dataframe thead th {\n        text-align: right;\n    }\n</style>\n<table border=\"1\" class=\"dataframe\">\n  <thead>\n    <tr style=\"text-align: right;\">\n      <th></th>\n      <th>step</th>\n      <th>amount</th>\n      <th>oldbalance_orig</th>\n      <th>newbalance_orig</th>\n      <th>oldbalance_dest</th>\n      <th>newbalance_dest</th>\n      <th>is_fraud</th>\n      <th>is_flagged_fraud</th>\n      <th>error_orig</th>\n      <th>error_dest</th>\n      <th>days</th>\n    </tr>\n  </thead>\n  <tbody>\n    <tr>\n      <th>count</th>\n      <td>6.362620e+06</td>\n      <td>6.362620e+06</td>\n      <td>6.362620e+06</td>\n      <td>6.362620e+06</td>\n      <td>6.362620e+06</td>\n      <td>6.362620e+06</td>\n      <td>6.362620e+06</td>\n      <td>6.362620e+06</td>\n      <td>6.362620e+06</td>\n      <td>6.362620e+06</td>\n      <td>6.362620e+06</td>\n    </tr>\n    <tr>\n      <th>mean</th>\n      <td>2.433972e+02</td>\n      <td>1.779883e+05</td>\n      <td>8.338831e+05</td>\n      <td>8.551137e+05</td>\n      <td>1.100702e+06</td>\n      <td>1.224996e+06</td>\n      <td>1.290820e-03</td>\n      <td>2.514687e-06</td>\n      <td>-2.010925e+05</td>\n      <td>5.556717e+04</td>\n      <td>1.049191e+01</td>\n    </tr>\n    <tr>\n      <th>std</th>\n      <td>1.423320e+02</td>\n      <td>5.991358e+05</td>\n      <td>2.888243e+06</td>\n      <td>2.924049e+06</td>\n      <td>3.399180e+06</td>\n      <td>3.674129e+06</td>\n      <td>3.590480e-02</td>\n      <td>1.585775e-03</td>\n      <td>6.066505e+05</td>\n      <td>4.415288e+05</td>\n      <td>5.921812e+00</td>\n    </tr>\n    <tr>\n      <th>min</th>\n      <td>1.000000e+00</td>\n      <td>0.000000e+00</td>\n      <td>0.000000e+00</td>\n      <td>0.000000e+00</td>\n      <td>0.000000e+00</td>\n      <td>0.000000e+00</td>\n      <td>0.000000e+00</td>\n      <td>0.000000e+00</td>\n      <td>-9.244552e+07</td>\n      <td>-7.588572e+07</td>\n      <td>1.000000e+00</td>\n    </tr>\n    <tr>\n      <th>25%</th>\n      <td>1.560000e+02</td>\n      <td>1.338957e+04</td>\n      <td>0.000000e+00</td>\n      <td>0.000000e+00</td>\n      <td>0.000000e+00</td>\n      <td>0.000000e+00</td>\n      <td>0.000000e+00</td>\n      <td>0.000000e+00</td>\n      <td>-2.496411e+05</td>\n      <td>6.250000e-04</td>\n      <td>7.000000e+00</td>\n    </tr>\n    <tr>\n      <th>50%</th>\n      <td>2.390000e+02</td>\n      <td>7.487194e+04</td>\n      <td>1.420800e+04</td>\n      <td>0.000000e+00</td>\n      <td>1.327057e+05</td>\n      <td>2.146614e+05</td>\n      <td>0.000000e+00</td>\n      <td>0.000000e+00</td>\n      <td>-6.867725e+04</td>\n      <td>3.500490e+03</td>\n      <td>1.000000e+01</td>\n    </tr>\n    <tr>\n      <th>75%</th>\n      <td>3.350000e+02</td>\n      <td>2.087215e+05</td>\n      <td>1.073152e+05</td>\n      <td>1.442584e+05</td>\n      <td>9.430367e+05</td>\n      <td>1.111909e+06</td>\n      <td>0.000000e+00</td>\n      <td>0.000000e+00</td>\n      <td>-2.954197e+03</td>\n      <td>2.935302e+04</td>\n      <td>1.400000e+01</td>\n    </tr>\n    <tr>\n      <th>max</th>\n      <td>7.430000e+02</td>\n      <td>9.244552e+07</td>\n      <td>5.958504e+07</td>\n      <td>4.958504e+07</td>\n      <td>3.560159e+08</td>\n      <td>3.561793e+08</td>\n      <td>1.000000e+00</td>\n      <td>1.000000e+00</td>\n      <td>4.240234e+00</td>\n      <td>1.319123e+07</td>\n      <td>3.100000e+01</td>\n    </tr>\n  </tbody>\n</table>\n</div>"
     },
     "metadata": {},
     "execution_count": 10
    }
   ],
   "source": [
    "df1.describe()"
   ]
  }
 ],
 "metadata": {
  "hide_input": false,
  "kernelspec": {
   "display_name": "Python 3",
   "language": "python",
   "name": "python3"
  },
  "language_info": {
   "codemirror_mode": {
    "name": "ipython",
    "version": 3
   },
   "file_extension": ".py",
   "mimetype": "text/x-python",
   "name": "python",
   "nbconvert_exporter": "python",
   "pygments_lexer": "ipython3",
   "version": "3.7.9-final"
  }
 },
 "nbformat": 4,
 "nbformat_minor": 4
}