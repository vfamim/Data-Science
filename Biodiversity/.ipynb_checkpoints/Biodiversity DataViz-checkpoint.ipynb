{
 "cells": [
  {
   "cell_type": "markdown",
   "metadata": {},
   "source": [
    "# <center>National Park Service About Endangered Species</center>\n",
    "\n",
    "For this project, we will interpret data from the National Parks Service about endangered species in different parks.\n",
    "\n",
    "We will perform some data analysis on the conservation statuses of these species and investigate if there are any patterns or themes to the types of species that become endangered. During this project, we will analyze, clean up, and plot data as well as pose questions and seek to answer them in a meaningful way.\n",
    "\n",
    "After we perform your analysis, we will share your findings about the National Park Service."
   ]
  },
  {
   "cell_type": "markdown",
   "metadata": {},
   "source": [
    "### National Park Service\n",
    "\n",
    "<img src=\"https://www.eenews.net/image_assets/2020/08/image_asset_90137.jpg\" alt=\"NPS\" style=\"zoom:67%;\" />\n",
    "\n",
    "National Park Service (NPS), agency of the U.S. Department of the Interior that manages and maintains several hundred national parks, monuments, historical sites, and other designated properties of the federal government. It was established in 1916 by an act of the U.S. Congress that was signed into law by U.S. Pres. Woodrow Wilson. The law stipulated that the new service was to “conserve the scenery and the natural and historic objects and the wild life therein and…leave them unimpaired for the enjoyment of future generations.”\n",
    "\n",
    "An endangered species is a species that is very likely to become extinct in the near future, either worldwide or in a particular political jurisdiction. Endangered species may be at risk due to factors such as habitat loss, poaching and invasive species. The International Union for Conservation of Nature (IUCN) Red List lists the global conservation status of many species, and various other agencies assess the status of species within particular areas. Many nations have laws that protect conservation-reliant species which, for example, forbid hunting, restrict land development, or create protected areas. Some endangered species are the target of extensive conservation efforts such as captive breeding and habitat restoration.\n",
    "\n",
    "### Conservation status\n",
    "\n",
    "<img src=\"https://image.isu.pub/100707150116-3c2b387f38174169afc127af1a227616/jpg/page_1.jpg\" alt=\"Endangered\" style=\"zoom:40%\" />\n",
    "\n",
    "The conservation status of a species indicates the likelihood that it will become extinct. Many factors are considered when assessing the status of a species; e.g., such statistics as the number remaining, the overall increase or decrease in the population over time, breeding success rates, or known threats. The IUCN Red List of Threatened Species is the best-known worldwide conservation status listing and ranking system.\n",
    "\n",
    "Over 50% of the world's species are estimated to be at risk of extinction. Internationally, 195 countries have signed an accord to create Biodiversity Action Plans that will protect endangered and other threatened species. In the United States, such plans are usually called Species Recovery Plans.\n",
    "\n",
    "### About the data\n",
    "\n",
    "We have been given two CSV files:\n",
    "\n",
    "1. **species_info.csv** - contains data about different species and their conservation status\n",
    "\n",
    "2. **observations.csv** - holds recorded sightings of different species at several national parks for the past 7 days.\n",
    "\n",
    "**species_info.csv**:\n",
    "\n",
    "- **category** - class of animal\n",
    "- **scientific_name** - the scientific name of each species\n",
    "- **common_name** - the common names of each species\n",
    "- **conservation_status** - each species’ current conservation status\n",
    "\n",
    "**observations.csv**:\n",
    "\n",
    "- **scientific_name** - the scientific name of each species\n",
    "- **park_name** - Park where species were found\n",
    "- **observations** - the number of times each species was observed at park\n",
    "\n",
    "**The Dataset:**\n",
    "\n",
    "- Content was provided by [Codeacademy.com](https://www.codecademy.com/learn)"
   ]
  },
  {
   "cell_type": "markdown",
   "metadata": {},
   "source": [
    "## 1. Importing Python Modules"
   ]
  },
  {
   "cell_type": "code",
   "execution_count": 1,
   "metadata": {},
   "outputs": [
    {
     "name": "stdout",
     "output_type": "stream",
     "text": [
      "Observations dataset has 23296 data points with 3 variables each.\n",
      "Species dataset has 5824 data points with 4 variables each.\n"
     ]
    }
   ],
   "source": [
    "# Importing library necessary for this project\n",
    "import numpy as np\n",
    "import pandas as pd\n",
    "import matplotlib.pyplot as plt\n",
    "import seaborn as sns\n",
    "%matplotlib inline\n",
    "\n",
    "# Loading the dataset\n",
    "df_ob = pd.read_csv('observations.csv')\n",
    "df_species = pd.read_csv('species_info.csv')\n",
    "\n",
    "# Success\n",
    "print(\"Observations dataset has {} data points with {} variables each.\".format(*df_ob.shape))\n",
    "print(\"Species dataset has {} data points with {} variables each.\".format(*df_species.shape))"
   ]
  },
  {
   "cell_type": "code",
   "execution_count": 2,
   "metadata": {},
   "outputs": [
    {
     "name": "stdout",
     "output_type": "stream",
     "text": [
      "Dataset has 25632 data points with 6 variables each.\n"
     ]
    },
    {
     "data": {
      "text/html": [
       "<div>\n",
       "<style scoped>\n",
       "    .dataframe tbody tr th:only-of-type {\n",
       "        vertical-align: middle;\n",
       "    }\n",
       "\n",
       "    .dataframe tbody tr th {\n",
       "        vertical-align: top;\n",
       "    }\n",
       "\n",
       "    .dataframe thead th {\n",
       "        text-align: right;\n",
       "    }\n",
       "</style>\n",
       "<table border=\"1\" class=\"dataframe\">\n",
       "  <thead>\n",
       "    <tr style=\"text-align: right;\">\n",
       "      <th></th>\n",
       "      <th>scientific_name</th>\n",
       "      <th>park_name</th>\n",
       "      <th>observations</th>\n",
       "      <th>category</th>\n",
       "      <th>common_names</th>\n",
       "      <th>conservation_status</th>\n",
       "    </tr>\n",
       "  </thead>\n",
       "  <tbody>\n",
       "    <tr>\n",
       "      <th>0</th>\n",
       "      <td>Vicia benghalensis</td>\n",
       "      <td>Great Smoky Mountains National Park</td>\n",
       "      <td>68</td>\n",
       "      <td>Vascular Plant</td>\n",
       "      <td>Purple Vetch, Reddish Tufted Vetch</td>\n",
       "      <td>NaN</td>\n",
       "    </tr>\n",
       "    <tr>\n",
       "      <th>1</th>\n",
       "      <td>Vicia benghalensis</td>\n",
       "      <td>Yosemite National Park</td>\n",
       "      <td>148</td>\n",
       "      <td>Vascular Plant</td>\n",
       "      <td>Purple Vetch, Reddish Tufted Vetch</td>\n",
       "      <td>NaN</td>\n",
       "    </tr>\n",
       "    <tr>\n",
       "      <th>2</th>\n",
       "      <td>Vicia benghalensis</td>\n",
       "      <td>Yellowstone National Park</td>\n",
       "      <td>247</td>\n",
       "      <td>Vascular Plant</td>\n",
       "      <td>Purple Vetch, Reddish Tufted Vetch</td>\n",
       "      <td>NaN</td>\n",
       "    </tr>\n",
       "    <tr>\n",
       "      <th>3</th>\n",
       "      <td>Vicia benghalensis</td>\n",
       "      <td>Bryce National Park</td>\n",
       "      <td>104</td>\n",
       "      <td>Vascular Plant</td>\n",
       "      <td>Purple Vetch, Reddish Tufted Vetch</td>\n",
       "      <td>NaN</td>\n",
       "    </tr>\n",
       "    <tr>\n",
       "      <th>4</th>\n",
       "      <td>Neovison vison</td>\n",
       "      <td>Great Smoky Mountains National Park</td>\n",
       "      <td>77</td>\n",
       "      <td>Mammal</td>\n",
       "      <td>American Mink</td>\n",
       "      <td>NaN</td>\n",
       "    </tr>\n",
       "  </tbody>\n",
       "</table>\n",
       "</div>"
      ],
      "text/plain": [
       "      scientific_name                            park_name  observations  \\\n",
       "0  Vicia benghalensis  Great Smoky Mountains National Park            68   \n",
       "1  Vicia benghalensis               Yosemite National Park           148   \n",
       "2  Vicia benghalensis            Yellowstone National Park           247   \n",
       "3  Vicia benghalensis                  Bryce National Park           104   \n",
       "4      Neovison vison  Great Smoky Mountains National Park            77   \n",
       "\n",
       "         category                        common_names conservation_status  \n",
       "0  Vascular Plant  Purple Vetch, Reddish Tufted Vetch                 NaN  \n",
       "1  Vascular Plant  Purple Vetch, Reddish Tufted Vetch                 NaN  \n",
       "2  Vascular Plant  Purple Vetch, Reddish Tufted Vetch                 NaN  \n",
       "3  Vascular Plant  Purple Vetch, Reddish Tufted Vetch                 NaN  \n",
       "4          Mammal                       American Mink                 NaN  "
      ]
     },
     "execution_count": 2,
     "metadata": {},
     "output_type": "execute_result"
    }
   ],
   "source": [
    "# Merging both data\n",
    "df = pd.merge(df_ob, df_species)\n",
    "print(\"Dataset has {} data points with {} variables each.\".format(*df.shape))\n",
    "df.head()"
   ]
  },
  {
   "cell_type": "markdown",
   "metadata": {},
   "source": [
    "## 2. Inspecting Data"
   ]
  },
  {
   "cell_type": "code",
   "execution_count": 3,
   "metadata": {},
   "outputs": [
    {
     "name": "stdout",
     "output_type": "stream",
     "text": [
      "Index(['scientific_name', 'park_name', 'observations'], dtype='object')\n",
      "---------------------------------------------------------------------------\n",
      "Index(['category', 'scientific_name', 'common_names', 'conservation_status'], dtype='object')\n",
      "---------------------------------------------------------------------------\n",
      "scientific_name        object\n",
      "park_name              object\n",
      "observations            int64\n",
      "category               object\n",
      "common_names           object\n",
      "conservation_status    object\n",
      "dtype: object\n"
     ]
    }
   ],
   "source": [
    "# Inspecting data\n",
    "print(df_ob.columns)\n",
    "print('---' * 25)\n",
    "print(df_species.columns)\n",
    "print('---' * 25)\n",
    "print(df.dtypes)"
   ]
  },
  {
   "cell_type": "code",
   "execution_count": 4,
   "metadata": {},
   "outputs": [
    {
     "data": {
      "text/plain": [
       "scientific_name            0\n",
       "park_name                  0\n",
       "observations               0\n",
       "category                   0\n",
       "common_names               0\n",
       "conservation_status    24752\n",
       "dtype: int64"
      ]
     },
     "execution_count": 4,
     "metadata": {},
     "output_type": "execute_result"
    }
   ],
   "source": [
    "# Checking null values\n",
    "df.isnull().sum()"
   ]
  },
  {
   "cell_type": "markdown",
   "metadata": {},
   "source": [
    "The Null Values are for regular situation species (not endangered). Let's fix this."
   ]
  },
  {
   "cell_type": "code",
   "execution_count": 5,
   "metadata": {},
   "outputs": [],
   "source": [
    "df['conservation_status'].fillna('Regular', inplace=True)"
   ]
  },
  {
   "cell_type": "code",
   "execution_count": 6,
   "metadata": {},
   "outputs": [
    {
     "data": {
      "text/plain": [
       "array(['Regular', 'Species of Concern', 'Threatened', 'Endangered',\n",
       "       'In Recovery'], dtype=object)"
      ]
     },
     "execution_count": 6,
     "metadata": {},
     "output_type": "execute_result"
    }
   ],
   "source": [
    "df['conservation_status'].unique()"
   ]
  },
  {
   "cell_type": "markdown",
   "metadata": {},
   "source": [
    "## 3. Data Visualization"
   ]
  },
  {
   "cell_type": "markdown",
   "metadata": {},
   "source": [
    "Let's conclude some initial facts, like the category column proportion."
   ]
  },
  {
   "cell_type": "code",
   "execution_count": 7,
   "metadata": {},
   "outputs": [
    {
     "data": {
      "image/png": "[encoded data removed]",
      "text/plain": [
       "<Figure size 720x360 with 1 Axes>"
      ]
     },
     "metadata": {},
     "output_type": "display_data"
    }
   ],
   "source": [
    "# Ploting category\n",
    "plt.figure(figsize=(10,5))\n",
    "df['category'].value_counts().plot.pie(autopct='%.1f%%')\n",
    "plt.title('Class of Animal')\n",
    "plt.show()"
   ]
  },
  {
   "cell_type": "markdown",
   "metadata": {},
   "source": [
    "The Vascular Plant represents 76.3% of dataset, followed by bird with 9.2%"
   ]
  },
  {
   "cell_type": "markdown",
   "metadata": {},
   "source": [
    "#### 3.1 - Observations"
   ]
  },
  {
   "cell_type": "code",
   "execution_count": 8,
   "metadata": {},
   "outputs": [
    {
     "data": {
      "image/png": "[encoded data removed]",
      "text/plain": [
       "<Figure size 864x360 with 1 Axes>"
      ]
     },
     "metadata": {
      "needs_background": "light"
     },
     "output_type": "display_data"
    }
   ],
   "source": [
    "# Ploting observations per park\n",
    "plt.figure(figsize=(12,5))\n",
    "sns.barplot(y='park_name', x='observations', data=df)\n",
    "plt.xlabel('Observations')\n",
    "plt.ylabel('Park Name')\n",
    "plt.show()"
   ]
  },
  {
   "cell_type": "markdown",
   "metadata": {},
   "source": [
    "Yellowstone National Park has the majority observations."
   ]
  },
  {
   "cell_type": "code",
   "execution_count": 9,
   "metadata": {},
   "outputs": [
    {
     "data": {
      "image/png": "[encoded data removed]",
      "text/plain": [
       "<Figure size 864x360 with 1 Axes>"
      ]
     },
     "metadata": {
      "needs_background": "light"
     },
     "output_type": "display_data"
    }
   ],
   "source": [
    "# Most observed type of animals\n",
    "plt.figure(figsize=(12,5))\n",
    "sns.violinplot(x='observations', y='category', data = df)\n",
    "plt.xlabel('Observations')\n",
    "plt.ylabel('Category')\n",
    "plt.show()"
   ]
  },
  {
   "cell_type": "markdown",
   "metadata": {},
   "source": [
    "#### 3.2 - Extinction risk"
   ]
  },
  {
   "cell_type": "markdown",
   "metadata": {},
   "source": [
    "The number of observations is pretty similar between species."
   ]
  },
  {
   "cell_type": "code",
   "execution_count": 10,
   "metadata": {},
   "outputs": [
    {
     "name": "stdout",
     "output_type": "stream",
     "text": [
      "Regular               24752\n",
      "Species of Concern      732\n",
      "Endangered               80\n",
      "Threatened               44\n",
      "In Recovery              24\n",
      "Name: conservation_status, dtype: int64\n"
     ]
    }
   ],
   "source": [
    "print(df['conservation_status'].value_counts())"
   ]
  },
  {
   "cell_type": "markdown",
   "metadata": {},
   "source": [
    "Now let's check wich animal type has greater risk of endangered."
   ]
  },
  {
   "cell_type": "code",
   "execution_count": 11,
   "metadata": {},
   "outputs": [
    {
     "data": {
      "text/plain": [
       "<Figure size 1800x360 with 0 Axes>"
      ]
     },
     "metadata": {},
     "output_type": "display_data"
    },
    {
     "data": {
      "image/png": "[encoded data removed]",
      "text/plain": [
       "<Figure size 1211.5x720 with 5 Axes>"
      ]
     },
     "metadata": {
      "needs_background": "light"
     },
     "output_type": "display_data"
    }
   ],
   "source": [
    "plt.figure(figsize=(25, 5))\n",
    "ax = sns.catplot(\n",
    "    y='category', \n",
    "    data=df, \n",
    "    hue='conservation_status', \n",
    "    kind='count', col='conservation_status', \n",
    "    col_wrap = 3, \n",
    "    sharex = False,\n",
    ").add_legend()\n",
    "ax.set_axis_labels('', 'Category')\n",
    "plt.show()"
   ]
  },
  {
   "cell_type": "markdown",
   "metadata": {},
   "source": [
    "Let's focus on `Endangered`, `Threatened` and `Species of Concern`"
   ]
  },
  {
   "cell_type": "code",
   "execution_count": 12,
   "metadata": {},
   "outputs": [
    {
     "data": {
      "text/html": [
       "<div>\n",
       "<style scoped>\n",
       "    .dataframe tbody tr th:only-of-type {\n",
       "        vertical-align: middle;\n",
       "    }\n",
       "\n",
       "    .dataframe tbody tr th {\n",
       "        vertical-align: top;\n",
       "    }\n",
       "\n",
       "    .dataframe thead th {\n",
       "        text-align: right;\n",
       "    }\n",
       "</style>\n",
       "<table border=\"1\" class=\"dataframe\">\n",
       "  <thead>\n",
       "    <tr style=\"text-align: right;\">\n",
       "      <th>category</th>\n",
       "      <th>Amphibian</th>\n",
       "      <th>Bird</th>\n",
       "      <th>Fish</th>\n",
       "      <th>Mammal</th>\n",
       "      <th>Nonvascular Plant</th>\n",
       "      <th>Reptile</th>\n",
       "      <th>Vascular Plant</th>\n",
       "    </tr>\n",
       "    <tr>\n",
       "      <th>conservation_status</th>\n",
       "      <th></th>\n",
       "      <th></th>\n",
       "      <th></th>\n",
       "      <th></th>\n",
       "      <th></th>\n",
       "      <th></th>\n",
       "      <th></th>\n",
       "    </tr>\n",
       "  </thead>\n",
       "  <tbody>\n",
       "    <tr>\n",
       "      <th>Endangered</th>\n",
       "      <td>4.0</td>\n",
       "      <td>16.0</td>\n",
       "      <td>12.0</td>\n",
       "      <td>44.0</td>\n",
       "      <td>NaN</td>\n",
       "      <td>NaN</td>\n",
       "      <td>4.0</td>\n",
       "    </tr>\n",
       "    <tr>\n",
       "      <th>In Recovery</th>\n",
       "      <td>NaN</td>\n",
       "      <td>12.0</td>\n",
       "      <td>NaN</td>\n",
       "      <td>12.0</td>\n",
       "      <td>NaN</td>\n",
       "      <td>NaN</td>\n",
       "      <td>NaN</td>\n",
       "    </tr>\n",
       "    <tr>\n",
       "      <th>Species of Concern</th>\n",
       "      <td>16.0</td>\n",
       "      <td>320.0</td>\n",
       "      <td>16.0</td>\n",
       "      <td>168.0</td>\n",
       "      <td>20.0</td>\n",
       "      <td>20.0</td>\n",
       "      <td>172.0</td>\n",
       "    </tr>\n",
       "    <tr>\n",
       "      <th>Threatened</th>\n",
       "      <td>8.0</td>\n",
       "      <td>NaN</td>\n",
       "      <td>20.0</td>\n",
       "      <td>8.0</td>\n",
       "      <td>NaN</td>\n",
       "      <td>NaN</td>\n",
       "      <td>8.0</td>\n",
       "    </tr>\n",
       "  </tbody>\n",
       "</table>\n",
       "</div>"
      ],
      "text/plain": [
       "category             Amphibian   Bird  Fish  Mammal  Nonvascular Plant  \\\n",
       "conservation_status                                                      \n",
       "Endangered                 4.0   16.0  12.0    44.0                NaN   \n",
       "In Recovery                NaN   12.0   NaN    12.0                NaN   \n",
       "Species of Concern        16.0  320.0  16.0   168.0               20.0   \n",
       "Threatened                 8.0    NaN  20.0     8.0                NaN   \n",
       "\n",
       "category             Reptile  Vascular Plant  \n",
       "conservation_status                           \n",
       "Endangered               NaN             4.0  \n",
       "In Recovery              NaN             NaN  \n",
       "Species of Concern      20.0           172.0  \n",
       "Threatened               NaN             8.0  "
      ]
     },
     "execution_count": 12,
     "metadata": {},
     "output_type": "execute_result"
    }
   ],
   "source": [
    "conservationCategory = df[df.conservation_status != 'Regular'].groupby(['conservation_status', 'category'])['scientific_name']\\\n",
    ".count().unstack()\n",
    "conservationCategory"
   ]
  },
  {
   "cell_type": "code",
   "execution_count": 13,
   "metadata": {},
   "outputs": [
    {
     "data": {
      "image/png": "[encoded data removed]",
      "text/plain": [
       "<Figure size 720x576 with 1 Axes>"
      ]
     },
     "metadata": {
      "needs_background": "light"
     },
     "output_type": "display_data"
    }
   ],
   "source": [
    "ax = conservationCategory.plot(kind='bar', figsize=(10,8), stacked=True)\n",
    "ax_x"
   ]
  },
  {
   "cell_type": "markdown",
   "metadata": {},
   "source": [
    "* **Species of Concern** is an informal term. It is not defined in the federal Endangered **Species** Act. The term commonly refers to **species** that are declining or appear to be in need of conservation. Many agencies and organizations maintain lists of at-risk **species**.\n",
    "\n",
    "*  **Threatened species** are **plants** and animals that are likely to become **endangered** within the foreseeable future throughout all or a significant portion of its range.\n",
    "\n",
    "* **Endangered species** are those **plants** and animals that have become so rare they are in danger of becoming extinct.\n",
    "\n",
    "* **In Recovery**: formerly Endangered, but currently neither in danger of extinction throughout all or a significant portion of its range.\n",
    "\n",
    "Now we can draw some conclusions:\n",
    "\n",
    "* `Bird` is the category with highest `Species of Concern`\n",
    "* `Fish` is the category with highest `Threatened`;\n",
    "* `Mammal` is the category with highest `Endangered`;\n"
   ]
  },
  {
   "cell_type": "markdown",
   "metadata": {},
   "source": [
    "To help the analisys we are creating a 'Preserved' column, it is contain information about regular or dangerous situation: \n",
    "* `0` represents regular situation;\n",
    "* `1` represents endangered or risk situation;"
   ]
  },
  {
   "cell_type": "code",
   "execution_count": 147,
   "metadata": {},
   "outputs": [
    {
     "name": "stdout",
     "output_type": "stream",
     "text": [
      "0    24752\n",
      "1      880\n",
      "Name: preserved, dtype: int64\n"
     ]
    }
   ],
   "source": [
    "df['preserved'] = df['conservation_status'].apply(lambda x: 0 if x=='Regular' else 1)\n",
    "print(df['preserved'].value_counts())\n"
   ]
  },
  {
   "cell_type": "code",
   "execution_count": 148,
   "metadata": {},
   "outputs": [
    {
     "data": {
      "text/html": [
       "<div>\n",
       "<style scoped>\n",
       "    .dataframe tbody tr th:only-of-type {\n",
       "        vertical-align: middle;\n",
       "    }\n",
       "\n",
       "    .dataframe tbody tr th {\n",
       "        vertical-align: top;\n",
       "    }\n",
       "\n",
       "    .dataframe thead th {\n",
       "        text-align: right;\n",
       "    }\n",
       "</style>\n",
       "<table border=\"1\" class=\"dataframe\">\n",
       "  <thead>\n",
       "    <tr style=\"text-align: right;\">\n",
       "      <th></th>\n",
       "      <th>park_name</th>\n",
       "      <th>preserved</th>\n",
       "      <th>observations</th>\n",
       "    </tr>\n",
       "  </thead>\n",
       "  <tbody>\n",
       "    <tr>\n",
       "      <th>0</th>\n",
       "      <td>Bryce National Park</td>\n",
       "      <td>0</td>\n",
       "      <td>614682</td>\n",
       "    </tr>\n",
       "    <tr>\n",
       "      <th>1</th>\n",
       "      <td>Bryce National Park</td>\n",
       "      <td>1</td>\n",
       "      <td>18609</td>\n",
       "    </tr>\n",
       "    <tr>\n",
       "      <th>2</th>\n",
       "      <td>Great Smoky Mountains National Park</td>\n",
       "      <td>0</td>\n",
       "      <td>462047</td>\n",
       "    </tr>\n",
       "    <tr>\n",
       "      <th>3</th>\n",
       "      <td>Great Smoky Mountains National Park</td>\n",
       "      <td>1</td>\n",
       "      <td>12816</td>\n",
       "    </tr>\n",
       "    <tr>\n",
       "      <th>4</th>\n",
       "      <td>Yellowstone National Park</td>\n",
       "      <td>0</td>\n",
       "      <td>1543058</td>\n",
       "    </tr>\n",
       "    <tr>\n",
       "      <th>5</th>\n",
       "      <td>Yellowstone National Park</td>\n",
       "      <td>1</td>\n",
       "      <td>44583</td>\n",
       "    </tr>\n",
       "    <tr>\n",
       "      <th>6</th>\n",
       "      <td>Yosemite National Park</td>\n",
       "      <td>0</td>\n",
       "      <td>922539</td>\n",
       "    </tr>\n",
       "    <tr>\n",
       "      <th>7</th>\n",
       "      <td>Yosemite National Park</td>\n",
       "      <td>1</td>\n",
       "      <td>26913</td>\n",
       "    </tr>\n",
       "  </tbody>\n",
       "</table>\n",
       "</div>"
      ],
      "text/plain": [
       "                             park_name  preserved  observations\n",
       "0                  Bryce National Park          0        614682\n",
       "1                  Bryce National Park          1         18609\n",
       "2  Great Smoky Mountains National Park          0        462047\n",
       "3  Great Smoky Mountains National Park          1         12816\n",
       "4            Yellowstone National Park          0       1543058\n",
       "5            Yellowstone National Park          1         44583\n",
       "6               Yosemite National Park          0        922539\n",
       "7               Yosemite National Park          1         26913"
      ]
     },
     "execution_count": 148,
     "metadata": {},
     "output_type": "execute_result"
    }
   ],
   "source": [
    "preservedCategory = df.groupby(['park_name', 'preserved'])['observations'].sum().reset_index()\n",
    "preservedCategory"
   ]
  },
  {
   "cell_type": "code",
   "execution_count": 153,
   "metadata": {},
   "outputs": [
    {
     "data": {
      "image/png": "[encoded data removed]",
      "text/plain": [
       "<Figure size 1152x288 with 1 Axes>"
      ]
     },
     "metadata": {
      "needs_background": "light"
     },
     "output_type": "display_data"
    }
   ],
   "source": [
    "plt.figure(figsize=(16, 4))\n",
    "sns.barplot(x='park_name', y='observations', data=preservedCategory, hue='preserved')\n",
    "plt.xlabel('Park Name')\n",
    "plt.ylabel(\"Park's Observation\")\n",
    "plt.show()"
   ]
  },
  {
   "cell_type": "code",
   "execution_count": 155,
   "metadata": {},
   "outputs": [
    {
     "data": {
      "text/html": [
       "<div>\n",
       "<style scoped>\n",
       "    .dataframe tbody tr th:only-of-type {\n",
       "        vertical-align: middle;\n",
       "    }\n",
       "\n",
       "    .dataframe tbody tr th {\n",
       "        vertical-align: top;\n",
       "    }\n",
       "\n",
       "    .dataframe thead th {\n",
       "        text-align: right;\n",
       "    }\n",
       "</style>\n",
       "<table border=\"1\" class=\"dataframe\">\n",
       "  <thead>\n",
       "    <tr style=\"text-align: right;\">\n",
       "      <th></th>\n",
       "      <th>park_name</th>\n",
       "      <th>category</th>\n",
       "      <th>preserved</th>\n",
       "      <th>observations</th>\n",
       "    </tr>\n",
       "  </thead>\n",
       "  <tbody>\n",
       "    <tr>\n",
       "      <th>0</th>\n",
       "      <td>Bryce National Park</td>\n",
       "      <td>Amphibian</td>\n",
       "      <td>1</td>\n",
       "      <td>498</td>\n",
       "    </tr>\n",
       "    <tr>\n",
       "      <th>1</th>\n",
       "      <td>Bryce National Park</td>\n",
       "      <td>Bird</td>\n",
       "      <td>1</td>\n",
       "      <td>7608</td>\n",
       "    </tr>\n",
       "    <tr>\n",
       "      <th>2</th>\n",
       "      <td>Bryce National Park</td>\n",
       "      <td>Fish</td>\n",
       "      <td>1</td>\n",
       "      <td>731</td>\n",
       "    </tr>\n",
       "    <tr>\n",
       "      <th>3</th>\n",
       "      <td>Bryce National Park</td>\n",
       "      <td>Mammal</td>\n",
       "      <td>1</td>\n",
       "      <td>4701</td>\n",
       "    </tr>\n",
       "    <tr>\n",
       "      <th>4</th>\n",
       "      <td>Bryce National Park</td>\n",
       "      <td>Nonvascular Plant</td>\n",
       "      <td>1</td>\n",
       "      <td>486</td>\n",
       "    </tr>\n",
       "  </tbody>\n",
       "</table>\n",
       "</div>"
      ],
      "text/plain": [
       "             park_name           category  preserved  observations\n",
       "0  Bryce National Park          Amphibian          1           498\n",
       "1  Bryce National Park               Bird          1          7608\n",
       "2  Bryce National Park               Fish          1           731\n",
       "3  Bryce National Park             Mammal          1          4701\n",
       "4  Bryce National Park  Nonvascular Plant          1           486"
      ]
     },
     "execution_count": 155,
     "metadata": {},
     "output_type": "execute_result"
    }
   ],
   "source": [
    "riskCategory = df[df['preserved'] != 0].groupby(['park_name', 'category', 'preserved'])['observations'].sum().reset_index()\n",
    "riskCategory.head()"
   ]
  },
  {
   "cell_type": "code",
   "execution_count": 156,
   "metadata": {
    "scrolled": true
   },
   "outputs": [
    {
     "data": {
      "image/png": "[encoded data removed]",
      "text/plain": [
       "<Figure size 1152x288 with 1 Axes>"
      ]
     },
     "metadata": {
      "needs_background": "light"
     },
     "output_type": "display_data"
    }
   ],
   "source": [
    "plt.figure(figsize=(16,4))\n",
    "sns.barplot('category', 'observations', data=riskCategory, hue='preserved')\n",
    "plt.xlabel('Category')\n",
    "plt.ylabel('Observations')\n",
    "plt.title('Not Preserved Category')\n",
    "plt.show()"
   ]
  },
  {
   "cell_type": "markdown",
   "metadata": {},
   "source": [
    "In overall, `Bird`'s are the category with highest risk."
   ]
  },
  {
   "cell_type": "markdown",
   "metadata": {},
   "source": [
    "#### 3.3 Species of Concern\n",
    "\n",
    "\n",
    "We will check which `Bird` has the highest status in this category."
   ]
  },
  {
   "cell_type": "code",
   "execution_count": 198,
   "metadata": {},
   "outputs": [
    {
     "name": "stdout",
     "output_type": "stream",
     "text": [
      "(72, 3)\n",
      "common_names    72\n",
      "preserved        1\n",
      "observations    55\n",
      "dtype: int64\n"
     ]
    },
    {
     "data": {
      "text/html": [
       "<div>\n",
       "<style scoped>\n",
       "    .dataframe tbody tr th:only-of-type {\n",
       "        vertical-align: middle;\n",
       "    }\n",
       "\n",
       "    .dataframe tbody tr th {\n",
       "        vertical-align: top;\n",
       "    }\n",
       "\n",
       "    .dataframe thead th {\n",
       "        text-align: right;\n",
       "    }\n",
       "</style>\n",
       "<table border=\"1\" class=\"dataframe\">\n",
       "  <thead>\n",
       "    <tr style=\"text-align: right;\">\n",
       "      <th></th>\n",
       "      <th>common_names</th>\n",
       "      <th>preserved</th>\n",
       "      <th>observations</th>\n",
       "    </tr>\n",
       "  </thead>\n",
       "  <tbody>\n",
       "    <tr>\n",
       "      <th>7</th>\n",
       "      <td>Bank Swallow, Sand Martin</td>\n",
       "      <td>1</td>\n",
       "      <td>1042</td>\n",
       "    </tr>\n",
       "    <tr>\n",
       "      <th>6</th>\n",
       "      <td>Bank Swallow</td>\n",
       "      <td>1</td>\n",
       "      <td>1042</td>\n",
       "    </tr>\n",
       "    <tr>\n",
       "      <th>39</th>\n",
       "      <td>Osprey</td>\n",
       "      <td>1</td>\n",
       "      <td>1040</td>\n",
       "    </tr>\n",
       "    <tr>\n",
       "      <th>40</th>\n",
       "      <td>Osprey, Western Osprey</td>\n",
       "      <td>1</td>\n",
       "      <td>1040</td>\n",
       "    </tr>\n",
       "    <tr>\n",
       "      <th>12</th>\n",
       "      <td>Black-Crowned Night-Heron</td>\n",
       "      <td>1</td>\n",
       "      <td>1018</td>\n",
       "    </tr>\n",
       "  </tbody>\n",
       "</table>\n",
       "</div>"
      ],
      "text/plain": [
       "                 common_names  preserved  observations\n",
       "7   Bank Swallow, Sand Martin          1          1042\n",
       "6                Bank Swallow          1          1042\n",
       "39                     Osprey          1          1040\n",
       "40     Osprey, Western Osprey          1          1040\n",
       "12  Black-Crowned Night-Heron          1          1018"
      ]
     },
     "execution_count": 198,
     "metadata": {},
     "output_type": "execute_result"
    }
   ],
   "source": [
    "bird = df[(df['category'] == 'Bird') & (df['conservation_status'] == 'Species of Concern')]\\\n",
    ".groupby(['common_names', 'preserved'])\\\n",
    "['observations'].sum().reset_index()\n",
    "\n",
    "print(bird.shape)\n",
    "print(bird.nunique())\n",
    "\n",
    "bird.sort_values('observations', ascending=False).head()"
   ]
  },
  {
   "cell_type": "code",
   "execution_count": 204,
   "metadata": {},
   "outputs": [
    {
     "data": {
      "text/plain": [
       "category  common_names                                  \n",
       "Bird      Brewster's Warbler                                12\n",
       "          Common Pigeon, Rock Dove, Rock Pigeon             12\n",
       "          Eastern Screech-Owl                               12\n",
       "          Eurasian Collared Dove                            12\n",
       "          Eurasian Collared Dove, Eurasian Collared-Dove    12\n",
       "                                                            ..\n",
       "          Yellow-Billed Magpie                               4\n",
       "          Yellow-Breasted Chat                               4\n",
       "          Yellow-Crowned Night-Heron                         4\n",
       "          Yellow-Headed Blackbird                            4\n",
       "          Yellow-Throated Vireo                              4\n",
       "Name: common_names, Length: 481, dtype: int64"
      ]
     },
     "execution_count": 204,
     "metadata": {},
     "output_type": "execute_result"
    }
   ],
   "source": [
    "df[df['category'] == 'Bird'].groupby('category')['common_names'].value_counts()"
   ]
  },
  {
   "cell_type": "code",
   "execution_count": null,
   "metadata": {},
   "outputs": [],
   "source": []
  }
 ],
 "metadata": {
  "hide_input": false,
  "kernelspec": {
   "display_name": "Python 3",
   "language": "python",
   "name": "python3"
  },
  "language_info": {
   "codemirror_mode": {
    "name": "ipython",
    "version": 3
   },
   "file_extension": ".py",
   "mimetype": "text/x-python",
   "name": "python",
   "nbconvert_exporter": "python",
   "pygments_lexer": "ipython3",
   "version": "3.8.5"
  }
 },
 "nbformat": 4,
 "nbformat_minor": 4
}
