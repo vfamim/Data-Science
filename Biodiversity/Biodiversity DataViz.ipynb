{
 "cells": [
  {
   "cell_type": "markdown",
   "metadata": {},
   "source": [
    "# <center>National Park Service About Endangered Species</center>\n",
    "\n",
    "For this project, we will interpret data from the National Parks Service about endangered species in different parks.\n",
    "\n",
    "We will perform some data analysis on the conservation statuses of these species and investigate if there are any patterns or themes to the types of species that become endangered. During this project, we will analyze, clean up, and plot data as well as pose questions and seek to answer them in a meaningful way.\n",
    "\n",
    "After we perform your analysis, we will share your findings about the National Park Service."
   ]
  },
  {
   "cell_type": "markdown",
   "metadata": {},
   "source": [
    "### National Park Service\n",
    "\n",
    "<img src=\"https://www.eenews.net/image_assets/2020/08/image_asset_90137.jpg\" alt=\"NPS\" style=\"zoom:67%;\" />\n",
    "\n",
    "National Park Service (NPS), agency of the U.S. Department of the Interior that manages and maintains several hundred national parks, monuments, historical sites, and other designated properties of the federal government. It was established in 1916 by an act of the U.S. Congress that was signed into law by U.S. Pres. Woodrow Wilson. The law stipulated that the new service was to “conserve the scenery and the natural and historic objects and the wild life therein and…leave them unimpaired for the enjoyment of future generations.”\n",
    "\n",
    "An endangered species is a species that is very likely to become extinct in the near future, either worldwide or in a particular political jurisdiction. Endangered species may be at risk due to factors such as habitat loss, poaching and invasive species. The International Union for Conservation of Nature (IUCN) Red List lists the global conservation status of many species, and various other agencies assess the status of species within particular areas. Many nations have laws that protect conservation-reliant species which, for example, forbid hunting, restrict land development, or create protected areas. Some endangered species are the target of extensive conservation efforts such as captive breeding and habitat restoration.\n",
    "\n",
    "### Conservation status\n",
    "\n",
    "<img src=\"https://image.isu.pub/100707150116-3c2b387f38174169afc127af1a227616/jpg/page_1.jpg\" alt=\"Endangered\" style=\"zoom:40%\" />\n",
    "\n",
    "The conservation status of a species indicates the likelihood that it will become extinct. Many factors are considered when assessing the status of a species; e.g., such statistics as the number remaining, the overall increase or decrease in the population over time, breeding success rates, or known threats. The IUCN Red List of Threatened Species is the best-known worldwide conservation status listing and ranking system.\n",
    "\n",
    "Over 50% of the world's species are estimated to be at risk of extinction. Internationally, 195 countries have signed an accord to create Biodiversity Action Plans that will protect endangered and other threatened species. In the United States, such plans are usually called Species Recovery Plans.\n",
    "\n",
    "### About the data\n",
    "\n",
    "We have been given two CSV files:\n",
    "\n",
    "1. **species_info.csv** - contains data about different species and their conservation status\n",
    "\n",
    "2. **observations.csv** - holds recorded sightings of different species at several national parks for the past 7 days.\n",
    "\n",
    "**species_info.csv**:\n",
    "\n",
    "- **category** - class of animal\n",
    "- **scientific_name** - the scientific name of each species\n",
    "- **common_name** - the common names of each species\n",
    "- **conservation_status** - each species’ current conservation status\n",
    "\n",
    "**observations.csv**:\n",
    "\n",
    "- **scientific_name** - the scientific name of each species\n",
    "- **park_name** - Park where species were found\n",
    "- **observations** - the number of times each species was observed at park\n",
    "\n",
    "**The Dataset:**\n",
    "\n",
    "- Content was provided by [Codeacademy.com](https://www.codecademy.com/learn)"
   ]
  },
  {
   "cell_type": "markdown",
   "metadata": {},
   "source": [
    "## 1. Importing Python Modules"
   ]
  },
  {
   "cell_type": "code",
   "execution_count": 1,
   "metadata": {},
   "outputs": [
    {
     "name": "stdout",
     "output_type": "stream",
     "text": [
      "Observations dataset has 23296 data points with 3 variables each.\n",
      "Species dataset has 5824 data points with 4 variables each.\n"
     ]
    }
   ],
   "source": [
    "# Importing library necessary for this project\n",
    "import numpy as np\n",
    "import pandas as pd\n",
    "import matplotlib.pyplot as plt\n",
    "import seaborn as sns\n",
    "%matplotlib inline\n",
    "\n",
    "# Loading the dataset\n",
    "df_ob = pd.read_csv('observations.csv')\n",
    "df_species = pd.read_csv('species_info.csv')\n",
    "\n",
    "# Success\n",
    "print(\"Observations dataset has {} data points with {} variables each.\".format(*df_ob.shape))\n",
    "print(\"Species dataset has {} data points with {} variables each.\".format(*df_species.shape))"
   ]
  },
  {
   "cell_type": "markdown",
   "metadata": {},
   "source": [
    "## 2. Inspecting Data"
   ]
  },
  {
   "cell_type": "code",
   "execution_count": 2,
   "metadata": {},
   "outputs": [
    {
     "name": "stdout",
     "output_type": "stream",
     "text": [
      "Index(['scientific_name', 'park_name', 'observations'], dtype='object')\n",
      "---------------------------------------------------------------------------\n",
      "Index(['category', 'scientific_name', 'common_names', 'conservation_status'], dtype='object')\n"
     ]
    }
   ],
   "source": [
    "# Inspecting data\n",
    "print(df_ob.columns)\n",
    "print('---' * 25)\n",
    "print(df_species.columns)"
   ]
  },
  {
   "cell_type": "code",
   "execution_count": 3,
   "metadata": {},
   "outputs": [
    {
     "data": {
      "text/plain": [
       "scientific_name    0\n",
       "park_name          0\n",
       "observations       0\n",
       "dtype: int64"
      ]
     },
     "execution_count": 3,
     "metadata": {},
     "output_type": "execute_result"
    }
   ],
   "source": [
    "# Checking null values\n",
    "df_ob.isnull().sum()"
   ]
  },
  {
   "cell_type": "code",
   "execution_count": 4,
   "metadata": {},
   "outputs": [
    {
     "data": {
      "text/plain": [
       "category                  0\n",
       "scientific_name           0\n",
       "common_names              0\n",
       "conservation_status    5633\n",
       "dtype: int64"
      ]
     },
     "execution_count": 4,
     "metadata": {},
     "output_type": "execute_result"
    }
   ],
   "source": [
    "# Checking null values 2\n",
    "df_species.isnull().sum()"
   ]
  },
  {
   "cell_type": "markdown",
   "metadata": {},
   "source": [
    "The Null Values are for regular situation species (not endangered). Let's fix this."
   ]
  },
  {
   "cell_type": "code",
   "execution_count": 5,
   "metadata": {},
   "outputs": [],
   "source": [
    "df_species['conservation_status'].fillna('Regular', inplace=True)"
   ]
  },
  {
   "cell_type": "code",
   "execution_count": 6,
   "metadata": {},
   "outputs": [
    {
     "data": {
      "text/plain": [
       "array(['Regular', 'Species of Concern', 'Endangered', 'Threatened',\n",
       "       'In Recovery'], dtype=object)"
      ]
     },
     "execution_count": 6,
     "metadata": {},
     "output_type": "execute_result"
    }
   ],
   "source": [
    "df_species['conservation_status'].unique()"
   ]
  },
  {
   "cell_type": "code",
   "execution_count": 7,
   "metadata": {},
   "outputs": [
    {
     "name": "stdout",
     "output_type": "stream",
     "text": [
      "Total species:5504\n",
      "Total Unique Scientific Names: 5824\n"
     ]
    }
   ],
   "source": [
    "# Total of unique species names\n",
    "print(f\"Total species:{len(df_species['common_names'].unique())}\\nTotal Unique Scientific Names: {len(df_species)}\")\n"
   ]
  },
  {
   "cell_type": "markdown",
   "metadata": {},
   "source": [
    "The lenght of columns of the species dataset is longer than the total number of unique species. This means that are **duplicated `common_names`**."
   ]
  },
  {
   "cell_type": "code",
   "execution_count": 8,
   "metadata": {},
   "outputs": [
    {
     "data": {
      "text/html": [
       "<div>\n",
       "<style scoped>\n",
       "    .dataframe tbody tr th:only-of-type {\n",
       "        vertical-align: middle;\n",
       "    }\n",
       "\n",
       "    .dataframe tbody tr th {\n",
       "        vertical-align: top;\n",
       "    }\n",
       "\n",
       "    .dataframe thead th {\n",
       "        text-align: right;\n",
       "    }\n",
       "</style>\n",
       "<table border=\"1\" class=\"dataframe\">\n",
       "  <thead>\n",
       "    <tr style=\"text-align: right;\">\n",
       "      <th></th>\n",
       "      <th>category</th>\n",
       "      <th>scientific_name</th>\n",
       "      <th>common_names</th>\n",
       "      <th>conservation_status</th>\n",
       "    </tr>\n",
       "  </thead>\n",
       "  <tbody>\n",
       "    <tr>\n",
       "      <th>59</th>\n",
       "      <td>Mammal</td>\n",
       "      <td>Oryzomys palustris palustris</td>\n",
       "      <td>Marsh Rice Rat</td>\n",
       "      <td>Regular</td>\n",
       "    </tr>\n",
       "    <tr>\n",
       "      <th>124</th>\n",
       "      <td>Bird</td>\n",
       "      <td>Melanitta fusca</td>\n",
       "      <td>White-Winged Scoter</td>\n",
       "      <td>Regular</td>\n",
       "    </tr>\n",
       "    <tr>\n",
       "      <th>243</th>\n",
       "      <td>Bird</td>\n",
       "      <td>Anthus spinoletta</td>\n",
       "      <td>Water Pipit</td>\n",
       "      <td>Regular</td>\n",
       "    </tr>\n",
       "    <tr>\n",
       "      <th>278</th>\n",
       "      <td>Bird</td>\n",
       "      <td>Vermivora chrysoptera X pinus</td>\n",
       "      <td>Brewster's Warbler</td>\n",
       "      <td>Regular</td>\n",
       "    </tr>\n",
       "    <tr>\n",
       "      <th>280</th>\n",
       "      <td>Bird</td>\n",
       "      <td>Vermivora lawrencii</td>\n",
       "      <td>Lawrence's Warbler</td>\n",
       "      <td>Regular</td>\n",
       "    </tr>\n",
       "  </tbody>\n",
       "</table>\n",
       "</div>"
      ],
      "text/plain": [
       "    category                scientific_name         common_names  \\\n",
       "59    Mammal   Oryzomys palustris palustris       Marsh Rice Rat   \n",
       "124     Bird                Melanitta fusca  White-Winged Scoter   \n",
       "243     Bird              Anthus spinoletta          Water Pipit   \n",
       "278     Bird  Vermivora chrysoptera X pinus   Brewster's Warbler   \n",
       "280     Bird            Vermivora lawrencii   Lawrence's Warbler   \n",
       "\n",
       "    conservation_status  \n",
       "59              Regular  \n",
       "124             Regular  \n",
       "243             Regular  \n",
       "278             Regular  \n",
       "280             Regular  "
      ]
     },
     "execution_count": 8,
     "metadata": {},
     "output_type": "execute_result"
    }
   ],
   "source": [
    "df_species[df_species['common_names'].duplicated()].head()"
   ]
  },
  {
   "cell_type": "code",
   "execution_count": 9,
   "metadata": {},
   "outputs": [
    {
     "data": {
      "text/html": [
       "<div>\n",
       "<style scoped>\n",
       "    .dataframe tbody tr th:only-of-type {\n",
       "        vertical-align: middle;\n",
       "    }\n",
       "\n",
       "    .dataframe tbody tr th {\n",
       "        vertical-align: top;\n",
       "    }\n",
       "\n",
       "    .dataframe thead th {\n",
       "        text-align: right;\n",
       "    }\n",
       "</style>\n",
       "<table border=\"1\" class=\"dataframe\">\n",
       "  <thead>\n",
       "    <tr style=\"text-align: right;\">\n",
       "      <th></th>\n",
       "      <th>category</th>\n",
       "      <th>scientific_name</th>\n",
       "      <th>common_names</th>\n",
       "      <th>conservation_status</th>\n",
       "    </tr>\n",
       "  </thead>\n",
       "  <tbody>\n",
       "    <tr>\n",
       "      <th>58</th>\n",
       "      <td>Mammal</td>\n",
       "      <td>Oryzomys palustris</td>\n",
       "      <td>Marsh Rice Rat</td>\n",
       "      <td>Regular</td>\n",
       "    </tr>\n",
       "    <tr>\n",
       "      <th>59</th>\n",
       "      <td>Mammal</td>\n",
       "      <td>Oryzomys palustris palustris</td>\n",
       "      <td>Marsh Rice Rat</td>\n",
       "      <td>Regular</td>\n",
       "    </tr>\n",
       "  </tbody>\n",
       "</table>\n",
       "</div>"
      ],
      "text/plain": [
       "   category               scientific_name    common_names conservation_status\n",
       "58   Mammal            Oryzomys palustris  Marsh Rice Rat             Regular\n",
       "59   Mammal  Oryzomys palustris palustris  Marsh Rice Rat             Regular"
      ]
     },
     "execution_count": 9,
     "metadata": {},
     "output_type": "execute_result"
    }
   ],
   "source": [
    "df_species[df_species['common_names'] == 'Marsh Rice Rat']"
   ]
  },
  {
   "cell_type": "markdown",
   "metadata": {},
   "source": [
    "Both `scientific_name` and `common_names` columns has duplicate values, to solve this, we will use regex to get the first name of `common_names` and making a new column calling `first_common_names`."
   ]
  },
  {
   "cell_type": "code",
   "execution_count": 10,
   "metadata": {},
   "outputs": [
    {
     "data": {
      "text/html": [
       "<div>\n",
       "<style scoped>\n",
       "    .dataframe tbody tr th:only-of-type {\n",
       "        vertical-align: middle;\n",
       "    }\n",
       "\n",
       "    .dataframe tbody tr th {\n",
       "        vertical-align: top;\n",
       "    }\n",
       "\n",
       "    .dataframe thead th {\n",
       "        text-align: right;\n",
       "    }\n",
       "</style>\n",
       "<table border=\"1\" class=\"dataframe\">\n",
       "  <thead>\n",
       "    <tr style=\"text-align: right;\">\n",
       "      <th></th>\n",
       "      <th>category</th>\n",
       "      <th>scientific_name</th>\n",
       "      <th>common_names</th>\n",
       "      <th>conservation_status</th>\n",
       "      <th>first_common_names</th>\n",
       "    </tr>\n",
       "  </thead>\n",
       "  <tbody>\n",
       "    <tr>\n",
       "      <th>0</th>\n",
       "      <td>Mammal</td>\n",
       "      <td>Clethrionomys gapperi gapperi</td>\n",
       "      <td>Gapper's Red-Backed Vole</td>\n",
       "      <td>Regular</td>\n",
       "      <td>Gapper</td>\n",
       "    </tr>\n",
       "    <tr>\n",
       "      <th>1</th>\n",
       "      <td>Mammal</td>\n",
       "      <td>Bos bison</td>\n",
       "      <td>American Bison, Bison</td>\n",
       "      <td>Regular</td>\n",
       "      <td>American</td>\n",
       "    </tr>\n",
       "    <tr>\n",
       "      <th>2</th>\n",
       "      <td>Mammal</td>\n",
       "      <td>Bos taurus</td>\n",
       "      <td>Aurochs, Aurochs, Domestic Cattle (Feral), Dom...</td>\n",
       "      <td>Regular</td>\n",
       "      <td>Aurochs</td>\n",
       "    </tr>\n",
       "    <tr>\n",
       "      <th>3</th>\n",
       "      <td>Mammal</td>\n",
       "      <td>Ovis aries</td>\n",
       "      <td>Domestic Sheep, Mouflon, Red Sheep, Sheep (Feral)</td>\n",
       "      <td>Regular</td>\n",
       "      <td>Domestic)</td>\n",
       "    </tr>\n",
       "    <tr>\n",
       "      <th>4</th>\n",
       "      <td>Mammal</td>\n",
       "      <td>Cervus elaphus</td>\n",
       "      <td>Wapiti Or Elk</td>\n",
       "      <td>Regular</td>\n",
       "      <td>Wapiti</td>\n",
       "    </tr>\n",
       "  </tbody>\n",
       "</table>\n",
       "</div>"
      ],
      "text/plain": [
       "  category                scientific_name  \\\n",
       "0   Mammal  Clethrionomys gapperi gapperi   \n",
       "1   Mammal                      Bos bison   \n",
       "2   Mammal                     Bos taurus   \n",
       "3   Mammal                     Ovis aries   \n",
       "4   Mammal                 Cervus elaphus   \n",
       "\n",
       "                                        common_names conservation_status  \\\n",
       "0                           Gapper's Red-Backed Vole             Regular   \n",
       "1                              American Bison, Bison             Regular   \n",
       "2  Aurochs, Aurochs, Domestic Cattle (Feral), Dom...             Regular   \n",
       "3  Domestic Sheep, Mouflon, Red Sheep, Sheep (Feral)             Regular   \n",
       "4                                      Wapiti Or Elk             Regular   \n",
       "\n",
       "  first_common_names  \n",
       "0             Gapper  \n",
       "1           American  \n",
       "2            Aurochs  \n",
       "3          Domestic)  \n",
       "4             Wapiti  "
      ]
     },
     "execution_count": 10,
     "metadata": {},
     "output_type": "execute_result"
    }
   ],
   "source": [
    "df_species['first_common_names'] = df_species['common_names'].str.replace(r'\\W+\\w+', regex=True, repl='')\n",
    "df_species.head()"
   ]
  },
  {
   "cell_type": "markdown",
   "metadata": {},
   "source": [
    "## 3. Data Visualization"
   ]
  },
  {
   "cell_type": "markdown",
   "metadata": {},
   "source": [
    "Let's conclude some initial facts, like the category column proportion."
   ]
  },
  {
   "cell_type": "code",
   "execution_count": 11,
   "metadata": {},
   "outputs": [
    {
     "data": {
      "image/png": "[encoded data removed]",
      "text/plain": [
       "<Figure size 720x360 with 1 Axes>"
      ]
     },
     "metadata": {},
     "output_type": "display_data"
    }
   ],
   "source": [
    "# Ploting category\n",
    "plt.figure(figsize=(10,5))\n",
    "df_species['category'].value_counts().plot.pie(autopct='%.1f%%')\n",
    "plt.title('Class of Animal')\n",
    "plt.show()"
   ]
  },
  {
   "cell_type": "markdown",
   "metadata": {},
   "source": [
    "The Vascular Plant represents 76.3% of dataset, followed by bird with 9.2%"
   ]
  },
  {
   "cell_type": "markdown",
   "metadata": {},
   "source": [
    "#### 3.1 - Observations"
   ]
  },
  {
   "cell_type": "code",
   "execution_count": 12,
   "metadata": {},
   "outputs": [
    {
     "data": {
      "image/png": "[encoded data removed]",
      "text/plain": [
       "<Figure size 720x360 with 1 Axes>"
      ]
     },
     "metadata": {
      "needs_background": "light"
     },
     "output_type": "display_data"
    }
   ],
   "source": [
    "# Ploting observations per park\n",
    "plt.figure(figsize=(10,5))\n",
    "sns.barplot(y='park_name', x='observations', data=df_ob)\n",
    "plt.xlabel('Observations')\n",
    "plt.ylabel('Park Name')\n",
    "plt.show()"
   ]
  },
  {
   "cell_type": "markdown",
   "metadata": {},
   "source": [
    "Yellowstone National Park has the majority observations."
   ]
  },
  {
   "cell_type": "markdown",
   "metadata": {},
   "source": [
    "#### 3.2 - Extinction risk"
   ]
  },
  {
   "cell_type": "markdown",
   "metadata": {},
   "source": [
    "The number of observations is pretty similar between species."
   ]
  },
  {
   "cell_type": "code",
   "execution_count": 13,
   "metadata": {},
   "outputs": [
    {
     "name": "stdout",
     "output_type": "stream",
     "text": [
      "Regular               5633\n",
      "Species of Concern     161\n",
      "Endangered              16\n",
      "Threatened              10\n",
      "In Recovery              4\n",
      "Name: conservation_status, dtype: int64\n"
     ]
    }
   ],
   "source": [
    "print(df_species['conservation_status'].value_counts())"
   ]
  },
  {
   "cell_type": "markdown",
   "metadata": {},
   "source": [
    "Now let's check wich animal type has greater risk of endangered."
   ]
  },
  {
   "cell_type": "code",
   "execution_count": 14,
   "metadata": {},
   "outputs": [
    {
     "data": {
      "text/plain": [
       "<Figure size 1800x360 with 0 Axes>"
      ]
     },
     "metadata": {},
     "output_type": "display_data"
    },
    {
     "data": {
      "image/png": "[encoded data removed]",
      "text/plain": [
       "<Figure size 851.5x1080 with 5 Axes>"
      ]
     },
     "metadata": {
      "needs_background": "light"
     },
     "output_type": "display_data"
    }
   ],
   "source": [
    "plt.figure(figsize=(25, 5))\n",
    "ax = sns.catplot(\n",
    "    y='category', \n",
    "    data=df_species, \n",
    "    hue='conservation_status', \n",
    "    kind='count', col='conservation_status', \n",
    "    col_wrap = 2, \n",
    "    sharex = False,\n",
    ").add_legend()\n",
    "ax.set_axis_labels('', 'Category')\n",
    "plt.show()"
   ]
  },
  {
   "cell_type": "markdown",
   "metadata": {},
   "source": [
    "Let's focus on `Endangered`, `Threatened` and `Species of Concern`"
   ]
  },
  {
   "cell_type": "code",
   "execution_count": 15,
   "metadata": {},
   "outputs": [
    {
     "data": {
      "text/html": [
       "<div>\n",
       "<style scoped>\n",
       "    .dataframe tbody tr th:only-of-type {\n",
       "        vertical-align: middle;\n",
       "    }\n",
       "\n",
       "    .dataframe tbody tr th {\n",
       "        vertical-align: top;\n",
       "    }\n",
       "\n",
       "    .dataframe thead th {\n",
       "        text-align: right;\n",
       "    }\n",
       "</style>\n",
       "<table border=\"1\" class=\"dataframe\">\n",
       "  <thead>\n",
       "    <tr style=\"text-align: right;\">\n",
       "      <th>category</th>\n",
       "      <th>Amphibian</th>\n",
       "      <th>Bird</th>\n",
       "      <th>Fish</th>\n",
       "      <th>Mammal</th>\n",
       "      <th>Nonvascular Plant</th>\n",
       "      <th>Reptile</th>\n",
       "      <th>Vascular Plant</th>\n",
       "    </tr>\n",
       "    <tr>\n",
       "      <th>conservation_status</th>\n",
       "      <th></th>\n",
       "      <th></th>\n",
       "      <th></th>\n",
       "      <th></th>\n",
       "      <th></th>\n",
       "      <th></th>\n",
       "      <th></th>\n",
       "    </tr>\n",
       "  </thead>\n",
       "  <tbody>\n",
       "    <tr>\n",
       "      <th>Endangered</th>\n",
       "      <td>1.0</td>\n",
       "      <td>4.0</td>\n",
       "      <td>3.0</td>\n",
       "      <td>7.0</td>\n",
       "      <td>NaN</td>\n",
       "      <td>NaN</td>\n",
       "      <td>1.0</td>\n",
       "    </tr>\n",
       "    <tr>\n",
       "      <th>In Recovery</th>\n",
       "      <td>NaN</td>\n",
       "      <td>3.0</td>\n",
       "      <td>NaN</td>\n",
       "      <td>1.0</td>\n",
       "      <td>NaN</td>\n",
       "      <td>NaN</td>\n",
       "      <td>NaN</td>\n",
       "    </tr>\n",
       "    <tr>\n",
       "      <th>Species of Concern</th>\n",
       "      <td>4.0</td>\n",
       "      <td>72.0</td>\n",
       "      <td>4.0</td>\n",
       "      <td>28.0</td>\n",
       "      <td>5.0</td>\n",
       "      <td>5.0</td>\n",
       "      <td>43.0</td>\n",
       "    </tr>\n",
       "    <tr>\n",
       "      <th>Threatened</th>\n",
       "      <td>2.0</td>\n",
       "      <td>NaN</td>\n",
       "      <td>4.0</td>\n",
       "      <td>2.0</td>\n",
       "      <td>NaN</td>\n",
       "      <td>NaN</td>\n",
       "      <td>2.0</td>\n",
       "    </tr>\n",
       "  </tbody>\n",
       "</table>\n",
       "</div>"
      ],
      "text/plain": [
       "category             Amphibian  Bird  Fish  Mammal  Nonvascular Plant  \\\n",
       "conservation_status                                                     \n",
       "Endangered                 1.0   4.0   3.0     7.0                NaN   \n",
       "In Recovery                NaN   3.0   NaN     1.0                NaN   \n",
       "Species of Concern         4.0  72.0   4.0    28.0                5.0   \n",
       "Threatened                 2.0   NaN   4.0     2.0                NaN   \n",
       "\n",
       "category             Reptile  Vascular Plant  \n",
       "conservation_status                           \n",
       "Endangered               NaN             1.0  \n",
       "In Recovery              NaN             NaN  \n",
       "Species of Concern       5.0            43.0  \n",
       "Threatened               NaN             2.0  "
      ]
     },
     "execution_count": 15,
     "metadata": {},
     "output_type": "execute_result"
    }
   ],
   "source": [
    "conservationCategory = df_species[df_species.conservation_status != 'Regular'].groupby(['conservation_status', 'category'])['scientific_name']\\\n",
    ".count().unstack()\n",
    "conservationCategory"
   ]
  },
  {
   "cell_type": "code",
   "execution_count": 16,
   "metadata": {},
   "outputs": [
    {
     "data": {
      "image/png": "[encoded data removed]",
      "text/plain": [
       "<Figure size 720x576 with 1 Axes>"
      ]
     },
     "metadata": {
      "needs_background": "light"
     },
     "output_type": "display_data"
    }
   ],
   "source": [
    "ax = conservationCategory.plot(kind='bar', figsize=(10,8), stacked=True)\n",
    "ax.set_xlabel('Conservation Status')\n",
    "plt.xticks(rotation = 0)\n",
    "plt.show()"
   ]
  },
  {
   "cell_type": "markdown",
   "metadata": {},
   "source": [
    "* **Species of Concern** is an informal term. It is not defined in the federal Endangered **Species** Act. The term commonly refers to **species** that are declining or appear to be in need of conservation. Many agencies and organizations maintain lists of at-risk **species**.\n",
    "\n",
    "*  **Threatened species** are **plants** and animals that are likely to become **endangered** within the foreseeable future throughout all or a significant portion of its range.\n",
    "\n",
    "* **Endangered species** are those **plants** and animals that have become so rare they are in danger of becoming extinct.\n",
    "\n",
    "* **In Recovery**: formerly Endangered, but currently neither in danger of extinction throughout all or a significant portion of its range.\n",
    "\n",
    "Now we can draw some conclusions:\n",
    "\n",
    "* `Bird` is the category with highest `Species of Concern`\n",
    "* `Fish` is the category with highest `Threatened`;\n",
    "* `Mammal` is the category with highest `Endangered`;\n"
   ]
  },
  {
   "cell_type": "markdown",
   "metadata": {},
   "source": [
    "To help the analisys we are creating a 'Preserved' column, it is contain information about regular or dangerous situation: \n",
    "* `Regular` represents regular situation;\n",
    "* `Not Regular` represents endangered or risk situation;"
   ]
  },
  {
   "cell_type": "markdown",
   "metadata": {},
   "source": [
    "#### 3.3 Preserved Species"
   ]
  },
  {
   "cell_type": "code",
   "execution_count": 17,
   "metadata": {},
   "outputs": [
    {
     "name": "stdout",
     "output_type": "stream",
     "text": [
      "Regular        5633\n",
      "Not Regular     191\n",
      "Name: preserved, dtype: int64\n"
     ]
    }
   ],
   "source": [
    "df_species['preserved'] = df_species['conservation_status'].apply(lambda x: 'Regular' if x=='Regular' else 'Not Regular')\n",
    "print(df_species['preserved'].value_counts())"
   ]
  },
  {
   "cell_type": "code",
   "execution_count": 18,
   "metadata": {},
   "outputs": [
    {
     "name": "stdout",
     "output_type": "stream",
     "text": [
      "Dataset has 25632 data points with 8 variables each.\n"
     ]
    },
    {
     "data": {
      "text/html": [
       "<div>\n",
       "<style scoped>\n",
       "    .dataframe tbody tr th:only-of-type {\n",
       "        vertical-align: middle;\n",
       "    }\n",
       "\n",
       "    .dataframe tbody tr th {\n",
       "        vertical-align: top;\n",
       "    }\n",
       "\n",
       "    .dataframe thead th {\n",
       "        text-align: right;\n",
       "    }\n",
       "</style>\n",
       "<table border=\"1\" class=\"dataframe\">\n",
       "  <thead>\n",
       "    <tr style=\"text-align: right;\">\n",
       "      <th></th>\n",
       "      <th>scientific_name</th>\n",
       "      <th>park_name</th>\n",
       "      <th>observations</th>\n",
       "      <th>category</th>\n",
       "      <th>common_names</th>\n",
       "      <th>conservation_status</th>\n",
       "      <th>first_common_names</th>\n",
       "      <th>preserved</th>\n",
       "    </tr>\n",
       "  </thead>\n",
       "  <tbody>\n",
       "    <tr>\n",
       "      <th>0</th>\n",
       "      <td>Vicia benghalensis</td>\n",
       "      <td>Great Smoky Mountains National Park</td>\n",
       "      <td>68</td>\n",
       "      <td>Vascular Plant</td>\n",
       "      <td>Purple Vetch, Reddish Tufted Vetch</td>\n",
       "      <td>Regular</td>\n",
       "      <td>Purple</td>\n",
       "      <td>Regular</td>\n",
       "    </tr>\n",
       "    <tr>\n",
       "      <th>1</th>\n",
       "      <td>Vicia benghalensis</td>\n",
       "      <td>Yosemite National Park</td>\n",
       "      <td>148</td>\n",
       "      <td>Vascular Plant</td>\n",
       "      <td>Purple Vetch, Reddish Tufted Vetch</td>\n",
       "      <td>Regular</td>\n",
       "      <td>Purple</td>\n",
       "      <td>Regular</td>\n",
       "    </tr>\n",
       "    <tr>\n",
       "      <th>2</th>\n",
       "      <td>Vicia benghalensis</td>\n",
       "      <td>Yellowstone National Park</td>\n",
       "      <td>247</td>\n",
       "      <td>Vascular Plant</td>\n",
       "      <td>Purple Vetch, Reddish Tufted Vetch</td>\n",
       "      <td>Regular</td>\n",
       "      <td>Purple</td>\n",
       "      <td>Regular</td>\n",
       "    </tr>\n",
       "    <tr>\n",
       "      <th>3</th>\n",
       "      <td>Vicia benghalensis</td>\n",
       "      <td>Bryce National Park</td>\n",
       "      <td>104</td>\n",
       "      <td>Vascular Plant</td>\n",
       "      <td>Purple Vetch, Reddish Tufted Vetch</td>\n",
       "      <td>Regular</td>\n",
       "      <td>Purple</td>\n",
       "      <td>Regular</td>\n",
       "    </tr>\n",
       "    <tr>\n",
       "      <th>4</th>\n",
       "      <td>Neovison vison</td>\n",
       "      <td>Great Smoky Mountains National Park</td>\n",
       "      <td>77</td>\n",
       "      <td>Mammal</td>\n",
       "      <td>American Mink</td>\n",
       "      <td>Regular</td>\n",
       "      <td>American</td>\n",
       "      <td>Regular</td>\n",
       "    </tr>\n",
       "  </tbody>\n",
       "</table>\n",
       "</div>"
      ],
      "text/plain": [
       "      scientific_name                            park_name  observations  \\\n",
       "0  Vicia benghalensis  Great Smoky Mountains National Park            68   \n",
       "1  Vicia benghalensis               Yosemite National Park           148   \n",
       "2  Vicia benghalensis            Yellowstone National Park           247   \n",
       "3  Vicia benghalensis                  Bryce National Park           104   \n",
       "4      Neovison vison  Great Smoky Mountains National Park            77   \n",
       "\n",
       "         category                        common_names conservation_status  \\\n",
       "0  Vascular Plant  Purple Vetch, Reddish Tufted Vetch             Regular   \n",
       "1  Vascular Plant  Purple Vetch, Reddish Tufted Vetch             Regular   \n",
       "2  Vascular Plant  Purple Vetch, Reddish Tufted Vetch             Regular   \n",
       "3  Vascular Plant  Purple Vetch, Reddish Tufted Vetch             Regular   \n",
       "4          Mammal                       American Mink             Regular   \n",
       "\n",
       "  first_common_names preserved  \n",
       "0             Purple   Regular  \n",
       "1             Purple   Regular  \n",
       "2             Purple   Regular  \n",
       "3             Purple   Regular  \n",
       "4           American   Regular  "
      ]
     },
     "execution_count": 18,
     "metadata": {},
     "output_type": "execute_result"
    }
   ],
   "source": [
    "# Merging both data\n",
    "df = pd.merge(df_ob, df_species)\n",
    "print(\"Dataset has {} data points with {} variables each.\".format(*df.shape))\n",
    "df.head()"
   ]
  },
  {
   "cell_type": "code",
   "execution_count": 19,
   "metadata": {},
   "outputs": [
    {
     "name": "stdout",
     "output_type": "stream",
     "text": [
      "scientific_name        0\n",
      "park_name              0\n",
      "observations           0\n",
      "category               0\n",
      "common_names           0\n",
      "conservation_status    0\n",
      "first_common_names     0\n",
      "preserved              0\n",
      "dtype: int64\n"
     ]
    }
   ],
   "source": [
    "print(df.isnull().sum())"
   ]
  },
  {
   "cell_type": "code",
   "execution_count": 20,
   "metadata": {},
   "outputs": [
    {
     "data": {
      "text/html": [
       "<div>\n",
       "<style scoped>\n",
       "    .dataframe tbody tr th:only-of-type {\n",
       "        vertical-align: middle;\n",
       "    }\n",
       "\n",
       "    .dataframe tbody tr th {\n",
       "        vertical-align: top;\n",
       "    }\n",
       "\n",
       "    .dataframe thead th {\n",
       "        text-align: right;\n",
       "    }\n",
       "</style>\n",
       "<table border=\"1\" class=\"dataframe\">\n",
       "  <thead>\n",
       "    <tr style=\"text-align: right;\">\n",
       "      <th></th>\n",
       "      <th>park_name</th>\n",
       "      <th>preserved</th>\n",
       "      <th>common_names</th>\n",
       "      <th>observations</th>\n",
       "    </tr>\n",
       "  </thead>\n",
       "  <tbody>\n",
       "    <tr>\n",
       "      <th>0</th>\n",
       "      <td>Bryce National Park</td>\n",
       "      <td>Not Regular</td>\n",
       "      <td>American Badger, Badger</td>\n",
       "      <td>159</td>\n",
       "    </tr>\n",
       "    <tr>\n",
       "      <th>1</th>\n",
       "      <td>Bryce National Park</td>\n",
       "      <td>Not Regular</td>\n",
       "      <td>American Bittern</td>\n",
       "      <td>74</td>\n",
       "    </tr>\n",
       "    <tr>\n",
       "      <th>2</th>\n",
       "      <td>Bryce National Park</td>\n",
       "      <td>Not Regular</td>\n",
       "      <td>American Fever-Few, Wild Quinine</td>\n",
       "      <td>73</td>\n",
       "    </tr>\n",
       "    <tr>\n",
       "      <th>3</th>\n",
       "      <td>Bryce National Park</td>\n",
       "      <td>Not Regular</td>\n",
       "      <td>American Peregrine Falcon</td>\n",
       "      <td>72</td>\n",
       "    </tr>\n",
       "    <tr>\n",
       "      <th>4</th>\n",
       "      <td>Bryce National Park</td>\n",
       "      <td>Not Regular</td>\n",
       "      <td>American Swallow-Tailed Kite, Swallow-Tailed Kite</td>\n",
       "      <td>94</td>\n",
       "    </tr>\n",
       "  </tbody>\n",
       "</table>\n",
       "</div>"
      ],
      "text/plain": [
       "             park_name    preserved  \\\n",
       "0  Bryce National Park  Not Regular   \n",
       "1  Bryce National Park  Not Regular   \n",
       "2  Bryce National Park  Not Regular   \n",
       "3  Bryce National Park  Not Regular   \n",
       "4  Bryce National Park  Not Regular   \n",
       "\n",
       "                                        common_names  observations  \n",
       "0                            American Badger, Badger           159  \n",
       "1                                   American Bittern            74  \n",
       "2                   American Fever-Few, Wild Quinine            73  \n",
       "3                          American Peregrine Falcon            72  \n",
       "4  American Swallow-Tailed Kite, Swallow-Tailed Kite            94  "
      ]
     },
     "execution_count": 20,
     "metadata": {},
     "output_type": "execute_result"
    }
   ],
   "source": [
    "preservedCategory = df.groupby(['park_name', 'preserved', 'common_names'])['observations'].sum().reset_index()\n",
    "preservedCategory.head()"
   ]
  },
  {
   "cell_type": "code",
   "execution_count": 21,
   "metadata": {},
   "outputs": [
    {
     "data": {
      "image/png": "[encoded data removed]",
      "text/plain": [
       "<Figure size 1152x288 with 1 Axes>"
      ]
     },
     "metadata": {
      "needs_background": "light"
     },
     "output_type": "display_data"
    }
   ],
   "source": [
    "plt.figure(figsize=(16, 4))\n",
    "sns.barplot(x='park_name', y='observations', data=preservedCategory, hue='preserved')\n",
    "plt.xlabel('Park Name')\n",
    "plt.ylabel(\"Park's Observation\")\n",
    "plt.show()"
   ]
  },
  {
   "cell_type": "markdown",
   "metadata": {},
   "source": [
    "`Yellowstone National Park` is home to the largest concentration of Preserved species."
   ]
  },
  {
   "cell_type": "code",
   "execution_count": 22,
   "metadata": {},
   "outputs": [
    {
     "data": {
      "text/html": [
       "<div>\n",
       "<style scoped>\n",
       "    .dataframe tbody tr th:only-of-type {\n",
       "        vertical-align: middle;\n",
       "    }\n",
       "\n",
       "    .dataframe tbody tr th {\n",
       "        vertical-align: top;\n",
       "    }\n",
       "\n",
       "    .dataframe thead th {\n",
       "        text-align: right;\n",
       "    }\n",
       "</style>\n",
       "<table border=\"1\" class=\"dataframe\">\n",
       "  <thead>\n",
       "    <tr style=\"text-align: right;\">\n",
       "      <th></th>\n",
       "      <th>park_name</th>\n",
       "      <th>category</th>\n",
       "      <th>preserved</th>\n",
       "      <th>observations</th>\n",
       "    </tr>\n",
       "  </thead>\n",
       "  <tbody>\n",
       "    <tr>\n",
       "      <th>0</th>\n",
       "      <td>Bryce National Park</td>\n",
       "      <td>Amphibian</td>\n",
       "      <td>Not Regular</td>\n",
       "      <td>498</td>\n",
       "    </tr>\n",
       "    <tr>\n",
       "      <th>1</th>\n",
       "      <td>Bryce National Park</td>\n",
       "      <td>Bird</td>\n",
       "      <td>Not Regular</td>\n",
       "      <td>7608</td>\n",
       "    </tr>\n",
       "    <tr>\n",
       "      <th>2</th>\n",
       "      <td>Bryce National Park</td>\n",
       "      <td>Fish</td>\n",
       "      <td>Not Regular</td>\n",
       "      <td>731</td>\n",
       "    </tr>\n",
       "    <tr>\n",
       "      <th>3</th>\n",
       "      <td>Bryce National Park</td>\n",
       "      <td>Mammal</td>\n",
       "      <td>Not Regular</td>\n",
       "      <td>4701</td>\n",
       "    </tr>\n",
       "    <tr>\n",
       "      <th>4</th>\n",
       "      <td>Bryce National Park</td>\n",
       "      <td>Nonvascular Plant</td>\n",
       "      <td>Not Regular</td>\n",
       "      <td>486</td>\n",
       "    </tr>\n",
       "  </tbody>\n",
       "</table>\n",
       "</div>"
      ],
      "text/plain": [
       "             park_name           category    preserved  observations\n",
       "0  Bryce National Park          Amphibian  Not Regular           498\n",
       "1  Bryce National Park               Bird  Not Regular          7608\n",
       "2  Bryce National Park               Fish  Not Regular           731\n",
       "3  Bryce National Park             Mammal  Not Regular          4701\n",
       "4  Bryce National Park  Nonvascular Plant  Not Regular           486"
      ]
     },
     "execution_count": 22,
     "metadata": {},
     "output_type": "execute_result"
    }
   ],
   "source": [
    "riskCategory = df[df['preserved'] != 'Regular']\\\n",
    ".groupby(['park_name', 'category', 'preserved'])['observations'].sum().reset_index()\n",
    "riskCategory.head()"
   ]
  },
  {
   "cell_type": "code",
   "execution_count": 23,
   "metadata": {
    "scrolled": true
   },
   "outputs": [
    {
     "data": {
      "image/png": "[encoded data removed]",
      "text/plain": [
       "<Figure size 1152x288 with 1 Axes>"
      ]
     },
     "metadata": {
      "needs_background": "light"
     },
     "output_type": "display_data"
    }
   ],
   "source": [
    "plt.figure(figsize=(16,4))\n",
    "sns.barplot('category', 'observations', data=riskCategory, hue='preserved')\n",
    "plt.xlabel('Category')\n",
    "plt.ylabel('Observations')\n",
    "plt.title('Not Preserved Category')\n",
    "plt.show()"
   ]
  },
  {
   "cell_type": "markdown",
   "metadata": {},
   "source": [
    "In overall, `Bird`'s are the category with highest risk."
   ]
  },
  {
   "cell_type": "markdown",
   "metadata": {},
   "source": [
    "#### 3.4 Spiecies of Concern\n",
    "\n",
    "\n",
    " `Bird` has the highest status in this category. "
   ]
  },
  {
   "cell_type": "code",
   "execution_count": 24,
   "metadata": {},
   "outputs": [
    {
     "name": "stdout",
     "output_type": "stream",
     "text": [
      "(56, 3)\n"
     ]
    },
    {
     "data": {
      "text/html": [
       "<div>\n",
       "<style scoped>\n",
       "    .dataframe tbody tr th:only-of-type {\n",
       "        vertical-align: middle;\n",
       "    }\n",
       "\n",
       "    .dataframe tbody tr th {\n",
       "        vertical-align: top;\n",
       "    }\n",
       "\n",
       "    .dataframe thead th {\n",
       "        text-align: right;\n",
       "    }\n",
       "</style>\n",
       "<table border=\"1\" class=\"dataframe\">\n",
       "  <thead>\n",
       "    <tr style=\"text-align: right;\">\n",
       "      <th>preserved</th>\n",
       "      <th>first_common_names</th>\n",
       "      <th>Not Regular</th>\n",
       "      <th>%</th>\n",
       "    </tr>\n",
       "  </thead>\n",
       "  <tbody>\n",
       "    <tr>\n",
       "      <th>5</th>\n",
       "      <td>Black</td>\n",
       "      <td>5</td>\n",
       "      <td>6.944444</td>\n",
       "    </tr>\n",
       "    <tr>\n",
       "      <th>55</th>\n",
       "      <td>Yellow</td>\n",
       "      <td>4</td>\n",
       "      <td>5.555556</td>\n",
       "    </tr>\n",
       "    <tr>\n",
       "      <th>10</th>\n",
       "      <td>Common</td>\n",
       "      <td>3</td>\n",
       "      <td>4.166667</td>\n",
       "    </tr>\n",
       "    <tr>\n",
       "      <th>0</th>\n",
       "      <td>American</td>\n",
       "      <td>3</td>\n",
       "      <td>4.166667</td>\n",
       "    </tr>\n",
       "    <tr>\n",
       "      <th>4</th>\n",
       "      <td>Bank</td>\n",
       "      <td>2</td>\n",
       "      <td>2.777778</td>\n",
       "    </tr>\n",
       "  </tbody>\n",
       "</table>\n",
       "</div>"
      ],
      "text/plain": [
       "preserved first_common_names  Not Regular         %\n",
       "5                      Black            5  6.944444\n",
       "55                    Yellow            4  5.555556\n",
       "10                    Common            3  4.166667\n",
       "0                   American            3  4.166667\n",
       "4                       Bank            2  2.777778"
      ]
     },
     "execution_count": 24,
     "metadata": {},
     "output_type": "execute_result"
    }
   ],
   "source": [
    "bird = df_species[(df_species['category'] == 'Bird') & (df_species['conservation_status'] == 'Species of Concern')]\\\n",
    ".groupby(['first_common_names', 'preserved'])['preserved'].count().unstack().reset_index()\n",
    "\n",
    "bird['%'] = (bird['Not Regular'] / bird['Not Regular'].sum()) * 100 \n",
    "print(bird.shape)\n",
    "\n",
    "bird.sort_values('Not Regular', ascending=False).head()"
   ]
  },
  {
   "cell_type": "markdown",
   "metadata": {},
   "source": [
    "Birds with `Black` with 7% in the name are the majority in `Spieces of Concern`."
   ]
  },
  {
   "cell_type": "markdown",
   "metadata": {},
   "source": [
    "#### 3.3 Threatened species\n",
    "\n",
    "`Fish` is the category with highest Threatened rank. "
   ]
  },
  {
   "cell_type": "code",
   "execution_count": 25,
   "metadata": {},
   "outputs": [
    {
     "name": "stdout",
     "output_type": "stream",
     "text": [
      "(4, 3)\n"
     ]
    },
    {
     "data": {
      "text/html": [
       "<div>\n",
       "<style scoped>\n",
       "    .dataframe tbody tr th:only-of-type {\n",
       "        vertical-align: middle;\n",
       "    }\n",
       "\n",
       "    .dataframe tbody tr th {\n",
       "        vertical-align: top;\n",
       "    }\n",
       "\n",
       "    .dataframe thead th {\n",
       "        text-align: right;\n",
       "    }\n",
       "</style>\n",
       "<table border=\"1\" class=\"dataframe\">\n",
       "  <thead>\n",
       "    <tr style=\"text-align: right;\">\n",
       "      <th>preserved</th>\n",
       "      <th>common_names</th>\n",
       "      <th>Not Regular</th>\n",
       "      <th>%</th>\n",
       "    </tr>\n",
       "  </thead>\n",
       "  <tbody>\n",
       "    <tr>\n",
       "      <th>0</th>\n",
       "      <td>Lahontan Cutthroat Trout</td>\n",
       "      <td>1</td>\n",
       "      <td>25.0</td>\n",
       "    </tr>\n",
       "    <tr>\n",
       "      <th>1</th>\n",
       "      <td>Rainbow Trout</td>\n",
       "      <td>1</td>\n",
       "      <td>25.0</td>\n",
       "    </tr>\n",
       "    <tr>\n",
       "      <th>2</th>\n",
       "      <td>Spotfin Chub</td>\n",
       "      <td>1</td>\n",
       "      <td>25.0</td>\n",
       "    </tr>\n",
       "    <tr>\n",
       "      <th>3</th>\n",
       "      <td>Yellowfin Madtom</td>\n",
       "      <td>1</td>\n",
       "      <td>25.0</td>\n",
       "    </tr>\n",
       "  </tbody>\n",
       "</table>\n",
       "</div>"
      ],
      "text/plain": [
       "preserved              common_names  Not Regular     %\n",
       "0          Lahontan Cutthroat Trout            1  25.0\n",
       "1                     Rainbow Trout            1  25.0\n",
       "2                      Spotfin Chub            1  25.0\n",
       "3                  Yellowfin Madtom            1  25.0"
      ]
     },
     "execution_count": 25,
     "metadata": {},
     "output_type": "execute_result"
    }
   ],
   "source": [
    "fish = df_species[(df_species['category'] == 'Fish') & (df_species['conservation_status'] == 'Threatened')]\\\n",
    ".groupby(['common_names', 'preserved'])['preserved'].count().unstack().reset_index()\n",
    "\n",
    "fish['%'] = (fish['Not Regular'] / fish['Not Regular'].sum()) * 100 \n",
    "print(fish.shape)\n",
    "\n",
    "fish.sort_values('Not Regular', ascending=False).head()"
   ]
  },
  {
   "cell_type": "markdown",
   "metadata": {},
   "source": [
    "`Trout` has the 50% of `Threatened` species"
   ]
  },
  {
   "cell_type": "markdown",
   "metadata": {},
   "source": [
    "#### 3.5 Endangered species\n",
    "\n",
    "`Mammal` is the specie with highest `Endangered` rank."
   ]
  },
  {
   "cell_type": "code",
   "execution_count": 26,
   "metadata": {},
   "outputs": [
    {
     "name": "stdout",
     "output_type": "stream",
     "text": [
      "(5, 3)\n"
     ]
    },
    {
     "data": {
      "text/html": [
       "<div>\n",
       "<style scoped>\n",
       "    .dataframe tbody tr th:only-of-type {\n",
       "        vertical-align: middle;\n",
       "    }\n",
       "\n",
       "    .dataframe tbody tr th {\n",
       "        vertical-align: top;\n",
       "    }\n",
       "\n",
       "    .dataframe thead th {\n",
       "        text-align: right;\n",
       "    }\n",
       "</style>\n",
       "<table border=\"1\" class=\"dataframe\">\n",
       "  <thead>\n",
       "    <tr style=\"text-align: right;\">\n",
       "      <th>preserved</th>\n",
       "      <th>first_common_names</th>\n",
       "      <th>Not Regular</th>\n",
       "      <th>%</th>\n",
       "    </tr>\n",
       "  </thead>\n",
       "  <tbody>\n",
       "    <tr>\n",
       "      <th>1</th>\n",
       "      <td>Gray</td>\n",
       "      <td>3</td>\n",
       "      <td>42.857143</td>\n",
       "    </tr>\n",
       "    <tr>\n",
       "      <th>0</th>\n",
       "      <td>Carolina</td>\n",
       "      <td>1</td>\n",
       "      <td>14.285714</td>\n",
       "    </tr>\n",
       "    <tr>\n",
       "      <th>2</th>\n",
       "      <td>Indiana</td>\n",
       "      <td>1</td>\n",
       "      <td>14.285714</td>\n",
       "    </tr>\n",
       "    <tr>\n",
       "      <th>3</th>\n",
       "      <td>Red</td>\n",
       "      <td>1</td>\n",
       "      <td>14.285714</td>\n",
       "    </tr>\n",
       "    <tr>\n",
       "      <th>4</th>\n",
       "      <td>Sierra</td>\n",
       "      <td>1</td>\n",
       "      <td>14.285714</td>\n",
       "    </tr>\n",
       "  </tbody>\n",
       "</table>\n",
       "</div>"
      ],
      "text/plain": [
       "preserved first_common_names  Not Regular          %\n",
       "1                       Gray            3  42.857143\n",
       "0                   Carolina            1  14.285714\n",
       "2                    Indiana            1  14.285714\n",
       "3                        Red            1  14.285714\n",
       "4                     Sierra            1  14.285714"
      ]
     },
     "execution_count": 26,
     "metadata": {},
     "output_type": "execute_result"
    }
   ],
   "source": [
    "mammal = df_species[(df_species['category'] == 'Mammal') & (df_species['conservation_status'] == 'Endangered')]\\\n",
    ".groupby(['first_common_names', 'preserved'])['preserved'].count().unstack().reset_index()\n",
    "\n",
    "mammal['%'] = (mammal['Not Regular'] / mammal['Not Regular'].sum()) * 100 \n",
    "print(mammal.shape)\n",
    "\n",
    "mammal.sort_values('Not Regular', ascending=False).head()"
   ]
  },
  {
   "cell_type": "markdown",
   "metadata": {},
   "source": [
    "`Mammals` with `Gray` in the name represent 42% of the `Endangered` species. "
   ]
  },
  {
   "cell_type": "markdown",
   "metadata": {},
   "source": [
    "## Conclusions"
   ]
  },
  {
   "cell_type": "markdown",
   "metadata": {},
   "source": [
    "The project was able to make several data visualizations about the species in National Park. It is worth mentioning that the DataSet represents 7 days of observations.\n",
    "\n",
    "* What is the majority class of animals?\n",
    "\n",
    "  *Vascular Plant represent about 76.8% of the animal class in both parks.*\n",
    "\n",
    "  \n",
    "\n",
    "* Which species has the highest `Species of Concern` rank?\n",
    "\n",
    "  *Birds has the highest status, birds with 'Black' in the first name represents the majority status with 7%.*\n",
    "\n",
    "  \n",
    "\n",
    "* Which species has the highest `Threatened` rank?\n",
    "\n",
    "  *Fish has the highest Threatened status, the `Trout` represents the majority with 50%.*\n",
    "\n",
    "  \n",
    "\n",
    "* Which species  has the highest `Endangered` rank?\n",
    "\n",
    "  *Mammals has the highest Endangered status, mammals with 'Gray' in the name represents the majority status with 42%.*\n",
    "\n",
    " \n",
    "We can assume that Yellowstone National Park might be much larger than the other parks, which explain the largest observation and biodiversity status, for further research the area of all parks would be interesting,\n",
    "\n",
    "  "
   ]
  }
 ],
 "metadata": {
  "hide_input": false,
  "kernelspec": {
   "display_name": "Python 3",
   "language": "python",
   "name": "python3"
  },
  "language_info": {
   "codemirror_mode": {
    "name": "ipython",
    "version": 3
   },
   "file_extension": ".py",
   "mimetype": "text/x-python",
   "name": "python",
   "nbconvert_exporter": "python",
   "pygments_lexer": "ipython3",
   "version": "3.8.5"
  }
 },
 "nbformat": 4,
 "nbformat_minor": 4
}
